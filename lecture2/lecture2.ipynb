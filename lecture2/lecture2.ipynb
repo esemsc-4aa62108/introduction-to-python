{
 "cells": [
  {
   "cell_type": "code",
   "execution_count": 1,
   "metadata": {
    "editable": true,
    "execution": {
     "iopub.execute_input": "2024-07-24T13:41:53.859712Z",
     "iopub.status.busy": "2024-07-24T13:41:53.859477Z",
     "iopub.status.idle": "2024-07-24T13:41:54.326906Z",
     "shell.execute_reply": "2024-07-24T13:41:54.326321Z"
    },
    "slideshow": {
     "slide_type": ""
    },
    "tags": []
   },
   "outputs": [],
   "source": [
    "import pybryt\n",
    "from lecture import pybryt_reference"
   ]
  },
  {
   "cell_type": "markdown",
   "metadata": {
    "editable": true,
    "nbpresent": {
     "id": "82db8e87-ce21-4456-a53a-3f54a2fee020"
    },
    "slideshow": {
     "slide_type": "slide"
    },
    "tags": []
   },
   "source": [
    "# Introduction to Python\n",
    "\n",
    "# Lecture 2"
   ]
  },
  {
   "cell_type": "markdown",
   "metadata": {
    "editable": true,
    "nbpresent": {
     "id": "c9ae4148-a67c-4845-91ec-d17016071d1f"
    },
    "slideshow": {
     "slide_type": "slide"
    },
    "tags": []
   },
   "source": [
    "## Learning objectives:\n",
    "\n",
    "At the end of this lecture, you will be able to:\n",
    "\n",
    "* Modify elements in a `list`.\n",
    "* Iterate through different combinations of lists.\n",
    "* Use a `tuple` to store data elements and understand how it differs from a `list`.\n",
    "* Explain the difference between locally-scoped and globally-scoped variables.\n",
    "* Use an `if`-statement to execute some code blocks conditionally.\n",
    "* Perform computations using [Numerical Python (*NumPy*)](http://www.numpy.org/).\n",
    "* Handle multidimensional arrays."
   ]
  },
  {
   "cell_type": "markdown",
   "metadata": {
    "editable": true,
    "nbpresent": {
     "id": "f2af93fa-2e4b-46f7-b762-cf6df11749f8"
    },
    "slideshow": {
     "slide_type": "slide"
    },
    "tags": []
   },
   "source": [
    "# Changing elements in a list\n",
    "Let's say we want to add 2 to all the numbers in a list `v`. To do that, we have to use an index to access and modify its elements:"
   ]
  },
  {
   "cell_type": "code",
   "execution_count": 2,
   "metadata": {
    "editable": true,
    "execution": {
     "iopub.execute_input": "2024-07-24T13:41:54.329714Z",
     "iopub.status.busy": "2024-07-24T13:41:54.329215Z",
     "iopub.status.idle": "2024-07-24T13:41:54.332812Z",
     "shell.execute_reply": "2024-07-24T13:41:54.332207Z"
    },
    "nbpresent": {
     "id": "06618fed-61ff-443d-b1f2-0777a4719338"
    },
    "slideshow": {
     "slide_type": "fragment"
    },
    "tags": []
   },
   "outputs": [
    {
     "name": "stdout",
     "output_type": "stream",
     "text": [
      "List before modification: v=[-1, 1, 10]\n",
      "List after modification: v=[-1, 4, 10]\n"
     ]
    }
   ],
   "source": [
    "v = [-1, 1, 10]\n",
    "print(f\"List before modification: {v=}\")\n",
    "\n",
    "v[1] = 4  # assign 4 to the 2nd element (index 1) in v\n",
    "print(f\"List after modification: {v=}\")"
   ]
  },
  {
   "cell_type": "markdown",
   "metadata": {
    "editable": true,
    "nbpresent": {
     "id": "7ede01a3-9bb3-4a8a-9aa0-a31f76e8b424"
    },
    "slideshow": {
     "slide_type": "subslide"
    },
    "tags": []
   },
   "source": [
    "Please note how we used `{v=}` in f-string to add `v=` in front of the list.\n",
    "\n",
    "Now, to add 2 to all values we need a `for` loop over indices:"
   ]
  },
  {
   "cell_type": "code",
   "execution_count": 3,
   "metadata": {
    "editable": true,
    "execution": {
     "iopub.execute_input": "2024-07-24T13:41:54.334987Z",
     "iopub.status.busy": "2024-07-24T13:41:54.334588Z",
     "iopub.status.idle": "2024-07-24T13:41:54.338428Z",
     "shell.execute_reply": "2024-07-24T13:41:54.337296Z"
    },
    "nbpresent": {
     "id": "0358d409-1512-43e9-a94b-147ca8d61701"
    },
    "slideshow": {
     "slide_type": "fragment"
    },
    "tags": []
   },
   "outputs": [
    {
     "name": "stdout",
     "output_type": "stream",
     "text": [
      "[1, 3, 12]\n"
     ]
    }
   ],
   "source": [
    "v = [-1, 1, 10]\n",
    "for i in range(len(v)):\n",
    "    v[i] = v[i] + 2\n",
    "print(v)"
   ]
  },
  {
   "cell_type": "markdown",
   "metadata": {
    "editable": true,
    "slideshow": {
     "slide_type": ""
    },
    "tags": []
   },
   "source": [
    "Note that this time we iterate over the indices of the list elements\n",
    "\n",
    "```python\n",
    "for i in range(len(v)):\n",
    "    ...\n",
    "```\n",
    "\n",
    "instead of iterating over the values of elements in the list\n",
    "\n",
    "```python\n",
    "for e in v:\n",
    "    ...\n",
    "```"
   ]
  },
  {
   "cell_type": "markdown",
   "metadata": {
    "editable": true,
    "slideshow": {
     "slide_type": ""
    },
    "tags": []
   },
   "source": [
    "## `enumerate` built-in\n",
    "\n",
    "As we have seen previouly, we often need to use both the value of an element in a sequence and its index. Python provides a convenience built-in function `enumerate` to make this syntax clearer:"
   ]
  },
  {
   "cell_type": "code",
   "execution_count": 4,
   "metadata": {
    "editable": true,
    "execution": {
     "iopub.execute_input": "2024-07-24T13:41:54.340651Z",
     "iopub.status.busy": "2024-07-24T13:41:54.340325Z",
     "iopub.status.idle": "2024-07-24T13:41:54.344190Z",
     "shell.execute_reply": "2024-07-24T13:41:54.343716Z"
    },
    "slideshow": {
     "slide_type": ""
    },
    "tags": []
   },
   "outputs": [
    {
     "name": "stdout",
     "output_type": "stream",
     "text": [
      "[1, 3, 12]\n"
     ]
    }
   ],
   "source": [
    "v = [-1, 1, 10]\n",
    "for index, value in enumerate(v):\n",
    "    v[index] = value + 2\n",
    "\n",
    "print(v)"
   ]
  },
  {
   "cell_type": "markdown",
   "metadata": {
    "editable": true,
    "nbpresent": {
     "id": "e6d3aa98-dde7-4c7e-ae3d-a077d553fb3d"
    },
    "slideshow": {
     "slide_type": ""
    },
    "tags": []
   },
   "source": [
    "## Exercise 2.1: Create a list and modify it.\n",
    "\n",
    "Write a Python function `mult(vector, n)` which takes list `vector` and number `n` as input arguments. The function should multiply each element in the list by `n` using a `for` loop and return the resulting list."
   ]
  },
  {
   "cell_type": "code",
   "execution_count": 5,
   "metadata": {
    "editable": true,
    "execution": {
     "iopub.execute_input": "2024-07-24T13:41:54.346178Z",
     "iopub.status.busy": "2024-07-24T13:41:54.345870Z",
     "iopub.status.idle": "2024-07-24T13:41:54.348187Z",
     "shell.execute_reply": "2024-07-24T13:41:54.347716Z"
    },
    "nbpresent": {
     "id": "8183a872-d8d8-4a55-a14e-fd98afa3ecfc"
    },
    "slideshow": {
     "slide_type": ""
    },
    "tags": []
   },
   "outputs": [],
   "source": [
    "# Uncomment and modify the following lines. Do not change any variable names for testing purposes.\n",
    "\n",
    "def mult(vector, n):\n",
    "    for i, x in enumerate(vector):\n",
    "        vector[i] = x * n\n",
    "    return vector"
   ]
  },
  {
   "cell_type": "code",
   "execution_count": 6,
   "metadata": {
    "editable": true,
    "execution": {
     "iopub.execute_input": "2024-07-24T13:41:54.354488Z",
     "iopub.status.busy": "2024-07-24T13:41:54.354333Z",
     "iopub.status.idle": "2024-07-24T13:41:54.364212Z",
     "shell.execute_reply": "2024-07-24T13:41:54.363735Z"
    },
    "slideshow": {
     "slide_type": ""
    },
    "tags": [
     "pybryt"
    ]
   },
   "outputs": [
    {
     "name": "stdout",
     "output_type": "stream",
     "text": [
      "REFERENCE: exercise-2_1\n",
      "SATISFIED: True\n",
      "MESSAGES:\n",
      "  - SUCCESS: Great! You are iterating through list indices.\n",
      "  - SUCCESS: You are multiplying each element by n. Well done!\n",
      "  - SUCCESS: Wow! Your function returns the correct result.\n"
     ]
    }
   ],
   "source": [
    "with pybryt.check(pybryt_reference(2, 1)):\n",
    "    mult([2.1, 99.9, -10, 2], 3)"
   ]
  },
  {
   "cell_type": "code",
   "execution_count": 7,
   "metadata": {
    "editable": true,
    "execution": {
     "iopub.execute_input": "2024-07-24T13:41:54.366107Z",
     "iopub.status.busy": "2024-07-24T13:41:54.365821Z",
     "iopub.status.idle": "2024-07-24T13:41:54.369431Z",
     "shell.execute_reply": "2024-07-24T13:41:54.368885Z"
    },
    "slideshow": {
     "slide_type": ""
    },
    "tags": [
     "nbgrader"
    ]
   },
   "outputs": [],
   "source": [
    "import numbers\n",
    "import numpy as np\n",
    "\n",
    "res = mult([1, 1.1, 1.11], 4)\n",
    "assert np.allclose(res, [4, 4.4, 4.44])\n",
    "assert isinstance(res, list)\n",
    "assert all([isinstance(i, numbers.Real) for i in res])\n",
    "assert len(res) == 3\n",
    "\n",
    "### BEGIN HIDDEN TESTS\n",
    "assert callable(mult)\n",
    "assert mult([], 5) == []\n",
    "### END HIDDEN TESTS"
   ]
  },
  {
   "cell_type": "markdown",
   "metadata": {
    "editable": true,
    "nbpresent": {
     "id": "19cc8075-dfee-473f-912e-ec504dcde2f0"
    },
    "slideshow": {
     "slide_type": "slide"
    },
    "tags": []
   },
   "source": [
    "## Traversing multiple lists simultaneously: `zip(list1, list2, ...)`\n",
    "Let us consider how we can loop over elements in both `Cdegrees` and `Fdegrees` at the same time. One approach would be to use list indices:"
   ]
  },
  {
   "cell_type": "code",
   "execution_count": 8,
   "metadata": {
    "editable": true,
    "execution": {
     "iopub.execute_input": "2024-07-24T13:41:54.371498Z",
     "iopub.status.busy": "2024-07-24T13:41:54.371076Z",
     "iopub.status.idle": "2024-07-24T13:41:54.374769Z",
     "shell.execute_reply": "2024-07-24T13:41:54.374212Z"
    },
    "nbpresent": {
     "id": "6c699b8c-adcb-4a73-a1fa-b3c9bd61e2d6"
    },
    "slideshow": {
     "slide_type": "fragment"
    },
    "tags": []
   },
   "outputs": [
    {
     "name": "stdout",
     "output_type": "stream",
     "text": [
      "-20 -4.0\n",
      "-15 5.0\n",
      "-10 14.0\n",
      "-5 23.0\n",
      "0 32.0\n",
      "5 41.0\n",
      "10 50.0\n",
      "15 59.0\n",
      "20 68.0\n",
      "25 77.0\n",
      "30 86.0\n",
      "35 95.0\n",
      "40 104.0\n"
     ]
    }
   ],
   "source": [
    "# First, we have to recreate the data from lecture 1.\n",
    "Cdegrees = [deg for deg in range(-20, 41, 5)]\n",
    "Fdegrees = [(9/5)*deg + 32 for deg in Cdegrees]\n",
    "\n",
    "for i in range(len(Cdegrees)):\n",
    "    print(Cdegrees[i], Fdegrees[i])"
   ]
  },
  {
   "cell_type": "markdown",
   "metadata": {
    "editable": true,
    "nbpresent": {
     "id": "f3a61755-9040-4250-bddf-09ba66d940ad"
    },
    "slideshow": {
     "slide_type": "subslide"
    },
    "tags": []
   },
   "source": [
    "An alternative construct, regarded as more ”Pythonic”, uses the `zip` built-in function:"
   ]
  },
  {
   "cell_type": "code",
   "execution_count": 9,
   "metadata": {
    "editable": true,
    "execution": {
     "iopub.execute_input": "2024-07-24T13:41:54.376667Z",
     "iopub.status.busy": "2024-07-24T13:41:54.376515Z",
     "iopub.status.idle": "2024-07-24T13:41:54.379461Z",
     "shell.execute_reply": "2024-07-24T13:41:54.378928Z"
    },
    "nbpresent": {
     "id": "a3b3c9c8-b797-4bcb-8af0-301a0c2e81c1"
    },
    "slideshow": {
     "slide_type": "fragment"
    },
    "tags": []
   },
   "outputs": [
    {
     "name": "stdout",
     "output_type": "stream",
     "text": [
      "-20 -4.0\n",
      "-15 5.0\n",
      "-10 14.0\n",
      "-5 23.0\n",
      "0 32.0\n",
      "5 41.0\n",
      "10 50.0\n",
      "15 59.0\n",
      "20 68.0\n",
      "25 77.0\n",
      "30 86.0\n",
      "35 95.0\n",
      "40 104.0\n"
     ]
    }
   ],
   "source": [
    "for C, F in zip(Cdegrees, Fdegrees):\n",
    "    print(C, F)"
   ]
  },
  {
   "cell_type": "markdown",
   "metadata": {
    "editable": true,
    "nbpresent": {
     "id": "c38f5999-bdd5-4eba-b8b7-036d6883f1ff"
    },
    "slideshow": {
     "slide_type": "subslide"
    },
    "tags": []
   },
   "source": [
    "Using `zip`, we can also traverse three or more lists simultaneously:"
   ]
  },
  {
   "cell_type": "code",
   "execution_count": null,
   "metadata": {
    "editable": true,
    "execution": {
     "iopub.execute_input": "2024-07-24T13:41:54.381271Z",
     "iopub.status.busy": "2024-07-24T13:41:54.381122Z",
     "iopub.status.idle": "2024-07-24T13:41:54.384391Z",
     "shell.execute_reply": "2024-07-24T13:41:54.383817Z"
    },
    "nbpresent": {
     "id": "dfad409b-2ca3-4c4c-9578-4a3dfb1f1949"
    },
    "slideshow": {
     "slide_type": "fragment"
    },
    "tags": []
   },
   "outputs": [],
   "source": [
    "l1 = [3, 6, 1]\n",
    "l2 = [1, 1, 0]\n",
    "l3 = [9, 3, 2]\n",
    "\n",
    "for e1, e2, e3 in zip(l1, l2, l3):\n",
    "    print(f\"{e1 = }, {e2 = }, {e3 = }\")"
   ]
  },
  {
   "cell_type": "markdown",
   "metadata": {
    "editable": true,
    "nbpresent": {
     "id": "87213cfd-ba47-4fab-88e8-917cd5c5f183"
    },
    "slideshow": {
     "slide_type": "subslide"
    },
    "tags": []
   },
   "source": [
    "If the lists are of unequal length, then the loop stops when we reach the end of the shortest list. Experiment with this:"
   ]
  },
  {
   "cell_type": "code",
   "execution_count": 11,
   "metadata": {
    "editable": true,
    "execution": {
     "iopub.execute_input": "2024-07-24T13:41:54.386180Z",
     "iopub.status.busy": "2024-07-24T13:41:54.386030Z",
     "iopub.status.idle": "2024-07-24T13:41:54.389382Z",
     "shell.execute_reply": "2024-07-24T13:41:54.388828Z"
    },
    "nbpresent": {
     "id": "720d5ba3-4001-4abe-8956-a125c1f35845"
    },
    "slideshow": {
     "slide_type": "fragment"
    },
    "tags": []
   },
   "outputs": [
    {
     "name": "stdout",
     "output_type": "stream",
     "text": [
      "e1 = 3, e2 = 1, e3 = 9\n",
      "e1 = 6, e2 = 1, e3 = 3\n",
      "e1 = 1, e2 = 0, e3 = 2\n",
      "e1 = 4, e2 = 7, e3 = 0\n"
     ]
    }
   ],
   "source": [
    "l1 = [3, 6, 1, 4, 6]  # len(l1) == 5\n",
    "l2 = [1, 1, 0, 7]     # len(l2) == 4\n",
    "l3 = [9, 3, 2, 0, 9]  # len(l3) == 5\n",
    "\n",
    "for e1, e2, e3 in zip(l1, l2, l3):\n",
    "    print(f\"{e1 = }, {e2 = }, {e3 = }\")"
   ]
  },
  {
   "cell_type": "markdown",
   "metadata": {
    "editable": true,
    "nbpresent": {
     "id": "8ab146b4-7ec7-45b3-88a4-49860f5b6cc6"
    },
    "slideshow": {
     "slide_type": "slide"
    },
    "tags": []
   },
   "source": [
    "## Nested lists: list of lists\n",
    "A `list` can contain **any** object as its element, including another `list`. To illustrate this, consider storing the conversion table as a single Python list rather than two separate lists:"
   ]
  },
  {
   "cell_type": "code",
   "execution_count": null,
   "metadata": {
    "editable": true,
    "execution": {
     "iopub.execute_input": "2024-07-24T13:41:54.391479Z",
     "iopub.status.busy": "2024-07-24T13:41:54.391185Z",
     "iopub.status.idle": "2024-07-24T13:41:54.394862Z",
     "shell.execute_reply": "2024-07-24T13:41:54.394294Z"
    },
    "nbpresent": {
     "id": "a6fcd4d1-9f61-4b3b-8ec3-12843952ec20"
    },
    "slideshow": {
     "slide_type": "fragment"
    },
    "tags": []
   },
   "outputs": [],
   "source": [
    "Cdegrees = [C for C in range(-20, 41, 5)]\n",
    "Fdegrees = [(9/5)*C + 32 for C in Cdegrees]\n",
    "table1 = [Cdegrees, Fdegrees]  # List of two lists\n",
    "\n",
    "print(f\"{table1 = }\")\n",
    "print(f\"{table1[0] = }\")  # access the first element of list table1 - Cdegrees list\n",
    "print(f\"{table1[1] = }\")  # access the second element of list table1 - Fdegrees list\n",
    "print(f\"{table1[1][3] = }\")  # access 4th element in the 2nd list"
   ]
  },
  {
   "cell_type": "markdown",
   "metadata": {
    "editable": true,
    "nbpresent": {
     "id": "89a35110-151d-4836-8dde-76da53991134"
    },
    "slideshow": {
     "slide_type": "subslide"
    },
    "tags": []
   },
   "source": [
    "This gives us a table with two rows. How do we create a table of columns instead:"
   ]
  },
  {
   "cell_type": "code",
   "execution_count": null,
   "metadata": {
    "editable": true,
    "execution": {
     "iopub.execute_input": "2024-07-24T13:41:54.396915Z",
     "iopub.status.busy": "2024-07-24T13:41:54.396603Z",
     "iopub.status.idle": "2024-07-24T13:41:54.399844Z",
     "shell.execute_reply": "2024-07-24T13:41:54.399252Z"
    },
    "nbpresent": {
     "id": "950a8775-cf1b-4b7b-a571-b79406b0f1e5"
    },
    "slideshow": {
     "slide_type": "fragment"
    },
    "tags": []
   },
   "outputs": [],
   "source": [
    "table2 = []\n",
    "for C, F in zip(Cdegrees, Fdegrees):\n",
    "    row = [C, F]\n",
    "    table2.append(row)\n",
    "\n",
    "print(table2)"
   ]
  },
  {
   "cell_type": "markdown",
   "metadata": {
    "editable": true,
    "nbpresent": {
     "id": "51044f5c-75c9-4bdc-be04-0c8953317416"
    },
    "slideshow": {
     "slide_type": "subslide"
    },
    "tags": []
   },
   "source": [
    "We can also use list comprehension to do this more elegantly:"
   ]
  },
  {
   "cell_type": "code",
   "execution_count": null,
   "metadata": {
    "editable": true,
    "execution": {
     "iopub.execute_input": "2024-07-24T13:41:54.401833Z",
     "iopub.status.busy": "2024-07-24T13:41:54.401527Z",
     "iopub.status.idle": "2024-07-24T13:41:54.404607Z",
     "shell.execute_reply": "2024-07-24T13:41:54.404034Z"
    },
    "nbpresent": {
     "id": "c747c897-af59-46a2-b52f-de9dcd1b7762"
    },
    "slideshow": {
     "slide_type": "fragment"
    },
    "tags": []
   },
   "outputs": [],
   "source": [
    "table2 = [[C, F] for C, F in zip(Cdegrees, Fdegrees)]\n",
    "print(table2)"
   ]
  },
  {
   "cell_type": "markdown",
   "metadata": {
    "editable": true,
    "nbpresent": {
     "id": "b7dd1233-53f8-43ed-ba94-fbca4f4def19"
    },
    "slideshow": {
     "slide_type": "subslide"
    },
    "tags": []
   },
   "source": [
    "And we can loop through this list as before:"
   ]
  },
  {
   "cell_type": "code",
   "execution_count": null,
   "metadata": {
    "editable": true,
    "execution": {
     "iopub.execute_input": "2024-07-24T13:41:54.406687Z",
     "iopub.status.busy": "2024-07-24T13:41:54.406290Z",
     "iopub.status.idle": "2024-07-24T13:41:54.409492Z",
     "shell.execute_reply": "2024-07-24T13:41:54.408953Z"
    },
    "nbpresent": {
     "id": "3eeeb7bf-67f7-49bc-88a3-11ccff9a3a6d"
    },
    "slideshow": {
     "slide_type": "fragment"
    },
    "tags": []
   },
   "outputs": [],
   "source": [
    "for C, F in table2:\n",
    "    print(C, F)"
   ]
  },
  {
   "cell_type": "markdown",
   "metadata": {
    "editable": true,
    "slideshow": {
     "slide_type": ""
    },
    "tags": []
   },
   "source": [
    "Since elements of `table2` are length-2 lists, in each iteration, we *unpack* each of the length-2 elements to `C` and `F`."
   ]
  },
  {
   "cell_type": "markdown",
   "metadata": {
    "editable": true,
    "nbpresent": {
     "id": "0fc837cc-fdec-435c-8ccf-a22a7a743a0d"
    },
    "slideshow": {
     "slide_type": "slide"
    },
    "tags": []
   },
   "source": [
    "## Tuples: lists that cannot be changed\n",
    "\n",
    "Tuples are **constant** lists, i.e. we can use them in much the same way as lists except we cannot modify them. They are an example of an [**immutable**](http://en.wikipedia.org/wiki/Immutable_object) type."
   ]
  },
  {
   "cell_type": "code",
   "execution_count": null,
   "metadata": {
    "editable": true,
    "execution": {
     "iopub.execute_input": "2024-07-24T13:41:54.411389Z",
     "iopub.status.busy": "2024-07-24T13:41:54.411240Z",
     "iopub.status.idle": "2024-07-24T13:41:54.413767Z",
     "shell.execute_reply": "2024-07-24T13:41:54.413260Z"
    },
    "nbpresent": {
     "id": "0095674c-61c3-4972-a8dd-47a223010482"
    },
    "slideshow": {
     "slide_type": "fragment"
    },
    "tags": []
   },
   "outputs": [],
   "source": [
    "t = (2, 4, 6, \"temp.pdf\")  # Define a tuple.\n",
    "t = 2, 4, 6, \"temp.pdf\"    # Can skip parenthesis as it is assumed in this context."
   ]
  },
  {
   "cell_type": "markdown",
   "metadata": {
    "editable": true,
    "nbpresent": {
     "id": "032624f9-fdc9-488f-881c-9a1329ca393c"
    },
    "slideshow": {
     "slide_type": "subslide"
    },
    "tags": []
   },
   "source": [
    "Let us see what happens when we try to modify the tuple like we did with a list:"
   ]
  },
  {
   "cell_type": "markdown",
   "metadata": {
    "editable": true,
    "nbpresent": {
     "id": "56f3d86e-714a-4475-8540-605cf08aadcd"
    },
    "slideshow": {
     "slide_type": "fragment"
    },
    "tags": []
   },
   "source": [
    "```python\n",
    "t[1] = -1\n",
    "\n",
    "---------------------------------------------------------------------------\n",
    "TypeError                                 Traceback (most recent call last)\n",
    "<ipython-input-3-593c03edf054> in <module>()\n",
    "----> 1 t[1] = -1\n",
    "\n",
    "TypeError: 'tuple' object does not support item assignment\n",
    "```"
   ]
  },
  {
   "cell_type": "markdown",
   "metadata": {
    "editable": true,
    "nbpresent": {
     "id": "dfdb2267-7c95-466a-8bc4-9ebddd4bfd23"
    },
    "slideshow": {
     "slide_type": "subslide"
    },
    "tags": []
   },
   "source": [
    "```python\n",
    "t.append(0)\n",
    "\n",
    "---------------------------------------------------------------------------\n",
    "AttributeError                            Traceback (most recent call last)\n",
    "<ipython-input-19-78592bf72d62> in <module>()\n",
    "----> 1 t.append(0)\n",
    "\n",
    "AttributeError: 'tuple' object has no attribute 'append'\n",
    "```"
   ]
  },
  {
   "cell_type": "markdown",
   "metadata": {
    "editable": true,
    "nbpresent": {
     "id": "58223f11-d1d1-4857-850b-8d0749d15fc9"
    },
    "slideshow": {
     "slide_type": "subslide"
    },
    "tags": []
   },
   "source": [
    "```python\n",
    "del t[1]\n",
    "\n",
    "---------------------------------------------------------------------------\n",
    "TypeError                                 Traceback (most recent call last)\n",
    "<ipython-input-20-0193a527a912> in <module>()\n",
    "----> 1 del t[1]\n",
    "\n",
    "TypeError: 'tuple' object doesn't support item deletion\n",
    "```"
   ]
  },
  {
   "cell_type": "markdown",
   "metadata": {
    "editable": true,
    "nbpresent": {
     "id": "6786d3d8-b078-416b-9ea0-4da6945520bd"
    },
    "slideshow": {
     "slide_type": "subslide"
    },
    "tags": []
   },
   "source": [
    "However, we can use the tuple to compose a new tuple:"
   ]
  },
  {
   "cell_type": "code",
   "execution_count": null,
   "metadata": {
    "editable": true,
    "execution": {
     "iopub.execute_input": "2024-07-24T13:41:54.415895Z",
     "iopub.status.busy": "2024-07-24T13:41:54.415746Z",
     "iopub.status.idle": "2024-07-24T13:41:54.419478Z",
     "shell.execute_reply": "2024-07-24T13:41:54.418982Z"
    },
    "nbpresent": {
     "id": "a1b2cfa3-a234-4439-bd21-d717ff867609"
    },
    "slideshow": {
     "slide_type": "fragment"
    },
    "tags": []
   },
   "outputs": [],
   "source": [
    "t = t + (-1.0, -2.0)\n",
    "print(t)"
   ]
  },
  {
   "cell_type": "markdown",
   "metadata": {
    "editable": true,
    "nbpresent": {
     "id": "fde43ef7-d6f0-4e00-93c6-0d1df9df3854"
    },
    "slideshow": {
     "slide_type": "subslide"
    },
    "tags": []
   },
   "source": [
    "So, why would we use tuples when lists have more functionality?\n",
    "\n",
    "* Tuples are constant and thus *protected against accidental changes*.\n",
    "* Tuples are *faster* than lists.\n",
    "* Tuples are *widely used* in Python software (so you need to know about tuples to understand other people's code!)\n",
    "* Tuples (but not lists) are hashable and can be used as *keys in dictionaries* (more about dictionaries later)."
   ]
  },
  {
   "cell_type": "markdown",
   "metadata": {
    "editable": true,
    "slideshow": {
     "slide_type": ""
    },
    "tags": []
   },
   "source": [
    "**WARNING**: Tuples are actually not always immutable. If a tuple contains mutable elements, e.g. `list`, it is possible to change the tuple. Let us have a look at this example:"
   ]
  },
  {
   "cell_type": "code",
   "execution_count": 12,
   "metadata": {
    "editable": true,
    "execution": {
     "iopub.execute_input": "2024-07-24T13:41:54.421342Z",
     "iopub.status.busy": "2024-07-24T13:41:54.421188Z",
     "iopub.status.idle": "2024-07-24T13:41:54.424175Z",
     "shell.execute_reply": "2024-07-24T13:41:54.423600Z"
    },
    "slideshow": {
     "slide_type": ""
    },
    "tags": []
   },
   "outputs": [
    {
     "name": "stdout",
     "output_type": "stream",
     "text": [
      "(1, 2, [3, 4, 5])\n"
     ]
    }
   ],
   "source": [
    "t = (1, 2, [3, 4])\n",
    "t[2].append(5)  # we are appending 5 to the list which the tuple holds a reference of\n",
    "print(t)"
   ]
  },
  {
   "cell_type": "markdown",
   "metadata": {
    "editable": true,
    "slideshow": {
     "slide_type": ""
    },
    "tags": []
   },
   "source": [
    "Therefore, to ensure the tuple is immutable, it is necessary for it to contain only immutable elements. The best way to check if the tuple is actually mutable is to use the `hashable` function."
   ]
  },
  {
   "cell_type": "code",
   "execution_count": null,
   "metadata": {
    "editable": true,
    "execution": {
     "iopub.execute_input": "2024-07-24T13:41:54.426028Z",
     "iopub.status.busy": "2024-07-24T13:41:54.425874Z",
     "iopub.status.idle": "2024-07-24T13:41:54.429064Z",
     "shell.execute_reply": "2024-07-24T13:41:54.428533Z"
    },
    "slideshow": {
     "slide_type": ""
    },
    "tags": []
   },
   "outputs": [],
   "source": [
    "t = (1, 2, [3, 4])  # tuple contains a list which is a mutable type\n",
    "try:\n",
    "    hash(t)\n",
    "    print(f\"Tuple {t = } is immutable.\")\n",
    "except TypeError:\n",
    "    print(f\"Tuple {t = } is mutable.\")"
   ]
  },
  {
   "cell_type": "code",
   "execution_count": null,
   "metadata": {
    "editable": true,
    "execution": {
     "iopub.execute_input": "2024-07-24T13:41:54.430975Z",
     "iopub.status.busy": "2024-07-24T13:41:54.430812Z",
     "iopub.status.idle": "2024-07-24T13:41:54.434027Z",
     "shell.execute_reply": "2024-07-24T13:41:54.433487Z"
    },
    "slideshow": {
     "slide_type": ""
    },
    "tags": []
   },
   "outputs": [],
   "source": [
    "t = (1, 2, \"abc\", (5, 6))  # tuple contains only immutable types\n",
    "try:\n",
    "    hash(t)\n",
    "    print(f\"Tuple {t = } is immutable.\")\n",
    "except TypeError:\n",
    "    print(f\"Tuple {t = } is mutable.\")"
   ]
  },
  {
   "cell_type": "markdown",
   "metadata": {
    "editable": true,
    "slideshow": {
     "slide_type": ""
    },
    "tags": []
   },
   "source": [
    "What does it then mean that some types are mutable and some are not? We will talk about this in lecture 4."
   ]
  },
  {
   "cell_type": "markdown",
   "metadata": {
    "editable": true,
    "nbpresent": {
     "id": "490e889a-3913-458b-8370-2fb16070b37d"
    },
    "slideshow": {
     "slide_type": "slide"
    },
    "tags": []
   },
   "source": [
    "## Exercise 2.2: Make a table (a list of lists) of function values\n",
    "\n",
    "* Write a loop that evaluates the expression $y(t) = v_0 t − {1\\over2}gt^2$ for 11 evenly spaced $t$ values ranging from $0$, to $2v_0/g$ (remember that dividing a range into $n$ intervals results in $n+1$ values). You can assume that $v_0 = 1\\,$ms$^{-1}$ and $g = 9.81\\,$ms$^{-2}$.\n",
    "* Store the time values and displacement ($y$) values as a nested list, i.e.\n",
    "```python\n",
    "tlist = [t0, t1, t2, ...]\n",
    "ylist = [y0, y1, y2, ...]\n",
    "displacement = [tlist, ylist]\n",
    "```\n",
    "* Use the variable names `tlist`, `ylist` and `displacement` as illustrated in the above example for testing purposes."
   ]
  },
  {
   "cell_type": "code",
   "execution_count": 5,
   "metadata": {
    "editable": true,
    "execution": {
     "iopub.execute_input": "2024-07-24T13:41:54.435933Z",
     "iopub.status.busy": "2024-07-24T13:41:54.435780Z",
     "iopub.status.idle": "2024-07-24T13:41:54.438049Z",
     "shell.execute_reply": "2024-07-24T13:41:54.437552Z"
    },
    "nbpresent": {
     "id": "270a3317-0720-4cb3-8a81-083445ec3330"
    },
    "slideshow": {
     "slide_type": "subslide"
    },
    "tags": []
   },
   "outputs": [],
   "source": [
    "# Uncomment and modify the following lines. Do not change variable names for testing purposes.\n",
    "v0 = 1\n",
    "g = 9.81\n",
    "\n",
    "tlist = []\n",
    "ylist = []\n",
    "displacement = []\n",
    "\n",
    "t = 0\n",
    "for _ in range(11):\n",
    "    tlist.append(t)\n",
    "    y = v0 * t - 0.5 * g * t**2\n",
    "    ylist.append(y)\n",
    "    t += (2*v0 / g) / 10\n",
    "displacement.append(tlist)\n",
    "displacement.append(ylist)\n"
   ]
  },
  {
   "cell_type": "code",
   "execution_count": 7,
   "metadata": {
    "editable": true,
    "execution": {
     "iopub.execute_input": "2024-07-24T13:41:54.444792Z",
     "iopub.status.busy": "2024-07-24T13:41:54.444635Z",
     "iopub.status.idle": "2024-07-24T13:41:54.451249Z",
     "shell.execute_reply": "2024-07-24T13:41:54.450766Z"
    },
    "slideshow": {
     "slide_type": ""
    },
    "tags": [
     "pybryt"
    ]
   },
   "outputs": [
    {
     "name": "stdout",
     "output_type": "stream",
     "text": [
      "REFERENCE: exercise-2_2\n",
      "SATISFIED: True\n",
      "MESSAGES:\n",
      "  - SUCCESS: You generated tlist correctly. Great!\n",
      "  - SUCCESS: Your ylist is correct. Well done!\n"
     ]
    }
   ],
   "source": [
    "with pybryt.check(pybryt_reference(2, 2)):\n",
    "    tlist, ylist, displacement"
   ]
  },
  {
   "cell_type": "code",
   "execution_count": 8,
   "metadata": {
    "editable": true,
    "execution": {
     "iopub.execute_input": "2024-07-24T13:41:54.453171Z",
     "iopub.status.busy": "2024-07-24T13:41:54.452866Z",
     "iopub.status.idle": "2024-07-24T13:41:54.457616Z",
     "shell.execute_reply": "2024-07-24T13:41:54.457138Z"
    },
    "slideshow": {
     "slide_type": ""
    },
    "tags": [
     "nbgrader"
    ]
   },
   "outputs": [],
   "source": [
    "import numbers\n",
    "import numpy as np\n",
    "\n",
    "assert isinstance(tlist, list)\n",
    "assert isinstance(ylist, list)\n",
    "assert isinstance(displacement, list)\n",
    "\n",
    "assert np.isclose(tlist[0], 0)\n",
    "assert np.isclose(tlist[-1], 0.2038735983690112)\n",
    "assert np.isclose(ylist[0], 0)\n",
    "assert np.isclose(ylist[-1], 0)\n",
    "\n",
    "assert len(tlist) == len(ylist) == 11\n",
    "\n",
    "\n",
    "### BEGIN HIDDEN TESTS\n",
    "assert all([isinstance(i, numbers.Real) for i in tlist])\n",
    "assert all([isinstance(i, numbers.Real) for i in ylist])\n",
    "\n",
    "assert all([isinstance(i, list) for i in displacement])\n",
    "assert all([isinstance(i, numbers.Real) for i in displacement[0]])\n",
    "assert all([isinstance(i, numbers.Real) for i in displacement[0]])\n",
    "\n",
    "assert np.allclose(displacement[0], tlist)\n",
    "assert np.allclose(displacement[1], ylist)\n",
    "### END HIDDEN TESTS"
   ]
  },
  {
   "cell_type": "markdown",
   "metadata": {
    "editable": true,
    "nbpresent": {
     "id": "e5c7ed02-153d-409a-a595-93528696a35e"
    },
    "slideshow": {
     "slide_type": "slide"
    },
    "tags": []
   },
   "source": [
    "## The `if` construct\n",
    "Let us consider we need to program the following function:\n",
    "$$\n",
    "f(x)= \n",
    "\\begin{cases}\n",
    "    \\sin(x),& \\text{if } 0 \\leq x \\leq \\pi\\\\\n",
    "    0,              & \\text{otherwise}\n",
    "\\end{cases}\n",
    "$$\n",
    "To do this, we need the `if` construct:"
   ]
  },
  {
   "cell_type": "code",
   "execution_count": 9,
   "metadata": {
    "editable": true,
    "execution": {
     "iopub.execute_input": "2024-07-24T13:41:54.459554Z",
     "iopub.status.busy": "2024-07-24T13:41:54.459245Z",
     "iopub.status.idle": "2024-07-24T13:41:54.462750Z",
     "shell.execute_reply": "2024-07-24T13:41:54.462221Z"
    },
    "nbpresent": {
     "id": "b3ce7c44-884a-4602-94b1-e647ddf5ac88"
    },
    "slideshow": {
     "slide_type": "fragment"
    },
    "tags": []
   },
   "outputs": [
    {
     "name": "stdout",
     "output_type": "stream",
     "text": [
      "f(-pi/2) = 0\n",
      "f(pi/2) = 1.0\n",
      "f(3*pi/2) = 0\n"
     ]
    }
   ],
   "source": [
    "from math import sin, pi\n",
    "\n",
    "\n",
    "def f(x):\n",
    "    if 0 <= x <= pi:\n",
    "        return sin(x)\n",
    "    else:\n",
    "        return 0\n",
    "\n",
    "\n",
    "print(f\"{f(-pi/2) = }\")\n",
    "print(f\"{f(pi/2) = }\")\n",
    "print(f\"{f(3*pi/2) = }\")"
   ]
  },
  {
   "cell_type": "markdown",
   "metadata": {
    "editable": true,
    "nbpresent": {
     "id": "3abe0d4c-8b40-4710-8198-c60707fe67a5"
    },
    "slideshow": {
     "slide_type": "subslide"
    },
    "tags": []
   },
   "source": [
    "Please note the indentations we used to define which statements belong to which condition. Sometimes, it is clearer to write this as a conditional expression:"
   ]
  },
  {
   "cell_type": "code",
   "execution_count": null,
   "metadata": {
    "editable": true,
    "execution": {
     "iopub.execute_input": "2024-07-24T13:41:54.464589Z",
     "iopub.status.busy": "2024-07-24T13:41:54.464437Z",
     "iopub.status.idle": "2024-07-24T13:41:54.467774Z",
     "shell.execute_reply": "2024-07-24T13:41:54.467191Z"
    },
    "nbpresent": {
     "id": "1f47e475-25a2-4a5b-89dd-7f66d2f4b30f"
    },
    "slideshow": {
     "slide_type": "fragment"
    },
    "tags": []
   },
   "outputs": [],
   "source": [
    "def f(x):\n",
    "    return sin(x) if 0 <= x <= pi else 0\n",
    "\n",
    "\n",
    "print(\"f(-pi/2) =\", f(-pi/2))\n",
    "print(\"f(pi/2) =\", f(pi/2))\n",
    "print(\"f(3*pi/2) =\", f(3*pi/2))"
   ]
  },
  {
   "cell_type": "markdown",
   "metadata": {
    "editable": true,
    "nbpresent": {
     "id": "8f2b5db4-b6d4-460e-a902-a8cbc99fef87"
    },
    "slideshow": {
     "slide_type": "subslide"
    },
    "tags": []
   },
   "source": [
    "The `else` block can be skipped if there are no statements to be executed when `False`. In general, we can put together multiple conditions. Only the first condition that is `True` is executed.\n",
    "\n",
    "```python\n",
    "if condition1:\n",
    "    <block of statements, executed if condition1 is True>\n",
    "elif condition2:\n",
    "    <block of statements, executed if condition1 is False and condition2 is True>\n",
    "elif condition3:\n",
    "    <block of statements, executed if conditions 1 and 2 are False and condition3 is True>\n",
    "else:\n",
    "    <block of statements, executed if conditions 1, 2, and 3 are False>\n",
    "    \n",
    "<next statement of the program>\n",
    "```"
   ]
  },
  {
   "cell_type": "markdown",
   "metadata": {
    "editable": true,
    "nbpresent": {
     "id": "27c74d2e-711a-4130-85e1-a16a5983c101"
    },
    "slideshow": {
     "slide_type": "slide"
    },
    "tags": []
   },
   "source": [
    "## Exercise 2.3: Express a step (Heaviside) function as a Python function\n",
    "The following \"step\" function is known as the Heaviside function and it is widely used in mathematics:\n",
    "$$\n",
    "H(x)=\n",
    "\\begin{cases}\n",
    "    0, & \\text{if}\\; x < 0\\\\\n",
    "    1, & \\text{if}\\; x \\ge 0.\n",
    "\\end{cases}\n",
    "$$\n",
    "Write a Python function `heaviside(x)` that computes $H(x)$."
   ]
  },
  {
   "cell_type": "code",
   "execution_count": 10,
   "metadata": {
    "editable": true,
    "execution": {
     "iopub.execute_input": "2024-07-24T13:41:54.469696Z",
     "iopub.status.busy": "2024-07-24T13:41:54.469543Z",
     "iopub.status.idle": "2024-07-24T13:41:54.471853Z",
     "shell.execute_reply": "2024-07-24T13:41:54.471351Z"
    },
    "nbpresent": {
     "id": "110a818c-1c96-43cb-811b-47340d649582"
    },
    "slideshow": {
     "slide_type": "subslide"
    },
    "tags": []
   },
   "outputs": [],
   "source": [
    "# Uncomment and modify the following lines. Do not change variable names for testing purposes.\n",
    "\n",
    "def heaviside(x):\n",
    "    if x < 0:\n",
    "        return 0\n",
    "    else:\n",
    "        return 1"
   ]
  },
  {
   "cell_type": "code",
   "execution_count": 11,
   "metadata": {
    "editable": true,
    "execution": {
     "iopub.execute_input": "2024-07-24T13:41:54.478142Z",
     "iopub.status.busy": "2024-07-24T13:41:54.477973Z",
     "iopub.status.idle": "2024-07-24T13:41:54.484274Z",
     "shell.execute_reply": "2024-07-24T13:41:54.483778Z"
    },
    "slideshow": {
     "slide_type": ""
    },
    "tags": [
     "pybryt"
    ]
   },
   "outputs": [
    {
     "name": "stdout",
     "output_type": "stream",
     "text": [
      "REFERENCE: exercise-2_3\n",
      "SATISFIED: True\n",
      "MESSAGES:\n",
      "  - SUCCESS: Your function returns correct value for negative x.\n",
      "  - SUCCESS: Your function returns correct value for positive x. Well done!\n",
      "  - SUCCESS: Amazing! Your function returns correct value for x=0.\n"
     ]
    }
   ],
   "source": [
    "with pybryt.check(pybryt_reference(2, 3)):\n",
    "    heaviside(-1000), heaviside(1000), heaviside(0)"
   ]
  },
  {
   "cell_type": "code",
   "execution_count": 12,
   "metadata": {
    "editable": true,
    "execution": {
     "iopub.execute_input": "2024-07-24T13:41:54.486204Z",
     "iopub.status.busy": "2024-07-24T13:41:54.486054Z",
     "iopub.status.idle": "2024-07-24T13:41:54.488869Z",
     "shell.execute_reply": "2024-07-24T13:41:54.488388Z"
    },
    "slideshow": {
     "slide_type": ""
    },
    "tags": [
     "nbgrader"
    ]
   },
   "outputs": [],
   "source": [
    "import numbers\n",
    "\n",
    "assert heaviside(-5.1) == 0\n",
    "assert heaviside(5.1) == 1\n",
    "assert heaviside(0) == 1\n",
    "\n",
    "### BEGIN HIDDEN TESTS\n",
    "assert callable(heaviside)\n",
    "assert isinstance(heaviside(6), numbers.Real)\n",
    "### END HIDDEN TESTS"
   ]
  },
  {
   "cell_type": "markdown",
   "metadata": {
    "editable": true,
    "slideshow": {
     "slide_type": ""
    },
    "tags": []
   },
   "source": [
    "## Exercise 2.4: Implement the factorial function\n",
    "\n",
    "The factorial of $n$, written as $n!$, is defined as\n",
    "\n",
    "$$n! = n(n − 1)(n − 2) \\cdot \\ldots \\cdot 2 \\cdot 1,$$\n",
    "\n",
    "with the special cases\n",
    "\n",
    "$$1! = 1, 0! = 1.$$\n",
    "\n",
    "For example, $4! = 4 \\cdot 3 \\cdot 2 \\cdot 1 = 24$, and $2! = 2 \\cdot 1 = 2$.\n",
    "\n",
    "Implement your own factorial function to calculate $n!$. Return $1$ immediately if $n$ is $1$ or $0$; otherwise use a loop to compute $n!$. You can use Python's own [math.factorial(x)](https://docs.python.org/3/library/math.html) to check your code."
   ]
  },
  {
   "cell_type": "code",
   "execution_count": 14,
   "metadata": {
    "editable": true,
    "execution": {
     "iopub.execute_input": "2024-07-24T13:41:54.490936Z",
     "iopub.status.busy": "2024-07-24T13:41:54.490627Z",
     "iopub.status.idle": "2024-07-24T13:41:54.493644Z",
     "shell.execute_reply": "2024-07-24T13:41:54.493157Z"
    },
    "slideshow": {
     "slide_type": ""
    },
    "tags": []
   },
   "outputs": [],
   "source": [
    "# Uncomment and complete this code - keep the names the same for testing purposes.\n",
    "\n",
    "def my_factorial(n):\n",
    "    if n == 1 or n == 0:\n",
    "        return 1\n",
    "    else:\n",
    "        mult = 1\n",
    "        curr = n\n",
    "        while curr > 0:\n",
    "            mult = curr * mult\n",
    "            curr -= 1\n",
    "        return mult"
   ]
  },
  {
   "cell_type": "code",
   "execution_count": 15,
   "metadata": {
    "editable": true,
    "execution": {
     "iopub.execute_input": "2024-07-24T13:41:54.500877Z",
     "iopub.status.busy": "2024-07-24T13:41:54.500564Z",
     "iopub.status.idle": "2024-07-24T13:41:54.512868Z",
     "shell.execute_reply": "2024-07-24T13:41:54.512402Z"
    },
    "slideshow": {
     "slide_type": ""
    },
    "tags": [
     "pybryt"
    ]
   },
   "outputs": [
    {
     "name": "stdout",
     "output_type": "stream",
     "text": [
      "REFERENCE: exercise-2_4\n",
      "SATISFIED: False\n",
      "MESSAGES:\n",
      "  - ERROR: You are not multiplying values correctly.\n",
      "  - SUCCESS: Your loop iterates over the correct values.\n",
      "  - SUCCESS: Your function computes factorial correctly. Well done!\n"
     ]
    }
   ],
   "source": [
    "with pybryt.check(pybryt_reference(2, 4)):\n",
    "    my_factorial(10)"
   ]
  },
  {
   "cell_type": "code",
   "execution_count": 16,
   "metadata": {
    "editable": true,
    "execution": {
     "iopub.execute_input": "2024-07-24T13:41:54.514774Z",
     "iopub.status.busy": "2024-07-24T13:41:54.514469Z",
     "iopub.status.idle": "2024-07-24T13:41:54.518052Z",
     "shell.execute_reply": "2024-07-24T13:41:54.517576Z"
    },
    "slideshow": {
     "slide_type": ""
    },
    "tags": [
     "nbgrader"
    ]
   },
   "outputs": [],
   "source": [
    "import numbers\n",
    "\n",
    "assert my_factorial(0) == 1\n",
    "assert my_factorial(1) == 1\n",
    "assert my_factorial(2) == 2\n",
    "assert my_factorial(5) == 120\n",
    "\n",
    "### BEGIN HIDDEN TESTS\n",
    "assert isinstance(my_factorial(5), numbers.Real)\n",
    "assert callable(my_factorial)\n",
    "### END HIDDEN TESTS"
   ]
  },
  {
   "cell_type": "markdown",
   "metadata": {
    "editable": true,
    "slideshow": {
     "slide_type": ""
    },
    "tags": []
   },
   "source": [
    "## Exercise 2.5: Compute the length of a path\n",
    "\n",
    "Some object is moving along a path in the plane. At $n$ points of time, we have recorded the corresponding $(x, y)$ positions of the object:\n",
    "$(x_0, y_0), (x_1, y_1), \\ldots, (x_{n-1}, y_{n-1})$. The total length $L$ of the path from $(x_0, y_0)$ to $(x_{n-1}, y_{n-1})$ is the sum of all the individual line segments $(x_{i-1}, y_{i-1})$ to $(x_i, y_i)$, $i = 1, \\ldots, n-1$:\n",
    "\n",
    "$$L = \\sum_{i=1}^{n-1}{\\sqrt{(x_i - x_{i-1})^2 + (y_i - y_{i-1})^2}}.$$\n",
    "\n",
    "Create a function `path_length(x, y)` for computing $L$ according to the formula. The arguments `x` and `y` are two lists that hold all the $x_0, \\ldots, x_{n-1}$ and $y_0, \\ldots, y_{n-1}$ coordinates, respectively. Test the function on a triangular path with the four points (1, 1), (2, 1), (1, 2), and (1, 1)."
   ]
  },
  {
   "cell_type": "code",
   "execution_count": 40,
   "metadata": {
    "editable": true,
    "execution": {
     "iopub.execute_input": "2024-07-24T13:41:54.519876Z",
     "iopub.status.busy": "2024-07-24T13:41:54.519672Z",
     "iopub.status.idle": "2024-07-24T13:41:54.521976Z",
     "shell.execute_reply": "2024-07-24T13:41:54.521497Z"
    },
    "slideshow": {
     "slide_type": ""
    },
    "tags": []
   },
   "outputs": [],
   "source": [
    "# Uncomment and complete this code - keep the names the same for testing purposes.\n",
    "\n",
    "def path_length(x, y):\n",
    "    total = 0\n",
    "    prev_x, prev_y = x[0], y[0]\n",
    "    for x_i, y_i in zip(x, y):\n",
    "        total += np.sqrt((x_i - prev_x)**2 + (y_i - prev_y)**2)\n",
    "        prev_x = x_i\n",
    "        prev_y = y_i\n",
    "    return total"
   ]
  },
  {
   "cell_type": "code",
   "execution_count": 41,
   "metadata": {},
   "outputs": [
    {
     "name": "stdout",
     "output_type": "stream",
     "text": [
      "1869.6641974677814\n"
     ]
    }
   ],
   "source": [
    "print(path_length([-100, 200, -561, 231], [11, 1.1, 2.9, 165.4]))"
   ]
  },
  {
   "cell_type": "code",
   "execution_count": 42,
   "metadata": {
    "editable": true,
    "execution": {
     "iopub.execute_input": "2024-07-24T13:41:54.528601Z",
     "iopub.status.busy": "2024-07-24T13:41:54.528446Z",
     "iopub.status.idle": "2024-07-24T13:41:54.537489Z",
     "shell.execute_reply": "2024-07-24T13:41:54.537025Z"
    },
    "slideshow": {
     "slide_type": ""
    },
    "tags": [
     "pybryt"
    ]
   },
   "outputs": [
    {
     "name": "stdout",
     "output_type": "stream",
     "text": [
      "REFERENCE: exercise-2_5\n",
      "SATISFIED: False\n",
      "MESSAGES:\n",
      "  - SUCCESS: Great! You are adding line segments to the total length.\n",
      "  - SUCCESS: You set the length to zero before the loop. Well done!\n",
      "  - ERROR: You are not computing the length of a single line segment correctly.\n",
      "  - SUCCESS: Wow! The path length your function returns is correct.\n"
     ]
    }
   ],
   "source": [
    "with pybryt.check(pybryt_reference(2, 5)):\n",
    "    path_length([-100, 200, -561, 231], [11, 1.1, 2.9, 165.4])"
   ]
  },
  {
   "cell_type": "code",
   "execution_count": 43,
   "metadata": {
    "editable": true,
    "execution": {
     "iopub.execute_input": "2024-07-24T13:41:54.539538Z",
     "iopub.status.busy": "2024-07-24T13:41:54.539236Z",
     "iopub.status.idle": "2024-07-24T13:41:54.542645Z",
     "shell.execute_reply": "2024-07-24T13:41:54.542158Z"
    },
    "slideshow": {
     "slide_type": ""
    },
    "tags": [
     "nbgrader"
    ]
   },
   "outputs": [],
   "source": [
    "import numbers\n",
    "import numpy as np\n",
    "\n",
    "res = path_length(x=[0, 0, 0, 0, 0], y=[0, 1, 2, 3, 4])\n",
    "assert np.isclose(res, 4)\n",
    "\n",
    "### BEGIN HIDDEN TESTS\n",
    "res = path_length(x=[0, 0, 0, 0, 0], y=[0, 0, 0, 0, 0])\n",
    "assert np.isclose(res, 0)\n",
    "assert isinstance(res, numbers.Real)\n",
    "assert callable(path_length)\n",
    "### END HIDDEN TESTS"
   ]
  },
  {
   "cell_type": "markdown",
   "metadata": {
    "editable": true,
    "slideshow": {
     "slide_type": ""
    },
    "tags": []
   },
   "source": [
    "## Exercise 2.6: Approximate $\\pi$\n",
    "\n",
    "As you know, the circumference of a circle is $2r\\pi$ where $r$ is the circle's radius. $\\pi$ is therefore the circumference of a circle with $r= \\frac{1}{2}$. We can approximate this circumference by a many-sided polygon through points on the circle. The sum of the lengths of the sides of the polygon will approximate the circumference.\n",
    "\n",
    "Firstly compute $n+1$ points around a circle according to the formulae:\n",
    "\n",
    "$ x_i = \\frac{1}{2} \\cos(\\frac{2 \\pi i}{n}),   y_i = \\frac{1}{2} \\sin(\\frac{2 \\pi i}{n}),   i = 0 \\cdots n$\n",
    "\n",
    "Then use your `path_length` function from the previous exercise to approximate $\\pi$. Name your function for estimating $\\pi$ `approx_pi` for testing purposes."
   ]
  },
  {
   "cell_type": "code",
   "execution_count": 44,
   "metadata": {
    "editable": true,
    "execution": {
     "iopub.execute_input": "2024-07-24T13:41:54.544576Z",
     "iopub.status.busy": "2024-07-24T13:41:54.544425Z",
     "iopub.status.idle": "2024-07-24T13:41:54.546681Z",
     "shell.execute_reply": "2024-07-24T13:41:54.546187Z"
    },
    "slideshow": {
     "slide_type": ""
    },
    "tags": []
   },
   "outputs": [],
   "source": [
    "# Uncomment and complete this code - keep the names the same for testing purposes.\n",
    "\n",
    "def approx_pi(n):\n",
    "    x = [0.5 * np.cos(2*np.pi*i/n) for i in range(n + 1)]\n",
    "    y = [0.5 * np.sin(2*np.pi*i/n) for i in range(n + 1)]\n",
    "    approx_circumference = path_length(x, y)\n",
    "    return approx_circumference"
   ]
  },
  {
   "cell_type": "code",
   "execution_count": 45,
   "metadata": {
    "editable": true,
    "execution": {
     "iopub.execute_input": "2024-07-24T13:41:54.553373Z",
     "iopub.status.busy": "2024-07-24T13:41:54.553221Z",
     "iopub.status.idle": "2024-07-24T13:41:54.637424Z",
     "shell.execute_reply": "2024-07-24T13:41:54.636952Z"
    },
    "slideshow": {
     "slide_type": ""
    },
    "tags": [
     "pybryt"
    ]
   },
   "outputs": [
    {
     "name": "stdout",
     "output_type": "stream",
     "text": [
      "REFERENCE: exercise-2_6\n",
      "SATISFIED: True\n",
      "MESSAGES:\n",
      "  - SUCCESS: Your computed x-coordinates are correct.\n",
      "  - SUCCESS: Your computed y-coordinates are correct.\n",
      "  - SUCCESS: Wow! Your final solution is correct.\n"
     ]
    }
   ],
   "source": [
    "with pybryt.check(pybryt_reference(2, 6)):\n",
    "    approx_pi(100)"
   ]
  },
  {
   "cell_type": "code",
   "execution_count": 46,
   "metadata": {
    "editable": true,
    "execution": {
     "iopub.execute_input": "2024-07-24T13:41:54.639489Z",
     "iopub.status.busy": "2024-07-24T13:41:54.639174Z",
     "iopub.status.idle": "2024-07-24T13:41:54.642448Z",
     "shell.execute_reply": "2024-07-24T13:41:54.641967Z"
    },
    "slideshow": {
     "slide_type": ""
    },
    "tags": [
     "nbgrader"
    ]
   },
   "outputs": [],
   "source": [
    "import numbers\n",
    "import numpy as np\n",
    "\n",
    "res = approx_pi(800)\n",
    "assert np.isclose(res, np.pi)\n",
    "\n",
    "### BEGIN HIDDEN TESTS\n",
    "assert isinstance(res, numbers.Real)\n",
    "assert callable(approx_pi)\n",
    "### END HIDDEN TESTS"
   ]
  },
  {
   "cell_type": "markdown",
   "metadata": {
    "editable": true,
    "slideshow": {
     "slide_type": ""
    },
    "tags": []
   },
   "source": [
    "## Exercise 2.7: Make a list of prime numbers\n",
    "\n",
    "Define a function called `prime_list` that lists all the prime numbers up to a given $n$. \n",
    "\n",
    "**Hint**: Google the *Sieve of Eratosthenes*."
   ]
  },
  {
   "cell_type": "code",
   "execution_count": 47,
   "metadata": {
    "editable": true,
    "execution": {
     "iopub.execute_input": "2024-07-24T13:41:54.644402Z",
     "iopub.status.busy": "2024-07-24T13:41:54.644098Z",
     "iopub.status.idle": "2024-07-24T13:41:54.646386Z",
     "shell.execute_reply": "2024-07-24T13:41:54.645914Z"
    },
    "slideshow": {
     "slide_type": ""
    },
    "tags": []
   },
   "outputs": [],
   "source": [
    "# Uncomment and complete this code - keep the names the same for testing purposes.\n",
    "\n",
    "def prime_list(n):\n",
    "    is_prime = [True for _ in range(n+1)]\n",
    "    p = 2\n",
    "    while p * p <= n:\n",
    "        if is_prime[p]:\n",
    "            for i in range(p*p, n+1, p):\n",
    "                is_prime[i] = False\n",
    "        p += 1\n",
    "    primes = []\n",
    "    for p in range(2, n+1):\n",
    "        if is_prime[p]:\n",
    "            primes.append(p)\n",
    "    return primes\n",
    "\n"
   ]
  },
  {
   "cell_type": "code",
   "execution_count": 48,
   "metadata": {
    "editable": true,
    "execution": {
     "iopub.execute_input": "2024-07-24T13:41:54.653316Z",
     "iopub.status.busy": "2024-07-24T13:41:54.653005Z",
     "iopub.status.idle": "2024-07-24T13:41:54.775238Z",
     "shell.execute_reply": "2024-07-24T13:41:54.774650Z"
    },
    "slideshow": {
     "slide_type": ""
    },
    "tags": [
     "pybryt"
    ]
   },
   "outputs": [
    {
     "name": "stdout",
     "output_type": "stream",
     "text": [
      "REFERENCE: exercise-2_7\n",
      "SATISFIED: True\n",
      "MESSAGES:\n",
      "  - SUCCESS: Great! You are finding primes correctly.\n",
      "  - SUCCESS: You create an empty list before the loop. Well done!.\n",
      "  - SUCCESS: Your function returns the right primes.\n"
     ]
    }
   ],
   "source": [
    "with pybryt.check(pybryt_reference(2, 7)):\n",
    "    prime_list(100)"
   ]
  },
  {
   "cell_type": "code",
   "execution_count": 49,
   "metadata": {
    "editable": true,
    "execution": {
     "iopub.execute_input": "2024-07-24T13:41:54.777408Z",
     "iopub.status.busy": "2024-07-24T13:41:54.777123Z",
     "iopub.status.idle": "2024-07-24T13:41:54.780934Z",
     "shell.execute_reply": "2024-07-24T13:41:54.780444Z"
    },
    "slideshow": {
     "slide_type": ""
    },
    "tags": [
     "nbgrader"
    ]
   },
   "outputs": [],
   "source": [
    "import numbers\n",
    "import numpy as np\n",
    "\n",
    "res = prime_list(100)\n",
    "assert isinstance(res, list)\n",
    "assert len(res) == 25\n",
    "assert prime_list(0) == []\n",
    "\n",
    "### BEGIN HIDDEN TESTS\n",
    "assert callable(prime_list)\n",
    "assert all([isinstance(i, numbers.Real) for i in res])\n",
    "assert np.allclose(prime_list(10), [2, 3, 5, 7])\n",
    "assert prime_list(100) == prime_list(99)\n",
    "### END HIDDEN TESTS"
   ]
  },
  {
   "cell_type": "markdown",
   "metadata": {
    "editable": true,
    "slideshow": {
     "slide_type": "slide"
    },
    "tags": []
   },
   "source": [
    "## Vectors and arrays\n",
    "\n",
    "You have known **vectors** since high school mathematics, e.g. point $(x, y)$ in the plane, point $(x, y, z)$ in space. In general, we can describe a vector $v$ as an $n$-tuple of numbers: $v=(v_0, \\ldots, v_{n-1})$. One way to store vectors in Python is by using sequences, e.g. *lists* or *tuples*: $v_i$ is stored as `v[i]`."
   ]
  },
  {
   "cell_type": "markdown",
   "metadata": {
    "editable": true,
    "slideshow": {
     "slide_type": "subslide"
    },
    "tags": []
   },
   "source": [
    "**Arrays** are a generalisation of vectors where we can have multiple indices: $A_{ij}$, $A_{ijk}$. In Python, this is represented as a nested list, accessed as `A[i][j]`, `A[i][j][k]`.\n",
    "\n",
    "**Example**: Matrices, a table of numbers with one index for the row and one for the column\n",
    "$$\n",
    "\\left\\lbrack\\begin{array}{cccc}\n",
    "0 & 12 & -1 & 5q\\cr\n",
    "11 & 5 & 5 & -2\n",
    "\\end{array}\\right\\rbrack\n",
    "\\hspace{1cm}\n",
    "A =\n",
    "\\left\\lbrack\\begin{array}{ccc}\n",
    "A_{0,0} & \\cdots &  A_{0,n-1}\\cr\n",
    "\\vdots & \\ddots &  \\vdots\\cr\n",
    "A_{m-1,0} & \\cdots & A_{m-1,n-1}\n",
    "\\end{array}\\right\\rbrack\n",
    "$$\n",
    "The number of indices in an array is the *number of dimensions*. Using these terms, a vector can be described as a one-dimensional array or dimension-1 array."
   ]
  },
  {
   "cell_type": "markdown",
   "metadata": {
    "editable": true,
    "slideshow": {
     "slide_type": "subslide"
    },
    "tags": []
   },
   "source": [
    "In practice, we use [Numerical Python (*NumPy*)](http://www.numpy.org/) arrays instead of lists to represent mathematical arrays because it is **much** faster for large arrays.\n",
    "\n",
    "Let us consider an example where we store $(x,y)$ points along a curve in Python lists and numpy arrays:"
   ]
  },
  {
   "cell_type": "code",
   "execution_count": null,
   "metadata": {
    "editable": true,
    "execution": {
     "iopub.execute_input": "2024-07-24T13:41:54.783187Z",
     "iopub.status.busy": "2024-07-24T13:41:54.782735Z",
     "iopub.status.idle": "2024-07-24T13:41:54.786381Z",
     "shell.execute_reply": "2024-07-24T13:41:54.785846Z"
    },
    "slideshow": {
     "slide_type": "subslide"
    },
    "tags": []
   },
   "outputs": [],
   "source": [
    "# Sample function\n",
    "def f(x):\n",
    "    return x**3\n",
    "\n",
    "\n",
    "# Generate n points in [0, 1]\n",
    "n = 5\n",
    "dx = 1 / (n-1)  # x spacing\n",
    "\n",
    "X = [i*dx for i in range(n)]  # Python list\n",
    "Y = [f(x) for x in X]\n",
    "\n",
    "# Turn these Python lists into Numerical Python (NumPy) arrays:\n",
    "import numpy as np  # as a convention, we import \"numpy as np\"\n",
    "\n",
    "x2 = np.array(X)\n",
    "y2 = np.array(Y)"
   ]
  },
  {
   "cell_type": "markdown",
   "metadata": {
    "editable": true,
    "slideshow": {
     "slide_type": "subslide"
    },
    "tags": []
   },
   "source": [
    "Instead of first making lists with $x$ and $y = f (x)$ data, and then turning lists into arrays, we can make NumPy arrays\n",
    "directly:"
   ]
  },
  {
   "cell_type": "code",
   "execution_count": null,
   "metadata": {
    "editable": true,
    "execution": {
     "iopub.execute_input": "2024-07-24T13:41:54.788440Z",
     "iopub.status.busy": "2024-07-24T13:41:54.788170Z",
     "iopub.status.idle": "2024-07-24T13:41:54.791202Z",
     "shell.execute_reply": "2024-07-24T13:41:54.790663Z"
    },
    "slideshow": {
     "slide_type": "fragment"
    },
    "tags": []
   },
   "outputs": [],
   "source": [
    "n = 5                        # number of points\n",
    "x2 = np.linspace(0, 1, n)    # generates n points between 0 and 1\n",
    "y2 = np.zeros(n)\n",
    "for i in range(n):\n",
    "    y2[i] = f(x2[i])"
   ]
  },
  {
   "cell_type": "markdown",
   "metadata": {
    "editable": true,
    "slideshow": {
     "slide_type": "subslide"
    },
    "tags": []
   },
   "source": [
    "List comprehensions create lists, not arrays, but we can do:"
   ]
  },
  {
   "cell_type": "code",
   "execution_count": null,
   "metadata": {
    "editable": true,
    "execution": {
     "iopub.execute_input": "2024-07-24T13:41:54.793100Z",
     "iopub.status.busy": "2024-07-24T13:41:54.792933Z",
     "iopub.status.idle": "2024-07-24T13:41:54.796036Z",
     "shell.execute_reply": "2024-07-24T13:41:54.795533Z"
    },
    "slideshow": {
     "slide_type": "fragment"
    },
    "tags": []
   },
   "outputs": [],
   "source": [
    "y2 = np.array([f(xi) for xi in x2])  # list -> array"
   ]
  },
  {
   "cell_type": "markdown",
   "metadata": {
    "editable": true,
    "slideshow": {
     "slide_type": ""
    },
    "tags": []
   },
   "source": [
    "Passing a list as an argument to some other function (like `np.array` in this case) is very common. Therefore, Python allows to omit the square brackets `[]`. This results in passing a *generator expression* which is both faster and more memory efficient."
   ]
  },
  {
   "cell_type": "code",
   "execution_count": null,
   "metadata": {
    "editable": true,
    "execution": {
     "iopub.execute_input": "2024-07-24T13:41:54.797825Z",
     "iopub.status.busy": "2024-07-24T13:41:54.797671Z",
     "iopub.status.idle": "2024-07-24T13:41:54.800302Z",
     "shell.execute_reply": "2024-07-24T13:41:54.799826Z"
    },
    "slideshow": {
     "slide_type": ""
    },
    "tags": []
   },
   "outputs": [],
   "source": [
    "y2 = np.array(f(xi) for xi in x2)"
   ]
  },
  {
   "cell_type": "markdown",
   "metadata": {
    "editable": true,
    "slideshow": {
     "slide_type": ""
    },
    "tags": []
   },
   "source": [
    "Since this is not the topic of this introduction to Python lecture series, if you would like to understand more, please refer to [PEP289](https://peps.python.org/pep-0289/)."
   ]
  },
  {
   "cell_type": "markdown",
   "metadata": {
    "editable": true,
    "slideshow": {
     "slide_type": "slide"
    },
    "tags": []
   },
   "source": [
    "### When and where to use NumPy arrays\n",
    "\n",
    "* Python lists can hold any sequence of any Python objects. However, NumPy arrays can only hold objects of the same type. We refer to NumPy arrays as flat sequences, whereas we refer to lists and tuples as containers (or container sequences).\n",
    "* Arrays are most efficient when the elements are basic number types (*float*, *int*, *complex*).\n",
    "* In that case, arrays are stored efficiently in the computer's memory, and we can compute very efficiently with the array elements.\n",
    "* We can compute mathematical operations on whole arrays without loops in Python. For example,"
   ]
  },
  {
   "cell_type": "code",
   "execution_count": null,
   "metadata": {
    "editable": true,
    "execution": {
     "iopub.execute_input": "2024-07-24T13:41:54.802321Z",
     "iopub.status.busy": "2024-07-24T13:41:54.802016Z",
     "iopub.status.idle": "2024-07-24T13:41:54.807608Z",
     "shell.execute_reply": "2024-07-24T13:41:54.807141Z"
    },
    "slideshow": {
     "slide_type": "subslide"
    },
    "tags": []
   },
   "outputs": [],
   "source": [
    "x = np.linspace(0, 2, 10001)\n",
    "y = np.zeros(10001)\n",
    "for i in range(len(x)):\n",
    "    y[i] = math.sin(x[i])"
   ]
  },
  {
   "cell_type": "markdown",
   "metadata": {
    "editable": true,
    "slideshow": {
     "slide_type": "fragment"
    },
    "tags": []
   },
   "source": [
    "can be coded as"
   ]
  },
  {
   "cell_type": "code",
   "execution_count": null,
   "metadata": {
    "editable": true,
    "execution": {
     "iopub.execute_input": "2024-07-24T13:41:54.809630Z",
     "iopub.status.busy": "2024-07-24T13:41:54.809320Z",
     "iopub.status.idle": "2024-07-24T13:41:54.812048Z",
     "shell.execute_reply": "2024-07-24T13:41:54.811468Z"
    },
    "slideshow": {
     "slide_type": "fragment"
    },
    "tags": []
   },
   "outputs": [],
   "source": [
    "y = np.sin(x)"
   ]
  },
  {
   "cell_type": "markdown",
   "metadata": {
    "editable": true,
    "slideshow": {
     "slide_type": "subslide"
    },
    "tags": []
   },
   "source": [
    "In the latter case, the loop over all elements is now performed in an efficient C-function. Instead of using Python `for`-loops, operations on whole arrays are called vectorisation, and they are a very **convenient**, **efficient**, and therefore an **important** programming technique to master."
   ]
  },
  {
   "cell_type": "markdown",
   "metadata": {
    "editable": true,
    "slideshow": {
     "slide_type": "subslide"
    },
    "tags": []
   },
   "source": [
    "Let us consider a simple vectorisation example: a loop to compute $x$ coordinates (`x2`) and $y=f(x)$ coordinates (`y2`) along a function curve:"
   ]
  },
  {
   "cell_type": "code",
   "execution_count": null,
   "metadata": {
    "editable": true,
    "execution": {
     "iopub.execute_input": "2024-07-24T13:41:54.814139Z",
     "iopub.status.busy": "2024-07-24T13:41:54.813819Z",
     "iopub.status.idle": "2024-07-24T13:41:54.816656Z",
     "shell.execute_reply": "2024-07-24T13:41:54.816185Z"
    },
    "slideshow": {
     "slide_type": "fragment"
    },
    "tags": []
   },
   "outputs": [],
   "source": [
    "x2 = np.linspace(0, 1, n)\n",
    "y2 = np.zeros(n)\n",
    "for i in range(n):\n",
    "    y2[i] = f(x2[i])"
   ]
  },
  {
   "cell_type": "markdown",
   "metadata": {
    "editable": true,
    "slideshow": {
     "slide_type": "fragment"
    },
    "tags": []
   },
   "source": [
    "This computation can be replaced by:"
   ]
  },
  {
   "cell_type": "code",
   "execution_count": null,
   "metadata": {
    "editable": true,
    "execution": {
     "iopub.execute_input": "2024-07-24T13:41:54.818785Z",
     "iopub.status.busy": "2024-07-24T13:41:54.818405Z",
     "iopub.status.idle": "2024-07-24T13:41:54.821183Z",
     "shell.execute_reply": "2024-07-24T13:41:54.820687Z"
    },
    "slideshow": {
     "slide_type": "fragment"
    },
    "tags": []
   },
   "outputs": [],
   "source": [
    "x2 = np.linspace(0, 1, n)\n",
    "y2 = f(x2)"
   ]
  },
  {
   "cell_type": "markdown",
   "metadata": {
    "editable": true,
    "slideshow": {
     "slide_type": "subslide"
    },
    "tags": []
   },
   "source": [
    "The advantage of this approach is:\n",
    "\n",
    "* There is no need to allocate space for `y2` (via the NumPy *zeros* function).\n",
    "* There is no need for a loop.\n",
    "* It is *much faster*."
   ]
  },
  {
   "cell_type": "markdown",
   "metadata": {
    "editable": true,
    "slideshow": {
     "slide_type": "slide"
    },
    "tags": []
   },
   "source": [
    "## How vectorised functions work\n",
    "Consider the function"
   ]
  },
  {
   "cell_type": "code",
   "execution_count": null,
   "metadata": {
    "editable": true,
    "execution": {
     "iopub.execute_input": "2024-07-24T13:41:54.823055Z",
     "iopub.status.busy": "2024-07-24T13:41:54.822903Z",
     "iopub.status.idle": "2024-07-24T13:41:54.825409Z",
     "shell.execute_reply": "2024-07-24T13:41:54.824913Z"
    },
    "slideshow": {
     "slide_type": "fragment"
    },
    "tags": []
   },
   "outputs": [],
   "source": [
    "def f(x):\n",
    "    return x**3"
   ]
  },
  {
   "cell_type": "markdown",
   "metadata": {
    "editable": true,
    "slideshow": {
     "slide_type": "subslide"
    },
    "tags": []
   },
   "source": [
    "$f(x)$ is intended for a number $x$, i.e. a *scalar*. So, what happens when we call `f(x2)`, where `x2` is a NumPy array? **The function evaluates $x^3$ for an array $x$**. NumPy supports arithmetic operations on arrays, which correspond to the equivalent operations on each element. For example,"
   ]
  },
  {
   "cell_type": "code",
   "execution_count": null,
   "metadata": {
    "editable": true,
    "execution": {
     "iopub.execute_input": "2024-07-24T13:41:54.827538Z",
     "iopub.status.busy": "2024-07-24T13:41:54.827219Z",
     "iopub.status.idle": "2024-07-24T13:41:54.831116Z",
     "shell.execute_reply": "2024-07-24T13:41:54.830633Z"
    },
    "slideshow": {
     "slide_type": "fragment"
    },
    "tags": []
   },
   "outputs": [],
   "source": [
    "r1 = x**3                   # x[i]**3 for all i\n",
    "r2 = np.cos(x)              # cos(x[i]) for all i\n",
    "r3 = x**3 + x*np.cos(x)     # x[i]**3 + x[i]*cos(x[i]) for all i\n",
    "r4 = x/3*np.exp(-x*0.5)     # x[i]/3*exp(-x[i]*0.5) for all i"
   ]
  },
  {
   "cell_type": "markdown",
   "metadata": {
    "editable": true,
    "slideshow": {
     "slide_type": "subslide"
    },
    "tags": []
   },
   "source": [
    "In each of these cases, a highly optimised C-function is actually called to evaluate the expression. In this example, the `cos` function called for an `array` is imported from NumPy rather than from the `math` module which only acts on scalars.\n",
    "\n",
    "Notes:\n",
    "\n",
    "* Functions that can operate on arrays are called **vectorised functions**.\n",
    "* Vectorisation is the process of turning a non-vectorised expression/algorithm into a vectorised expression/algorithm.\n",
    "* Mathematical functions in Python automatically work for both scalar and array (vector) arguments, i.e. no vectorisation is needed by the programmer."
   ]
  },
  {
   "cell_type": "markdown",
   "metadata": {
    "editable": true,
    "slideshow": {
     "slide_type": "slide"
    },
    "tags": []
   },
   "source": [
    "### Watch out for references vs. copies of arrays!\n",
    "Consider this code:"
   ]
  },
  {
   "cell_type": "code",
   "execution_count": null,
   "metadata": {
    "editable": true,
    "execution": {
     "iopub.execute_input": "2024-07-24T13:41:54.833446Z",
     "iopub.status.busy": "2024-07-24T13:41:54.832915Z",
     "iopub.status.idle": "2024-07-24T13:41:54.836152Z",
     "shell.execute_reply": "2024-07-24T13:41:54.835641Z"
    },
    "slideshow": {
     "slide_type": "fragment"
    },
    "tags": []
   },
   "outputs": [],
   "source": [
    "a = x\n",
    "a[-1] = 42\n",
    "print(x[-1])"
   ]
  },
  {
   "cell_type": "markdown",
   "metadata": {
    "editable": true,
    "slideshow": {
     "slide_type": "subslide"
    },
    "tags": []
   },
   "source": [
    "Notice what happened here - we changed a value in `a`, but the corresponding value in `x` was also changed! This is because `a` refers to the same array as `x`. If we want a separate copy of `x`, then we have to make an explicit copy:"
   ]
  },
  {
   "cell_type": "code",
   "execution_count": null,
   "metadata": {
    "editable": true,
    "execution": {
     "iopub.execute_input": "2024-07-24T13:41:54.838461Z",
     "iopub.status.busy": "2024-07-24T13:41:54.838070Z",
     "iopub.status.idle": "2024-07-24T13:41:54.840614Z",
     "shell.execute_reply": "2024-07-24T13:41:54.840113Z"
    },
    "slideshow": {
     "slide_type": "fragment"
    },
    "tags": []
   },
   "outputs": [],
   "source": [
    "a = x.copy()"
   ]
  },
  {
   "cell_type": "markdown",
   "metadata": {
    "editable": true,
    "slideshow": {
     "slide_type": ""
    },
    "tags": []
   },
   "source": [
    "We will discuss the references later in lecture 4."
   ]
  },
  {
   "cell_type": "markdown",
   "metadata": {
    "editable": true,
    "slideshow": {
     "slide_type": "slide"
    },
    "tags": []
   },
   "source": [
    "## Exercise 2.8: Fill lists and arrays with function values\n",
    "\n",
    "A function with many applications in science is defined as:\n",
    "\n",
    "$$h(x) = \\frac{1}{\\sqrt{2\\pi}}\\text{e}^{-\\frac{1}{2}x^2}$$\n",
    "\n",
    "* Implement the above formula as a Python function. Call the function `h` and it should take just one argument, `x`.\n",
    "* Create a NumPy array (call it `x`) that has 9 uniformly spaced points in $[−4, 4]$.\n",
    "* Create a second NumPy array (call it `y`) with the function `h(x)`."
   ]
  },
  {
   "cell_type": "code",
   "execution_count": 54,
   "metadata": {
    "editable": true,
    "execution": {
     "iopub.execute_input": "2024-07-24T13:41:54.842459Z",
     "iopub.status.busy": "2024-07-24T13:41:54.842296Z",
     "iopub.status.idle": "2024-07-24T13:41:54.844643Z",
     "shell.execute_reply": "2024-07-24T13:41:54.844168Z"
    },
    "slideshow": {
     "slide_type": "subslide"
    },
    "tags": []
   },
   "outputs": [],
   "source": [
    "# Uncomment and complete this code - keep the names the same for testing purposes.\n",
    "\n",
    "def h(x):\n",
    "    return (1/np.sqrt(2*np.pi)) * (np.exp(-0.5*x**2))\n",
    "\n",
    "x = np.linspace(-4, 4, 9)\n",
    "y = np.array([h(i) for i in x])\n",
    "    \n",
    "    \n",
    "    "
   ]
  },
  {
   "cell_type": "code",
   "execution_count": 55,
   "metadata": {
    "editable": true,
    "execution": {
     "iopub.execute_input": "2024-07-24T13:41:54.851222Z",
     "iopub.status.busy": "2024-07-24T13:41:54.851070Z",
     "iopub.status.idle": "2024-07-24T13:41:54.877869Z",
     "shell.execute_reply": "2024-07-24T13:41:54.877392Z"
    },
    "slideshow": {
     "slide_type": ""
    },
    "tags": [
     "pybryt"
    ]
   },
   "outputs": [
    {
     "name": "stdout",
     "output_type": "stream",
     "text": [
      "REFERENCE: exercise-2_8\n",
      "SATISFIED: True\n",
      "MESSAGES:\n",
      "  - SUCCESS: Your function computes h(x)c orrectly. Well done!\n",
      "  - SUCCESS: Great! You created array x correctly.\n",
      "  - SUCCESS: Great! You created array y correctly.\n"
     ]
    }
   ],
   "source": [
    "with pybryt.check(pybryt_reference(2, 8)):\n",
    "    h(5), x, y"
   ]
  },
  {
   "cell_type": "code",
   "execution_count": 56,
   "metadata": {
    "editable": true,
    "execution": {
     "iopub.execute_input": "2024-07-24T13:41:54.880013Z",
     "iopub.status.busy": "2024-07-24T13:41:54.879507Z",
     "iopub.status.idle": "2024-07-24T13:41:54.884147Z",
     "shell.execute_reply": "2024-07-24T13:41:54.883644Z"
    },
    "slideshow": {
     "slide_type": ""
    },
    "tags": [
     "nbgrader"
    ]
   },
   "outputs": [],
   "source": [
    "import numbers\n",
    "import numpy as np\n",
    "\n",
    "assert isinstance(h(10), numbers.Real)\n",
    "assert np.isclose(h(0), 1/np.sqrt(2*np.pi))\n",
    "assert x.shape == y.shape == (9,)\n",
    "assert np.isclose(x[0], -4)\n",
    "assert np.isclose(x[-1], 4)\n",
    "\n",
    "### BEGIN HIDDEN TESTS\n",
    "assert callable(h)\n",
    "assert all([isinstance(i, np.ndarray) for i in [x, y]])\n",
    "\n",
    "for i in np.linspace(-100, 100, 51):\n",
    "    assert isinstance(h(i), numbers.Real)\n",
    "### END HIDDEN TESTS"
   ]
  },
  {
   "cell_type": "markdown",
   "metadata": {
    "editable": true,
    "slideshow": {
     "slide_type": "slide"
    },
    "tags": []
   },
   "source": [
    "## Generalised array indexing\n",
    "\n",
    "We can select a slice of an array using `a[start:stop:inc]`, where the slice `start:stop:inc` implies a set of indices starting from `start`, up to `stop` in increments `inc`. Any integer list or array can be used to indicate a set of indices:"
   ]
  },
  {
   "cell_type": "code",
   "execution_count": null,
   "metadata": {
    "editable": true,
    "execution": {
     "iopub.execute_input": "2024-07-24T13:41:54.886120Z",
     "iopub.status.busy": "2024-07-24T13:41:54.885860Z",
     "iopub.status.idle": "2024-07-24T13:41:54.889083Z",
     "shell.execute_reply": "2024-07-24T13:41:54.888524Z"
    },
    "slideshow": {
     "slide_type": "fragment"
    },
    "tags": []
   },
   "outputs": [],
   "source": [
    "a = np.linspace(1, 8, 8)\n",
    "print(a)"
   ]
  },
  {
   "cell_type": "code",
   "execution_count": null,
   "metadata": {
    "editable": true,
    "execution": {
     "iopub.execute_input": "2024-07-24T13:41:54.891266Z",
     "iopub.status.busy": "2024-07-24T13:41:54.890824Z",
     "iopub.status.idle": "2024-07-24T13:41:54.894082Z",
     "shell.execute_reply": "2024-07-24T13:41:54.893498Z"
    },
    "slideshow": {
     "slide_type": "subslide"
    },
    "tags": []
   },
   "outputs": [],
   "source": [
    "a[[1, 6, 7]] = 10  # i.e. set the elements with indicies 1, 6, and 7 in the array to 10.\n",
    "print(a)"
   ]
  },
  {
   "cell_type": "code",
   "execution_count": null,
   "metadata": {
    "editable": true,
    "execution": {
     "iopub.execute_input": "2024-07-24T13:41:54.896086Z",
     "iopub.status.busy": "2024-07-24T13:41:54.895789Z",
     "iopub.status.idle": "2024-07-24T13:41:54.898859Z",
     "shell.execute_reply": "2024-07-24T13:41:54.898304Z"
    },
    "slideshow": {
     "slide_type": "fragment"
    },
    "tags": []
   },
   "outputs": [],
   "source": [
    "a[range(2, 8, 3)] = -2   # same as a[2:8:3] = -2\n",
    "print(a)"
   ]
  },
  {
   "cell_type": "markdown",
   "metadata": {
    "editable": true,
    "slideshow": {
     "slide_type": "subslide"
    },
    "tags": []
   },
   "source": [
    "Even boolean expressions can be used to select part of an array(!)"
   ]
  },
  {
   "cell_type": "code",
   "execution_count": null,
   "metadata": {
    "editable": true,
    "execution": {
     "iopub.execute_input": "2024-07-24T13:41:54.901003Z",
     "iopub.status.busy": "2024-07-24T13:41:54.900563Z",
     "iopub.status.idle": "2024-07-24T13:41:54.903811Z",
     "shell.execute_reply": "2024-07-24T13:41:54.903255Z"
    },
    "slideshow": {
     "slide_type": "fragment"
    },
    "tags": []
   },
   "outputs": [],
   "source": [
    "print(a[a < 0])  # pick out all negative elements"
   ]
  },
  {
   "cell_type": "code",
   "execution_count": null,
   "metadata": {
    "editable": true,
    "execution": {
     "iopub.execute_input": "2024-07-24T13:41:54.905588Z",
     "iopub.status.busy": "2024-07-24T13:41:54.905423Z",
     "iopub.status.idle": "2024-07-24T13:41:54.908507Z",
     "shell.execute_reply": "2024-07-24T13:41:54.907963Z"
    },
    "slideshow": {
     "slide_type": "fragment"
    },
    "tags": []
   },
   "outputs": [],
   "source": [
    "a[a < 0] = a.max()  # if a[i]<0, set a[i]=10\n",
    "print(a)"
   ]
  },
  {
   "cell_type": "markdown",
   "metadata": {
    "editable": true,
    "slideshow": {
     "slide_type": "slide"
    },
    "tags": []
   },
   "source": [
    "## Exercise 2.9: Explore array slicing\n",
    "\n",
    "* Create a NumPy array called `w` with 31 uniformly spaced values ranging from 0 to 3.\n",
    "* Using array slicing, create a NumPy array called `wbits` that starts from the $4^{th}$ element of `w`, excludes the final element of `w` and selects every $3^{rd}$ element."
   ]
  },
  {
   "cell_type": "code",
   "execution_count": 64,
   "metadata": {
    "editable": true,
    "execution": {
     "iopub.execute_input": "2024-07-24T13:41:54.910469Z",
     "iopub.status.busy": "2024-07-24T13:41:54.910313Z",
     "iopub.status.idle": "2024-07-24T13:41:54.912636Z",
     "shell.execute_reply": "2024-07-24T13:41:54.912135Z"
    },
    "slideshow": {
     "slide_type": ""
    },
    "tags": []
   },
   "outputs": [],
   "source": [
    "# Uncomment and complete this code - keep the names the same for testing purposes.\n",
    "\n",
    "w = np.linspace(0, 3, 31)\n",
    "wbits = w[3:-1:3]"
   ]
  },
  {
   "cell_type": "code",
   "execution_count": 66,
   "metadata": {
    "editable": true,
    "execution": {
     "iopub.execute_input": "2024-07-24T13:41:54.918926Z",
     "iopub.status.busy": "2024-07-24T13:41:54.918777Z",
     "iopub.status.idle": "2024-07-24T13:41:54.925390Z",
     "shell.execute_reply": "2024-07-24T13:41:54.924910Z"
    },
    "slideshow": {
     "slide_type": ""
    },
    "tags": [
     "pybryt"
    ]
   },
   "outputs": [
    {
     "name": "stdout",
     "output_type": "stream",
     "text": [
      "REFERENCE: exercise-2_9\n",
      "SATISFIED: True\n",
      "MESSAGES:\n",
      "  - SUCCESS: Great! You created array w correctly.\n",
      "  - SUCCESS: You sliced array w correctly. Amazing!\n"
     ]
    }
   ],
   "source": [
    "with pybryt.check(pybryt_reference(2, 9)):\n",
    "    w, wbits"
   ]
  },
  {
   "cell_type": "code",
   "execution_count": 67,
   "metadata": {
    "editable": true,
    "execution": {
     "iopub.execute_input": "2024-07-24T13:41:54.927469Z",
     "iopub.status.busy": "2024-07-24T13:41:54.927032Z",
     "iopub.status.idle": "2024-07-24T13:41:54.930568Z",
     "shell.execute_reply": "2024-07-24T13:41:54.930073Z"
    },
    "slideshow": {
     "slide_type": ""
    },
    "tags": [
     "nbgrader"
    ]
   },
   "outputs": [],
   "source": [
    "import numbers\n",
    "import numpy as np\n",
    "\n",
    "assert all(isinstance(i, np.ndarray) for i in [w, wbits])\n",
    "assert w.shape == (31,)\n",
    "assert wbits.shape == (9,)\n",
    "assert np.isclose(w[-1] - w[0], 3)\n",
    "\n",
    "### BEGIN HIDDEN TESTS\n",
    "assert np.allclose(wbits, [0.3, 0.6, 0.9, 1.2, 1.5, 1.8, 2.1, 2.4, 2.7])\n",
    "### END HIDDEN TESTS"
   ]
  },
  {
   "cell_type": "markdown",
   "metadata": {
    "editable": true,
    "slideshow": {
     "slide_type": "slide"
    },
    "tags": []
   },
   "source": [
    "## 2D arrays\n",
    "When we have a table of numbers,\n",
    "\n",
    "$$\n",
    "\\left\\lbrack\\begin{array}{cccc}\n",
    "0 & 12 & -1 & 5\\cr\n",
    "-1 & -1 & -1 & 0\\cr\n",
    "11 & 5 & 5 & -2\n",
    "\\end{array}\\right\\rbrack\n",
    "$$\n",
    "\n",
    "(i.e. a *matrix*) it is natural to use a two-dimensional array $A_{i, j}$ with one index for the rows and one for the columns:\n",
    "\n",
    "$$\n",
    "A = \n",
    "\\left\\lbrack\\begin{array}{ccc}\n",
    "A_{0,0} & \\cdots &  A_{0,n-1}\\cr\n",
    "\\vdots & \\ddots &  \\vdots\\cr\n",
    "A_{m-1,0} & \\cdots & A_{m-1,n-1}\n",
    "\\end{array}\\right\\rbrack\n",
    "$$\n",
    "\n",
    "Let us recreate this array using NumPy:"
   ]
  },
  {
   "cell_type": "code",
   "execution_count": null,
   "metadata": {
    "editable": true,
    "execution": {
     "iopub.execute_input": "2024-07-24T13:41:54.932478Z",
     "iopub.status.busy": "2024-07-24T13:41:54.932329Z",
     "iopub.status.idle": "2024-07-24T13:41:54.936199Z",
     "shell.execute_reply": "2024-07-24T13:41:54.935635Z"
    },
    "slideshow": {
     "slide_type": "subslide"
    },
    "tags": []
   },
   "outputs": [],
   "source": [
    "A = np.zeros((3, 4))  # we create a 2-dimensional (3 x 4) array filled with zeros\n",
    "\n",
    "A[0, 0] = 0\n",
    "A[1, 0] = -1\n",
    "A[2, 0] = 11\n",
    "\n",
    "A[0, 1] = 12\n",
    "A[1, 1] = -1\n",
    "A[2, 1] = 5\n",
    "\n",
    "A[0, 2] = -1\n",
    "A[1, 2] = -1\n",
    "A[2, 2] = 5\n",
    "\n",
    "# we can also use the same syntax that we used for nested lists\n",
    "\n",
    "A[0][3] = 5\n",
    "A[1][3] = 0\n",
    "A[2][3] = -2\n",
    "\n",
    "print(A)"
   ]
  },
  {
   "cell_type": "markdown",
   "metadata": {
    "editable": true,
    "slideshow": {
     "slide_type": "subslide"
    },
    "tags": []
   },
   "source": [
    "Next, let us create a nested list and then convert into a 2D array:"
   ]
  },
  {
   "cell_type": "code",
   "execution_count": null,
   "metadata": {
    "editable": true,
    "execution": {
     "iopub.execute_input": "2024-07-24T13:41:54.938229Z",
     "iopub.status.busy": "2024-07-24T13:41:54.937916Z",
     "iopub.status.idle": "2024-07-24T13:41:54.941251Z",
     "shell.execute_reply": "2024-07-24T13:41:54.940695Z"
    },
    "slideshow": {
     "slide_type": "fragment"
    },
    "tags": []
   },
   "outputs": [],
   "source": [
    "Cdegrees = range(0, 101, 10)\n",
    "Fdegrees = [9/5*C + 32 for C in Cdegrees]\n",
    "table = [[C, F] for C, F in zip(Cdegrees, Fdegrees)]  # create a nested list\n",
    "print(table)"
   ]
  },
  {
   "cell_type": "code",
   "execution_count": null,
   "metadata": {
    "editable": true,
    "execution": {
     "iopub.execute_input": "2024-07-24T13:41:54.943207Z",
     "iopub.status.busy": "2024-07-24T13:41:54.942888Z",
     "iopub.status.idle": "2024-07-24T13:41:54.945994Z",
     "shell.execute_reply": "2024-07-24T13:41:54.945444Z"
    },
    "slideshow": {
     "slide_type": "subslide"
    },
    "tags": []
   },
   "outputs": [],
   "source": [
    "# Convert this nested list into a NumPy array:\n",
    "table2 = np.array(table)\n",
    "print(table2)"
   ]
  },
  {
   "cell_type": "markdown",
   "metadata": {
    "editable": true,
    "slideshow": {
     "slide_type": "subslide"
    },
    "tags": []
   },
   "source": [
    "To see the number of elements in each dimension we ask for array's `shape`:"
   ]
  },
  {
   "cell_type": "code",
   "execution_count": null,
   "metadata": {
    "editable": true,
    "execution": {
     "iopub.execute_input": "2024-07-24T13:41:54.947978Z",
     "iopub.status.busy": "2024-07-24T13:41:54.947638Z",
     "iopub.status.idle": "2024-07-24T13:41:54.951316Z",
     "shell.execute_reply": "2024-07-24T13:41:54.950834Z"
    },
    "slideshow": {
     "slide_type": "fragment"
    },
    "tags": []
   },
   "outputs": [],
   "source": [
    "print(table2.shape)"
   ]
  },
  {
   "cell_type": "markdown",
   "metadata": {
    "editable": true,
    "slideshow": {
     "slide_type": "fragment"
    },
    "tags": []
   },
   "source": [
    "i.e. our table has 11 rows and 2 columns.\n",
    "\n",
    "Let us write a loop over all array elements of A:"
   ]
  },
  {
   "cell_type": "code",
   "execution_count": null,
   "metadata": {
    "editable": true,
    "execution": {
     "iopub.execute_input": "2024-07-24T13:41:54.953137Z",
     "iopub.status.busy": "2024-07-24T13:41:54.952982Z",
     "iopub.status.idle": "2024-07-24T13:41:54.956186Z",
     "shell.execute_reply": "2024-07-24T13:41:54.955635Z"
    },
    "slideshow": {
     "slide_type": "fragment"
    },
    "tags": []
   },
   "outputs": [],
   "source": [
    "for i in range(table2.shape[0]):\n",
    "    for j in range(table2.shape[1]):\n",
    "        print(f\"table2[{i}, {j}] = {table2[i, j]}\")"
   ]
  },
  {
   "cell_type": "markdown",
   "metadata": {
    "editable": true,
    "slideshow": {
     "slide_type": "subslide"
    },
    "tags": []
   },
   "source": [
    "Alternatively:"
   ]
  },
  {
   "cell_type": "code",
   "execution_count": null,
   "metadata": {
    "editable": true,
    "execution": {
     "iopub.execute_input": "2024-07-24T13:41:54.958023Z",
     "iopub.status.busy": "2024-07-24T13:41:54.957868Z",
     "iopub.status.idle": "2024-07-24T13:41:54.960890Z",
     "shell.execute_reply": "2024-07-24T13:41:54.960355Z"
    },
    "slideshow": {
     "slide_type": "fragment"
    },
    "tags": []
   },
   "outputs": [],
   "source": [
    "for index_tuple, value in np.ndenumerate(table2):\n",
    "    print(f\"index {index_tuple} has value {value}\")"
   ]
  },
  {
   "cell_type": "markdown",
   "metadata": {
    "editable": true,
    "slideshow": {
     "slide_type": "subslide"
    },
    "tags": []
   },
   "source": [
    "We can also extract slices from multi-dimensional arrays as before. For example, extract the second column:"
   ]
  },
  {
   "cell_type": "code",
   "execution_count": null,
   "metadata": {
    "editable": true,
    "execution": {
     "iopub.execute_input": "2024-07-24T13:41:54.962746Z",
     "iopub.status.busy": "2024-07-24T13:41:54.962587Z",
     "iopub.status.idle": "2024-07-24T13:41:54.965616Z",
     "shell.execute_reply": "2024-07-24T13:41:54.965064Z"
    },
    "slideshow": {
     "slide_type": "fragment"
    },
    "tags": []
   },
   "outputs": [],
   "source": [
    "print(table2[:, 1])  # 2nd column (index 1)"
   ]
  },
  {
   "cell_type": "markdown",
   "metadata": {
    "editable": true,
    "slideshow": {
     "slide_type": "subslide"
    },
    "tags": []
   },
   "source": [
    "Play with this more complicated example:"
   ]
  },
  {
   "cell_type": "code",
   "execution_count": null,
   "metadata": {
    "editable": true,
    "execution": {
     "iopub.execute_input": "2024-07-24T13:41:54.967442Z",
     "iopub.status.busy": "2024-07-24T13:41:54.967287Z",
     "iopub.status.idle": "2024-07-24T13:41:54.970558Z",
     "shell.execute_reply": "2024-07-24T13:41:54.969998Z"
    },
    "slideshow": {
     "slide_type": "fragment"
    },
    "tags": []
   },
   "outputs": [],
   "source": [
    "t = np.linspace(1, 30, 30).reshape(5, 6)\n",
    "print(t)"
   ]
  },
  {
   "cell_type": "code",
   "execution_count": null,
   "metadata": {
    "editable": true,
    "execution": {
     "iopub.execute_input": "2024-07-24T13:41:54.972407Z",
     "iopub.status.busy": "2024-07-24T13:41:54.972251Z",
     "iopub.status.idle": "2024-07-24T13:41:54.975241Z",
     "shell.execute_reply": "2024-07-24T13:41:54.974699Z"
    },
    "slideshow": {
     "slide_type": "fragment"
    },
    "tags": []
   },
   "outputs": [],
   "source": [
    "print(t[1:-1:2, 2:])"
   ]
  },
  {
   "cell_type": "markdown",
   "metadata": {
    "editable": true,
    "slideshow": {
     "slide_type": "slide"
    },
    "tags": []
   },
   "source": [
    "## Exercise 2.10: Matrix-vector multiplication\n",
    "A matrix $\\mathbf{A}$ and a vector $\\mathbf{b}$, represented in Python as a 2D array and a 1D array, respectively, are given by:\n",
    "\n",
    "$$\n",
    "\\mathbf{A} = \\left\\lbrack\\begin{array}{ccc}\n",
    "0 & 12 & -1\\cr\n",
    "-1 & -1 & -1\\cr\n",
    "11 & 5 & 5\n",
    "\\end{array}\\right\\rbrack\n",
    "$$\n",
    "\n",
    "$$\n",
    "\\mathbf{b} = \\left\\lbrack\\begin{array}{c}\n",
    "-2\\cr\n",
    "1\\cr\n",
    "7\n",
    "\\end{array}\\right\\rbrack\n",
    "$$\n",
    "\n",
    "Multiplying a matrix by a vector results in another vector $\\mathbf{c}$, whose components are defined by the general rule:\n",
    "\n",
    "$$\\mathbf{c}_i = \\sum_j\\mathbf{A}_{i, j}\\mathbf{b}_j$$\n",
    "\n",
    "* Define $\\mathbf{A}$ and $\\mathbf{b}$ as NumPy arrays\n",
    "* Write a function called `multiply` that takes two arguments, a matrix and a vector in the form of NumPy arrays, and returns a NumPy array containing their product.\n",
    "* Call this function on $\\mathbf{A}$ and $\\mathbf{b}$, and store the result in a variable $c$."
   ]
  },
  {
   "cell_type": "code",
   "execution_count": 10,
   "metadata": {
    "editable": true,
    "execution": {
     "iopub.execute_input": "2024-07-24T13:41:54.977057Z",
     "iopub.status.busy": "2024-07-24T13:41:54.976906Z",
     "iopub.status.idle": "2024-07-24T13:41:54.979059Z",
     "shell.execute_reply": "2024-07-24T13:41:54.978705Z"
    },
    "slideshow": {
     "slide_type": ""
    },
    "tags": []
   },
   "outputs": [],
   "source": [
    "# Uncomment and complete this code - keep the names the same for testing purposes.\n",
    "\n",
    "def multiply(A, b):\n",
    "    product = []\n",
    "    for row in A:\n",
    "        product_res = sum([a*b for a, b in zip(row, b)])\n",
    "        product.append(product_res)\n",
    "    return np.array(product)\n",
    "\n",
    "A = np.array([[0,12,-1], [-1,-1,-1], [11,5,5]])\n",
    "b = np.array([-2,1,7])\n",
    "c = multiply(A,b)"
   ]
  },
  {
   "cell_type": "code",
   "execution_count": 11,
   "metadata": {},
   "outputs": [
    {
     "name": "stdout",
     "output_type": "stream",
     "text": [
      "[ 5 -6 18]\n"
     ]
    }
   ],
   "source": [
    "print(c)"
   ]
  },
  {
   "cell_type": "code",
   "execution_count": 12,
   "metadata": {
    "editable": true,
    "execution": {
     "iopub.execute_input": "2024-07-24T13:41:54.985863Z",
     "iopub.status.busy": "2024-07-24T13:41:54.985712Z",
     "iopub.status.idle": "2024-07-24T13:41:55.009538Z",
     "shell.execute_reply": "2024-07-24T13:41:55.009045Z"
    },
    "slideshow": {
     "slide_type": ""
    },
    "tags": [
     "pybryt"
    ]
   },
   "outputs": [
    {
     "name": "stdout",
     "output_type": "stream",
     "text": [
      "REFERENCE: exercise-2_10\n",
      "SATISFIED: False\n",
      "MESSAGES:\n",
      "  - SUCCESS: Your matrix A is correct. Nice!\n",
      "  - SUCCESS: Your vector b is correct. Nice!\n",
      "  - ERROR: You are not populating resulting vector correctly.\n",
      "  - ERROR: Consider creating a zero vector before the loop.\n",
      "  - SUCCESS: Wow! The result of your multiplication is correct.\n"
     ]
    }
   ],
   "source": [
    "with pybryt.check(pybryt_reference(2, 10)):\n",
    "    A, b, c, multiply(A, b)"
   ]
  },
  {
   "cell_type": "code",
   "execution_count": 13,
   "metadata": {
    "editable": true,
    "execution": {
     "iopub.execute_input": "2024-07-24T13:41:55.011472Z",
     "iopub.status.busy": "2024-07-24T13:41:55.011159Z",
     "iopub.status.idle": "2024-07-24T13:41:55.015802Z",
     "shell.execute_reply": "2024-07-24T13:41:55.015293Z"
    },
    "slideshow": {
     "slide_type": ""
    },
    "tags": [
     "nbgrader"
    ]
   },
   "outputs": [],
   "source": [
    "import numbers\n",
    "import numpy as np\n",
    "\n",
    "assert all([isinstance(i, np.ndarray) for i in [A, b, c]])\n",
    "assert b.shape == c.shape\n",
    "assert A.shape == (3, 3)\n",
    "assert np.allclose(multiply(A, b), c)\n",
    "assert np.allclose(multiply(np.identity(3), np.array([5, 9, -11.1])), [5, 9, -11.1])\n",
    "\n",
    "### BEGIN HIDDEN TESTS\n",
    "assert callable(multiply)\n",
    "\n",
    "assert np.allclose(c, [5, -6, 18])\n",
    "\n",
    "assert all([isinstance(i, numbers.Real) for i in A.flatten()])\n",
    "assert all([isinstance(i, numbers.Real) for i in b])\n",
    "assert all([isinstance(i, numbers.Real) for i in c])\n",
    "\n",
    "assert np.allclose(multiply(np.array([[0]]), np.array([0])), [0])\n",
    "### END HIDDEN TESTS"
   ]
  },
  {
   "cell_type": "markdown",
   "metadata": {
    "editable": true,
    "slideshow": {
     "slide_type": ""
    },
    "tags": []
   },
   "source": [
    "## `@` operator\n",
    "\n",
    "Matrix-matrix or matrix-vector multiplication is a very common operation in computational and data science. Therefore, NumPy provides a convenience operator `@` that can be applied between arrays of compatible shapes for multiplication. For example,"
   ]
  },
  {
   "cell_type": "code",
   "execution_count": 14,
   "metadata": {
    "editable": true,
    "execution": {
     "iopub.execute_input": "2024-07-24T13:41:55.017678Z",
     "iopub.status.busy": "2024-07-24T13:41:55.017506Z",
     "iopub.status.idle": "2024-07-24T13:41:55.021093Z",
     "shell.execute_reply": "2024-07-24T13:41:55.020539Z"
    },
    "slideshow": {
     "slide_type": ""
    },
    "tags": []
   },
   "outputs": [
    {
     "name": "stdout",
     "output_type": "stream",
     "text": [
      "A = array([[1, 1],\n",
      "       [2, 1]])\n",
      "b = array([1, 2])\n",
      "Ab = array([3, 4])\n"
     ]
    }
   ],
   "source": [
    "A = np.array([[1, 1], [2, 1]])\n",
    "b = np.array([1, 2])\n",
    "Ab = A @ b\n",
    "\n",
    "print(f\"{A = }\")\n",
    "print(f\"{b = }\")\n",
    "print(f\"{Ab = }\")"
   ]
  },
  {
   "cell_type": "markdown",
   "metadata": {
    "editable": true,
    "slideshow": {
     "slide_type": ""
    },
    "tags": []
   },
   "source": [
    "## Exercise 2.11: Vectorised function\n",
    "\n",
    "Let $A_{33}$ be the two-dimensional array\n",
    "\n",
    "$$\n",
    "\\mathbf{A_{33}} = \\left\\lbrack\\begin{array}{ccc}\n",
    "0 & 12 & -1\\cr\n",
    "-1 & -1 & -1\\cr\n",
    "11 & 5 & 5\n",
    "\\end{array}\\right\\rbrack\n",
    "$$\n",
    "\n",
    "Implement and apply the function\n",
    "\n",
    "$$f(x) = x^3 + xe^x + 1$$\n",
    "\n",
    "to each element in $A_{33}$. Then calculate the result of the array expression ${A_{33}}^3 + A_{33}e^{A_{33}} + 1$, and demonstrate that the end result of the two methods are the same."
   ]
  },
  {
   "cell_type": "code",
   "execution_count": 69,
   "metadata": {
    "editable": true,
    "execution": {
     "iopub.execute_input": "2024-07-24T13:41:55.023115Z",
     "iopub.status.busy": "2024-07-24T13:41:55.022796Z",
     "iopub.status.idle": "2024-07-24T13:41:55.025167Z",
     "shell.execute_reply": "2024-07-24T13:41:55.024695Z"
    },
    "slideshow": {
     "slide_type": ""
    },
    "tags": []
   },
   "outputs": [],
   "source": [
    "# Uncomment and complete this code - keep the names the same for testing purposes.\n",
    "\n",
    "A33 = np.array([\n",
    "    [0, 12, -1],\n",
    "    [-1, -1, -1],\n",
    "    [11, 5, 5]\n",
    "])\n",
    "\n",
    "def f_cubic(A):\n",
    "    A_res = np.zeros(A.shape)\n",
    "    if A_res.ndim == 1:\n",
    "        for i in range(len(A)):\n",
    "            x = A[i]\n",
    "            res = np.pow(x, 3) + x*np.exp(x) + 1\n",
    "            A_res[i] = res\n",
    "    else:\n",
    "        for i in range(len(A)):\n",
    "            for j in range(len(A[0])):\n",
    "                x = A[i][j]\n",
    "                res = np.pow(x, 3) + x*np.exp(x) + 1\n",
    "                A_res[i][j] = res\n",
    "\n",
    "    return A_res\n"
   ]
  },
  {
   "cell_type": "code",
   "execution_count": 70,
   "metadata": {},
   "outputs": [
    {
     "data": {
      "text/plain": [
       "array([[ 1.00000000e+00,  1.95478650e+06, -3.67879441e-01],\n",
       "       [-3.67879441e-01, -3.67879441e-01, -3.67879441e-01],\n",
       "       [ 6.59947559e+05,  8.68065796e+02,  8.68065796e+02]])"
      ]
     },
     "execution_count": 70,
     "metadata": {},
     "output_type": "execute_result"
    }
   ],
   "source": [
    "f_cubic(A33)"
   ]
  },
  {
   "cell_type": "code",
   "execution_count": 71,
   "metadata": {
    "editable": true,
    "execution": {
     "iopub.execute_input": "2024-07-24T13:41:55.032203Z",
     "iopub.status.busy": "2024-07-24T13:41:55.031886Z",
     "iopub.status.idle": "2024-07-24T13:41:55.066662Z",
     "shell.execute_reply": "2024-07-24T13:41:55.066110Z"
    },
    "slideshow": {
     "slide_type": ""
    },
    "tags": [
     "pybryt"
    ]
   },
   "outputs": [
    {
     "name": "stdout",
     "output_type": "stream",
     "text": [
      "REFERENCE: exercise-2_11\n",
      "SATISFIED: True\n",
      "MESSAGES:\n",
      "  - SUCCESS: Wow! The result of your function is correct.\n",
      "  - SUCCESS: Your matrix A33 is correct.\n"
     ]
    }
   ],
   "source": [
    "with pybryt.check(pybryt_reference(2, 11)):\n",
    "    f_cubic(np.array([[1, 2, -6], [2, 2, -5]])), A33"
   ]
  },
  {
   "cell_type": "code",
   "execution_count": 72,
   "metadata": {},
   "outputs": [
    {
     "data": {
      "text/plain": [
       "array([[ 1.00000000e+00,  1.95478650e+06, -3.67879441e-01],\n",
       "       [-3.67879441e-01, -3.67879441e-01, -3.67879441e-01],\n",
       "       [ 6.59947559e+05,  8.68065796e+02,  8.68065796e+02]])"
      ]
     },
     "execution_count": 72,
     "metadata": {},
     "output_type": "execute_result"
    }
   ],
   "source": [
    "np.power(A33, 3) + np.multiply(A33, np.exp(A33)) + 1"
   ]
  },
  {
   "cell_type": "code",
   "execution_count": 73,
   "metadata": {
    "editable": true,
    "execution": {
     "iopub.execute_input": "2024-07-24T13:41:55.068757Z",
     "iopub.status.busy": "2024-07-24T13:41:55.068442Z",
     "iopub.status.idle": "2024-07-24T13:41:55.072896Z",
     "shell.execute_reply": "2024-07-24T13:41:55.072349Z"
    },
    "slideshow": {
     "slide_type": ""
    },
    "tags": [
     "nbgrader"
    ]
   },
   "outputs": [],
   "source": [
    "import numbers\n",
    "import numpy as np\n",
    "\n",
    "res = f_cubic(A33)\n",
    "assert isinstance(A33, np.ndarray)\n",
    "assert all([isinstance(i, numbers.Real) for i in A33.flatten()])\n",
    "assert A33.shape == f_cubic(A33).shape == (3, 3)\n",
    "assert np.isclose(np.sum(A33), 29)\n",
    "\n",
    "### BEGIN HIDDEN TESTS\n",
    "assert callable(f_cubic)\n",
    "assert np.allclose(f_cubic(A33), np.power(A33, 3) + np.multiply(A33, np.exp(A33)) + 1)\n",
    "assert all([isinstance(i, numbers.Real) for i in res.flatten()])\n",
    "assert np.allclose(f_cubic(np.array([0])), 1)\n",
    "### END HIDDEN TESTS"
   ]
  },
  {
   "cell_type": "markdown",
   "metadata": {
    "editable": true,
    "slideshow": {
     "slide_type": ""
    },
    "tags": []
   },
   "source": [
    "## Exercise 2.12: Matrix-matrix multiplication\n",
    "\n",
    "The general rule for multiplying an $n \\times m$ matrix $\\mathbf{A}$ by a $m \\times p$ matrix $\\mathbf{B}$ results in a $n \\times p$ matrix $\\mathbf{C}$, whose components are defined by the general rule\n",
    "\n",
    "$$\\mathbf{C}_{i,j} = \\sum^m_{k=1}\\mathbf{A}_{i,k}\\mathbf{B}_{k,j}$$\n",
    "\n",
    "Again let $\\mathbf{A}$ be the two-dimensional array\n",
    "\n",
    "$$\n",
    "\\mathbf{A} = \\left\\lbrack\\begin{array}{ccc}\n",
    "0 & 12 & -1\\cr\n",
    "-1 & -1 & -1\\cr\n",
    "11 & 5 & 5\n",
    "\\end{array}\\right\\rbrack\n",
    "$$\n",
    "\n",
    "and let $\\mathbf{B}$ be the two-dimensional array\n",
    "\n",
    "$$\n",
    "\\mathbf{B} = \\left\\lbrack\\begin{array}{ccc}\n",
    "-2 & 1 & 7\\cr\n",
    "3 & 0 & 6\\cr\n",
    "2 & 3 & 5\n",
    "\\end{array}\\right\\rbrack.\n",
    "$$\n",
    "\n",
    "Define `A` and `B` as NumPy arrays, and write a function `f_mult` which multiplies them together using the above rule. Save the result of multiplication `f_mult(A, B)` in variable `C`."
   ]
  },
  {
   "cell_type": "code",
   "execution_count": 74,
   "metadata": {
    "editable": true,
    "execution": {
     "iopub.execute_input": "2024-07-24T13:41:55.074802Z",
     "iopub.status.busy": "2024-07-24T13:41:55.074649Z",
     "iopub.status.idle": "2024-07-24T13:41:55.077021Z",
     "shell.execute_reply": "2024-07-24T13:41:55.076548Z"
    },
    "slideshow": {
     "slide_type": ""
    },
    "tags": []
   },
   "outputs": [],
   "source": [
    "# Uncomment and complete this code - keep the names the same for testing purposes.\n",
    "A = np.array([\n",
    "    [0,12,-1],\n",
    "    [-1,-1,-1],\n",
    "    [11,5,5]\n",
    "])\n",
    "B = np.array([\n",
    "    [-2,1,7],\n",
    "    [3,0,6],\n",
    "    [2,3,5]\n",
    "])\n",
    "\n",
    "def f_mult(A, B):\n",
    "    if A.shape[1] != B.shape[0]:\n",
    "        raise RuntimeError('Matrix A should have the same number of columns as B has rows.')\n",
    "    res = np.zeros([A.shape[0], B.shape[1]])\n",
    "    for i in range(A.shape[0]):\n",
    "        for j in range(B.shape[1]):\n",
    "            A_row = A[i]\n",
    "            B_col = np.transpose(B)[j]\n",
    "            res[i][j] = np.sum(np.multiply(A_row, B_col))\n",
    "    return res\n",
    "\n",
    "C = f_mult(A, B)"
   ]
  },
  {
   "cell_type": "code",
   "execution_count": 75,
   "metadata": {
    "editable": true,
    "execution": {
     "iopub.execute_input": "2024-07-24T13:41:55.085414Z",
     "iopub.status.busy": "2024-07-24T13:41:55.085243Z",
     "iopub.status.idle": "2024-07-24T13:41:55.108578Z",
     "shell.execute_reply": "2024-07-24T13:41:55.108100Z"
    },
    "slideshow": {
     "slide_type": ""
    },
    "tags": [
     "pybryt"
    ]
   },
   "outputs": [
    {
     "name": "stdout",
     "output_type": "stream",
     "text": [
      "REFERENCE: exercise-2_12\n",
      "SATISFIED: False\n",
      "MESSAGES:\n",
      "  - ERROR: You are not populating resulting vector correctly.\n",
      "  - SUCCESS: You created a zero-matrix before looping.\n",
      "  - SUCCESS: Amazing! Your function computes the multiplication correctly.\n",
      "  - SUCCESS: Your matrix A is correct.\n",
      "  - SUCCESS: Your matrix B is correct.\n"
     ]
    }
   ],
   "source": [
    "with pybryt.check(pybryt_reference(2, 12)):\n",
    "    f_mult(np.array([[5, 6], [11, 17]]), np.array([[91, -6], [21, 14]])), A, B"
   ]
  },
  {
   "cell_type": "code",
   "execution_count": 76,
   "metadata": {
    "editable": true,
    "execution": {
     "iopub.execute_input": "2024-07-24T13:41:55.110587Z",
     "iopub.status.busy": "2024-07-24T13:41:55.110281Z",
     "iopub.status.idle": "2024-07-24T13:41:55.116213Z",
     "shell.execute_reply": "2024-07-24T13:41:55.115729Z"
    },
    "slideshow": {
     "slide_type": ""
    },
    "tags": [
     "nbgrader"
    ]
   },
   "outputs": [],
   "source": [
    "import numbers\n",
    "import numpy as np\n",
    "\n",
    "assert all([isinstance(i, np.ndarray) for i in [A, B, C]])\n",
    "assert A.shape == B.shape == C.shape == (3, 3)\n",
    "assert np.isclose(np.sum(A), 29)\n",
    "assert np.isclose(np.sum(B), 25)\n",
    "\n",
    "assert all([isinstance(i, numbers.Real) for i in A.flatten()])\n",
    "assert all([isinstance(i, numbers.Real) for i in B.flatten()])\n",
    "assert all([isinstance(i, numbers.Real) for i in C.flatten()])\n",
    "\n",
    "assert A33.shape == f_cubic(A33).shape == (3, 3)\n",
    "assert np.isclose(np.sum(A33), 29)\n",
    "\n",
    "### BEGIN HIDDEN TESTS\n",
    "assert callable(f_mult)\n",
    "assert np.allclose(C, np.array([[34, -3, 67], [-3, -4, -18], [3, 26, 132]]))\n",
    "assert np.allclose(C, f_mult(A, B))\n",
    "assert np.allclose(f_mult(np.zeros((3, 3)), np.zeros((3, 3))), 0)\n",
    "assert np.allclose(f_mult(np.identity(10), np.identity(10)), np.identity(10))\n",
    "### END HIDDEN TESTS"
   ]
  },
  {
   "cell_type": "markdown",
   "metadata": {
    "editable": true,
    "slideshow": {
     "slide_type": ""
    },
    "tags": []
   },
   "source": [
    "## Exercise 2.13: 2D array slicing\n",
    "\n",
    "\n",
    "* Create a 1D NumPy array called `odd` with all of the odd numbers from 1 to 55\n",
    "* Create a 2D NumPy array called `odd_sq` with all of the odd numbers from 1 to 55 in a matrix with 4 rows and 7 columns\n",
    "* Using array slicing, create a 2D NumPy array called, `odd_bits`, that starts from the $2^{nd}$ column of `odd_sq` and selects every other column, of only the $2^{nd}$ and $3^{rd}$ rows of `odd_sq`."
   ]
  },
  {
   "cell_type": "code",
   "execution_count": 83,
   "metadata": {
    "editable": true,
    "execution": {
     "iopub.execute_input": "2024-07-24T13:41:55.118283Z",
     "iopub.status.busy": "2024-07-24T13:41:55.117966Z",
     "iopub.status.idle": "2024-07-24T13:41:55.120255Z",
     "shell.execute_reply": "2024-07-24T13:41:55.119790Z"
    },
    "slideshow": {
     "slide_type": ""
    },
    "tags": []
   },
   "outputs": [],
   "source": [
    "# Uncomment and complete this code - keep the names the same for testing purposes.\n",
    "\n",
    "odd = np.arange(1, 56, 2)\n",
    "odd_sq = np.reshape(odd, (4, 7))\n",
    "odd_bits = odd_sq[1:3,1::2]"
   ]
  },
  {
   "cell_type": "code",
   "execution_count": 84,
   "metadata": {
    "editable": true,
    "execution": {
     "iopub.execute_input": "2024-07-24T13:41:55.126735Z",
     "iopub.status.busy": "2024-07-24T13:41:55.126586Z",
     "iopub.status.idle": "2024-07-24T13:41:55.133892Z",
     "shell.execute_reply": "2024-07-24T13:41:55.133423Z"
    },
    "slideshow": {
     "slide_type": ""
    },
    "tags": [
     "pybryt"
    ]
   },
   "outputs": [
    {
     "name": "stdout",
     "output_type": "stream",
     "text": [
      "REFERENCE: exercise-2_13\n",
      "SATISFIED: True\n",
      "MESSAGES:\n",
      "  - SUCCESS: Great! The array odd is correct.\n",
      "  - SUCCESS: You reshaped the array correctly.\n",
      "  - SUCCESS: Wow! You sliced the array correctly.\n"
     ]
    }
   ],
   "source": [
    "with pybryt.check(pybryt_reference(2, 13)):\n",
    "    odd, odd_sq, odd_bits"
   ]
  },
  {
   "cell_type": "code",
   "execution_count": 85,
   "metadata": {
    "editable": true,
    "execution": {
     "iopub.execute_input": "2024-07-24T13:41:55.136009Z",
     "iopub.status.busy": "2024-07-24T13:41:55.135663Z",
     "iopub.status.idle": "2024-07-24T13:41:55.139861Z",
     "shell.execute_reply": "2024-07-24T13:41:55.139337Z"
    },
    "slideshow": {
     "slide_type": ""
    },
    "tags": [
     "nbgrader"
    ]
   },
   "outputs": [],
   "source": [
    "import numbers\n",
    "import numpy as np\n",
    "\n",
    "assert all(isinstance(i, np.ndarray) for i in [odd, odd_sq, odd_bits])\n",
    "assert odd.shape == (28,)\n",
    "assert odd_sq.shape == (4, 7)\n",
    "assert odd_bits.shape == (2, 3)\n",
    "assert all([i % 2 for i in odd])\n",
    "\n",
    "### BEGIN HIDDEN TESTS\n",
    "res = np.arange(1, 56, 2)\n",
    "assert np.allclose(odd, np.arange(1, 56, 2))\n",
    "assert np.allclose(odd_sq, np.arange(1, 56, 2).reshape(4, 7))\n",
    "assert np.allclose(odd_bits, np.arange(1, 56, 2).reshape(4, 7)[1:3, 1::2])\n",
    "### END HIDDEN TESTS"
   ]
  }
 ],
 "metadata": {
  "celltoolbar": "Tags",
  "kernelspec": {
   "display_name": "Python 3 (ipykernel)",
   "language": "python",
   "name": "python3"
  },
  "language_info": {
   "codemirror_mode": {
    "name": "ipython",
    "version": 3
   },
   "file_extension": ".py",
   "mimetype": "text/x-python",
   "name": "python",
   "nbconvert_exporter": "python",
   "pygments_lexer": "ipython3",
   "version": "3.11.9"
  }
 },
 "nbformat": 4,
 "nbformat_minor": 4
}
