{
 "cells": [
  {
   "cell_type": "code",
   "execution_count": 4,
   "metadata": {
    "editable": true,
    "execution": {
     "iopub.execute_input": "2024-07-24T13:41:59.570476Z",
     "iopub.status.busy": "2024-07-24T13:41:59.569949Z",
     "iopub.status.idle": "2024-07-24T13:42:00.045515Z",
     "shell.execute_reply": "2024-07-24T13:42:00.044919Z"
    },
    "slideshow": {
     "slide_type": ""
    },
    "tags": []
   },
   "outputs": [],
   "source": [
    "import pybryt\n",
    "from lecture import pybryt_reference"
   ]
  },
  {
   "cell_type": "markdown",
   "metadata": {
    "editable": true,
    "slideshow": {
     "slide_type": ""
    },
    "tags": []
   },
   "source": [
    "# Introduction to Python\n",
    "\n",
    "# Lecture 4"
   ]
  },
  {
   "cell_type": "markdown",
   "metadata": {
    "editable": true,
    "slideshow": {
     "slide_type": ""
    },
    "tags": []
   },
   "source": [
    "## Learning objectives\n",
    "\n",
    "At the end of this lecture, you will be able to:\n",
    "\n",
    "* Parse strings to extract specific data of interest.\n",
    "* Use dictionaries to index data using any type of key.\n",
    "* Create your own *objects* in Python and develop *member functions* for these new data types.\n",
    "* Define *special methods* to support operator overloading.\n",
    "* Explain the difference between *identity* and *equality* of Python objects.\n",
    "* Make shallow and deep copies of objects."
   ]
  },
  {
   "cell_type": "markdown",
   "metadata": {
    "editable": true,
    "slideshow": {
     "slide_type": ""
    },
    "tags": []
   },
   "source": [
    "## Python dictionaries\n",
    "Suppose we need to store the temperatures in Oslo, London, and Paris. The Python list solution might look like:"
   ]
  },
  {
   "cell_type": "code",
   "execution_count": null,
   "metadata": {
    "editable": true,
    "execution": {
     "iopub.execute_input": "2024-07-24T13:42:00.048028Z",
     "iopub.status.busy": "2024-07-24T13:42:00.047776Z",
     "iopub.status.idle": "2024-07-24T13:42:00.050550Z",
     "shell.execute_reply": "2024-07-24T13:42:00.050060Z"
    },
    "slideshow": {
     "slide_type": ""
    },
    "tags": []
   },
   "outputs": [],
   "source": [
    "temps = [13, 15.4, 17.5]\n",
    "# temps[0]: Oslo\n",
    "# temps[1]: London\n",
    "# temps[2]: Paris"
   ]
  },
  {
   "cell_type": "markdown",
   "metadata": {
    "editable": true,
    "slideshow": {
     "slide_type": ""
    },
    "tags": []
   },
   "source": [
    "In this case, we need to remember the mapping between the index and the city name. It would be easier to specify the name of the city to get the temperature. Containers such as lists and arrays use a continuous series of integers to index elements. However, for many applications, such an integer index is not useful.\n",
    "\n",
    "**Dictionaries** are containers where any immutable Python object (string, hashable tuple, integer, etc.) can be used as an index. Let us rewrite the previous example using a Python dictionary:"
   ]
  },
  {
   "cell_type": "code",
   "execution_count": null,
   "metadata": {
    "editable": true,
    "execution": {
     "iopub.execute_input": "2024-07-24T13:42:00.052661Z",
     "iopub.status.busy": "2024-07-24T13:42:00.052365Z",
     "iopub.status.idle": "2024-07-24T13:42:00.055649Z",
     "shell.execute_reply": "2024-07-24T13:42:00.055084Z"
    },
    "slideshow": {
     "slide_type": ""
    },
    "tags": []
   },
   "outputs": [],
   "source": [
    "temps = {\"Oslo\": 13, \"London\": 15.4, \"Paris\": 17.5}\n",
    "print(f\"The temperature in London is {temps['London']}\")"
   ]
  },
  {
   "cell_type": "markdown",
   "metadata": {
    "editable": true,
    "slideshow": {
     "slide_type": ""
    },
    "tags": []
   },
   "source": [
    "Add a new item to a dictionary:"
   ]
  },
  {
   "cell_type": "code",
   "execution_count": null,
   "metadata": {
    "editable": true,
    "execution": {
     "iopub.execute_input": "2024-07-24T13:42:00.057628Z",
     "iopub.status.busy": "2024-07-24T13:42:00.057469Z",
     "iopub.status.idle": "2024-07-24T13:42:00.060428Z",
     "shell.execute_reply": "2024-07-24T13:42:00.059861Z"
    },
    "slideshow": {
     "slide_type": ""
    },
    "tags": []
   },
   "outputs": [],
   "source": [
    "temps[\"Madrid\"] = 26.0\n",
    "print(temps)"
   ]
  },
  {
   "cell_type": "markdown",
   "metadata": {
    "editable": true,
    "slideshow": {
     "slide_type": ""
    },
    "tags": []
   },
   "source": [
    "Loop (iterate) over a dictionary:"
   ]
  },
  {
   "cell_type": "code",
   "execution_count": null,
   "metadata": {
    "editable": true,
    "execution": {
     "iopub.execute_input": "2024-07-24T13:42:00.062323Z",
     "iopub.status.busy": "2024-07-24T13:42:00.062161Z",
     "iopub.status.idle": "2024-07-24T13:42:00.065238Z",
     "shell.execute_reply": "2024-07-24T13:42:00.064695Z"
    },
    "slideshow": {
     "slide_type": ""
    },
    "tags": []
   },
   "outputs": [],
   "source": [
    "for city in temps:  # please note how we iterate through the keys\n",
    "    print(f\"The temperature in {city} is {temps[city]}\")"
   ]
  },
  {
   "cell_type": "markdown",
   "metadata": {
    "editable": true,
    "slideshow": {
     "slide_type": ""
    },
    "tags": []
   },
   "source": [
    "The index in a dictionary is called the **key**. A dictionary is said to hold key–value pairs (items). We can iterate through those pairs as:\n",
    "\n",
    "```python\n",
    "for key, value in dictionary.items():\n",
    "    print(key, value)\n",
    "```"
   ]
  },
  {
   "cell_type": "markdown",
   "metadata": {
    "editable": true,
    "slideshow": {
     "slide_type": ""
    },
    "tags": []
   },
   "source": [
    "Does the dictionary have a particular key (i.e. a particular data entry)?"
   ]
  },
  {
   "cell_type": "code",
   "execution_count": null,
   "metadata": {
    "editable": true,
    "execution": {
     "iopub.execute_input": "2024-07-24T13:42:00.067354Z",
     "iopub.status.busy": "2024-07-24T13:42:00.067034Z",
     "iopub.status.idle": "2024-07-24T13:42:00.070165Z",
     "shell.execute_reply": "2024-07-24T13:42:00.069617Z"
    },
    "slideshow": {
     "slide_type": ""
    },
    "tags": []
   },
   "outputs": [],
   "source": [
    "if \"Berlin\" in temps:\n",
    "    print(f\"We have Berlin and its temperature is {temps['Berlin']}\")\n",
    "else:\n",
    "    print(\"I don't know Berlin's temperature.\")"
   ]
  },
  {
   "cell_type": "code",
   "execution_count": null,
   "metadata": {
    "editable": true,
    "execution": {
     "iopub.execute_input": "2024-07-24T13:42:00.072027Z",
     "iopub.status.busy": "2024-07-24T13:42:00.071873Z",
     "iopub.status.idle": "2024-07-24T13:42:00.074754Z",
     "shell.execute_reply": "2024-07-24T13:42:00.074210Z"
    },
    "slideshow": {
     "slide_type": ""
    },
    "tags": []
   },
   "outputs": [],
   "source": [
    "print(\"Oslo\" in temps)  # i.e. standard boolean expression"
   ]
  },
  {
   "cell_type": "markdown",
   "metadata": {
    "editable": true,
    "slideshow": {
     "slide_type": ""
    },
    "tags": []
   },
   "source": [
    "The keys and values can be reached as set-like \"view\" objects:"
   ]
  },
  {
   "cell_type": "code",
   "execution_count": null,
   "metadata": {
    "editable": true,
    "execution": {
     "iopub.execute_input": "2024-07-24T13:42:00.076591Z",
     "iopub.status.busy": "2024-07-24T13:42:00.076433Z",
     "iopub.status.idle": "2024-07-24T13:42:00.079981Z",
     "shell.execute_reply": "2024-07-24T13:42:00.079454Z"
    },
    "slideshow": {
     "slide_type": ""
    },
    "tags": []
   },
   "outputs": [],
   "source": [
    "print(f\"Keys = {temps.keys()}\")\n",
    "print(f\"Values = {temps.values()}\")"
   ]
  },
  {
   "cell_type": "markdown",
   "metadata": {
    "editable": true,
    "slideshow": {
     "slide_type": ""
    },
    "tags": []
   },
   "source": [
    "In recent versions of Python, dictionaries are guaranteed to return the keys in order they were first inserted into it. If you need them in another order, you will have to run a sort first!"
   ]
  },
  {
   "cell_type": "code",
   "execution_count": null,
   "metadata": {
    "editable": true,
    "execution": {
     "iopub.execute_input": "2024-07-24T13:42:00.081810Z",
     "iopub.status.busy": "2024-07-24T13:42:00.081660Z",
     "iopub.status.idle": "2024-07-24T13:42:00.084631Z",
     "shell.execute_reply": "2024-07-24T13:42:00.084082Z"
    },
    "slideshow": {
     "slide_type": ""
    },
    "tags": []
   },
   "outputs": [],
   "source": [
    "for key in sorted(temps):\n",
    "    value = temps[key]\n",
    "    print(key, value)"
   ]
  },
  {
   "cell_type": "markdown",
   "metadata": {
    "editable": true,
    "slideshow": {
     "slide_type": ""
    },
    "tags": []
   },
   "source": [
    "Remove Oslo key-value pair:"
   ]
  },
  {
   "cell_type": "code",
   "execution_count": null,
   "metadata": {
    "editable": true,
    "execution": {
     "iopub.execute_input": "2024-07-24T13:42:00.086439Z",
     "iopub.status.busy": "2024-07-24T13:42:00.086289Z",
     "iopub.status.idle": "2024-07-24T13:42:00.089231Z",
     "shell.execute_reply": "2024-07-24T13:42:00.088694Z"
    },
    "slideshow": {
     "slide_type": ""
    },
    "tags": []
   },
   "outputs": [],
   "source": [
    "del temps[\"Oslo\"]  # remove Oslo key w/value\n",
    "print(temps)\n",
    "print(len(temps))"
   ]
  },
  {
   "cell_type": "markdown",
   "metadata": {
    "editable": true,
    "slideshow": {
     "slide_type": ""
    },
    "tags": []
   },
   "source": [
    "Similarly to what we saw for arrays, two variables can refer to the same dictionary:"
   ]
  },
  {
   "cell_type": "code",
   "execution_count": null,
   "metadata": {
    "editable": true,
    "execution": {
     "iopub.execute_input": "2024-07-24T13:42:00.091068Z",
     "iopub.status.busy": "2024-07-24T13:42:00.090917Z",
     "iopub.status.idle": "2024-07-24T13:42:00.094634Z",
     "shell.execute_reply": "2024-07-24T13:42:00.094151Z"
    },
    "slideshow": {
     "slide_type": ""
    },
    "tags": []
   },
   "outputs": [],
   "source": [
    "t1 = temps\n",
    "t1[\"Stockholm\"] = 10.0\n",
    "print(temps)"
   ]
  },
  {
   "cell_type": "markdown",
   "metadata": {
    "editable": true,
    "slideshow": {
     "slide_type": ""
    },
    "tags": []
   },
   "source": [
    "So, we can see that while we modified the dictionary bound to `t1`, the dictionary we see from `temps` also changed."
   ]
  },
  {
   "cell_type": "markdown",
   "metadata": {
    "editable": true,
    "slideshow": {
     "slide_type": ""
    },
    "tags": []
   },
   "source": [
    "Let us look at a simple example of reading the same data from a file and putting it into a dictionary. We will be reading the file [data/deg2.dat](./data/deg2.dat)."
   ]
  },
  {
   "cell_type": "code",
   "execution_count": null,
   "metadata": {
    "editable": true,
    "execution": {
     "iopub.execute_input": "2024-07-24T13:42:00.096491Z",
     "iopub.status.busy": "2024-07-24T13:42:00.096341Z",
     "iopub.status.idle": "2024-07-24T13:42:00.100175Z",
     "shell.execute_reply": "2024-07-24T13:42:00.099632Z"
    },
    "slideshow": {
     "slide_type": ""
    },
    "tags": []
   },
   "outputs": [],
   "source": [
    "with open(\"data/deg2.dat\", \"r\") as infile:\n",
    "    # Start with an empty dictionary\n",
    "    temps = {}\n",
    "    for line in infile:\n",
    "        # If you examine the file you will see a \":\" after the city name,\n",
    "        # so let's use this as the delimiter for splitting the line.\n",
    "        city, temp = line.split(\":\")\n",
    "        temps[city] = float(temp)\n",
    "\n",
    "print(temps)"
   ]
  },
  {
   "cell_type": "markdown",
   "metadata": {
    "editable": true,
    "slideshow": {
     "slide_type": ""
    },
    "tags": []
   },
   "source": [
    "Similarly to lists, we can also use a **dictionary comprehension** to populate a new dictionary by iterating over a series key:value pairs"
   ]
  },
  {
   "cell_type": "code",
   "execution_count": null,
   "metadata": {
    "editable": true,
    "execution": {
     "iopub.execute_input": "2024-07-24T13:42:00.102200Z",
     "iopub.status.busy": "2024-07-24T13:42:00.101892Z",
     "iopub.status.idle": "2024-07-24T13:42:00.104972Z",
     "shell.execute_reply": "2024-07-24T13:42:00.104430Z"
    },
    "slideshow": {
     "slide_type": ""
    },
    "tags": []
   },
   "outputs": [],
   "source": [
    "## Let's convert to Farenheit\n",
    "\n",
    "farenheit_temps = {city: 1.8*temp+32.0 for city, temp in temps.items()}\n",
    "print(farenheit_temps)"
   ]
  },
  {
   "cell_type": "markdown",
   "metadata": {
    "editable": true,
    "slideshow": {
     "slide_type": ""
    },
    "tags": []
   },
   "source": [
    "The general syntax of a dictionary comprehension is very similar to lists:\n",
    "\n",
    "```python\n",
    "somedict = {key: value for element in somelist if test}\n",
    "```"
   ]
  },
  {
   "cell_type": "markdown",
   "metadata": {
    "editable": true,
    "slideshow": {
     "slide_type": ""
    },
    "tags": []
   },
   "source": [
    "## Exercise 4.1: Make a dictionary from a table\n",
    "\n",
    "The file [data/constants.txt](data/constants.txt) contains a table of the values and the dimensions of some fundamental constants from physics. We want to load this table into a dictionary `constants`, where the keys are the names of the constants. For example, `constants[\"gravitational constant\"]` holds the value of the gravitational constant (6.67259 $\\times 10^{-11}$) in Newton's law of gravitation. Make a function `read_constants(file_path)` that reads and interprets the text in the file passed as an argument, and after that returns the dictionary."
   ]
  },
  {
   "cell_type": "code",
   "execution_count": 6,
   "metadata": {
    "editable": true,
    "execution": {
     "iopub.execute_input": "2024-07-24T13:42:00.107012Z",
     "iopub.status.busy": "2024-07-24T13:42:00.106647Z",
     "iopub.status.idle": "2024-07-24T13:42:00.109280Z",
     "shell.execute_reply": "2024-07-24T13:42:00.108799Z"
    },
    "slideshow": {
     "slide_type": ""
    },
    "tags": []
   },
   "outputs": [],
   "source": [
    "# Uncomment and modify the following code. Do not change variable names for testing purposes.\n",
    "\n",
    "def read_constants(file_path):\n",
    "    d = {}\n",
    "    with open(file_path, 'r') as infile:\n",
    "        lines = infile.readlines()[2:]\n",
    "        for line in lines:\n",
    "            vals = line.rsplit(maxsplit=2)\n",
    "            d[vals[0]] = float(vals[1])\n",
    "    return d"
   ]
  },
  {
   "cell_type": "code",
   "execution_count": 7,
   "metadata": {
    "editable": true,
    "execution": {
     "iopub.execute_input": "2024-07-24T13:42:00.116178Z",
     "iopub.status.busy": "2024-07-24T13:42:00.116018Z",
     "iopub.status.idle": "2024-07-24T13:42:00.133971Z",
     "shell.execute_reply": "2024-07-24T13:42:00.133502Z"
    },
    "slideshow": {
     "slide_type": ""
    },
    "tags": [
     "pybryt"
    ]
   },
   "outputs": [
    {
     "name": "stdout",
     "output_type": "stream",
     "text": [
      "REFERENCE: exercise-4_1\n",
      "SATISFIED: False\n",
      "MESSAGES:\n",
      "  - SUCCESS: Amazing! You are extracting constants and adding them as items to the dictionary.\n",
      "  - ERROR: Please think about iterating through the file line by line.\n",
      "  - SUCCESS: You start with an empty dictionary before the loop. Well done!\n",
      "  - ERROR: You do not split lines into fragments\n",
      "  - SUCCESS: Wow! Your resulting dictionary is correct.\n"
     ]
    }
   ],
   "source": [
    "with pybryt.check(pybryt_reference(4, 1)):\n",
    "    read_constants(\"./data/constants.txt\")"
   ]
  },
  {
   "cell_type": "code",
   "execution_count": 8,
   "metadata": {
    "editable": true,
    "execution": {
     "iopub.execute_input": "2024-07-24T13:42:00.135907Z",
     "iopub.status.busy": "2024-07-24T13:42:00.135574Z",
     "iopub.status.idle": "2024-07-24T13:42:00.139192Z",
     "shell.execute_reply": "2024-07-24T13:42:00.138712Z"
    },
    "slideshow": {
     "slide_type": ""
    },
    "tags": [
     "nbgrader"
    ]
   },
   "outputs": [],
   "source": [
    "import numbers\n",
    "import numpy as np\n",
    "\n",
    "res = read_constants(\"./data/constants.txt\")\n",
    "\n",
    "assert \"Avogadro number\" in res.keys()\n",
    "assert np.isclose(res[\"speed of light\"], 299792458.0)\n",
    "\n",
    "### BEGIN HIDDEN TESTS\n",
    "assert isinstance(res, dict)\n",
    "assert all([isinstance(k, str) and isinstance(v, numbers.Real) for k, v in res.items()])\n",
    "assert len(res) == 8\n",
    "### END HIDDEN TESTS"
   ]
  },
  {
   "cell_type": "markdown",
   "metadata": {
    "editable": true,
    "slideshow": {
     "slide_type": ""
    },
    "tags": []
   },
   "source": [
    "## Exercise 4.2: Reverse a dictionary\n",
    "\n",
    "Consider the following dictionary translating some English words to German:\n",
    "\n",
    "```python\n",
    "my_dict = {\"dog\": \"Hund\", \"cat\": \"Katze\", \"house\": \"Haus\", \"bicycle\": \"Fahrrad\"}\n",
    "```\n",
    "\n",
    "Write a Python function `reverse_dict(dictionary)` that takes any dictionary as input and reverses it using **dictionary comprehension**. For instance, if `my_dict` is passed, a German-English dictionary with key-value pairs (items) is returned."
   ]
  },
  {
   "cell_type": "code",
   "execution_count": 31,
   "metadata": {
    "editable": true,
    "execution": {
     "iopub.execute_input": "2024-07-24T13:42:00.141145Z",
     "iopub.status.busy": "2024-07-24T13:42:00.140881Z",
     "iopub.status.idle": "2024-07-24T13:42:00.143914Z",
     "shell.execute_reply": "2024-07-24T13:42:00.143421Z"
    },
    "slideshow": {
     "slide_type": ""
    },
    "tags": []
   },
   "outputs": [],
   "source": [
    "# Uncomment and modify the following code. Do not change variable names for testing purposes.\n",
    "\n",
    "def reverse_dict(dictionary):\n",
    "    return {value: key for key, value in dictionary.items()}"
   ]
  },
  {
   "cell_type": "code",
   "execution_count": 32,
   "metadata": {
    "editable": true,
    "execution": {
     "iopub.execute_input": "2024-07-24T13:42:00.150820Z",
     "iopub.status.busy": "2024-07-24T13:42:00.150503Z",
     "iopub.status.idle": "2024-07-24T13:42:00.157384Z",
     "shell.execute_reply": "2024-07-24T13:42:00.156895Z"
    },
    "slideshow": {
     "slide_type": ""
    },
    "tags": [
     "pybryt"
    ]
   },
   "outputs": [
    {
     "name": "stdout",
     "output_type": "stream",
     "text": [
      "REFERENCE: exercise-4_2\n",
      "SATISFIED: True\n",
      "MESSAGES:\n",
      "  - SUCCESS: Wow! Your function reverses a dictionary correctly.\n"
     ]
    }
   ],
   "source": [
    "with pybryt.check(pybryt_reference(4, 2)):\n",
    "    reverse_dict({\"a\": \"b\", \"c\": \"d\", \"e\": \"f\", \"g\": \"h\"})"
   ]
  },
  {
   "cell_type": "code",
   "execution_count": 33,
   "metadata": {
    "editable": true,
    "execution": {
     "iopub.execute_input": "2024-07-24T13:42:00.159113Z",
     "iopub.status.busy": "2024-07-24T13:42:00.158960Z",
     "iopub.status.idle": "2024-07-24T13:42:00.162141Z",
     "shell.execute_reply": "2024-07-24T13:42:00.161668Z"
    },
    "slideshow": {
     "slide_type": ""
    },
    "tags": [
     "nbgrader"
    ]
   },
   "outputs": [],
   "source": [
    "res = reverse_dict({\"dog\": \"Hund\", \"cat\": \"Katze\", \"house\": \"Haus\", \"bicycle\": \"Fahrrad\"})\n",
    "\n",
    "assert \"Katze\" in res.keys()\n",
    "assert res[\"Hund\"] == \"dog\"\n",
    "\n",
    "### BEGIN HIDDEN TESTS\n",
    "assert isinstance(res, dict)\n",
    "assert all([isinstance(k, str) and isinstance(v, str) for k, v in res.items()])\n",
    "assert len(res) == 4\n",
    "### END HIDDEN TESTS"
   ]
  },
  {
   "cell_type": "markdown",
   "metadata": {
    "editable": true,
    "slideshow": {
     "slide_type": ""
    },
    "tags": []
   },
   "source": [
    "## Exercise 4.3: Compute the area of a triangle\n",
    "\n",
    "An arbitrary triangle can be described by the coordinates of its three vertices: $(x_1, y_1), (x_2, y_2), (x_3, y_3)$, numbered in a counterclockwise direction. The area of the triangle is given by the formula:\n",
    "\n",
    "$$A = \\frac{1}{2}|x_2y_3 - x_3y_2 - x_1y_3 + x_3y_1 + x_1y_2 - x_2y_1|.$$\n",
    "\n",
    "Write a function `triangle_area(vertices)` that returns the area of a triangle whose vertices are specified by the argument `vertices`, which is a dictionary and not a list. The keys in the dictionary correspond to the vertex number (1, 2, or 3) while the values are 2-tuples with the $x$ and $y$ coordinates of the vertex - $(x, y)$. For example, for a triangle with vertices $(0, 0)$, $(1, 0)$, and $(0, 2)$ the `vertices` argument is: `{1: (0, 0), 2: (1, 0), 3: (0, 2)}`.\n",
    "\n",
    "**Question**: Can the function `triangle_area(vertices)` accept both a nested list and a dictionary as an argument?"
   ]
  },
  {
   "cell_type": "code",
   "execution_count": 37,
   "metadata": {
    "editable": true,
    "execution": {
     "iopub.execute_input": "2024-07-24T13:42:00.164015Z",
     "iopub.status.busy": "2024-07-24T13:42:00.163866Z",
     "iopub.status.idle": "2024-07-24T13:42:00.166140Z",
     "shell.execute_reply": "2024-07-24T13:42:00.165650Z"
    },
    "slideshow": {
     "slide_type": ""
    },
    "tags": []
   },
   "outputs": [],
   "source": [
    "# Uncomment and modify the following code. Do not change variable names for testing purposes.\n",
    "\n",
    "def triangle_area(vertices):\n",
    "    x1, x2, x3 = vertices[1][0], vertices[2][0], vertices[3][0] \n",
    "    y1, y2, y3 = vertices[1][1], vertices[2][1], vertices[3][1] \n",
    "    area = 0.5 * abs(x2*y3 - x3*y2 - x1*y3 + x3*y1 + x1*y2 - x2*y1)\n",
    "    return area"
   ]
  },
  {
   "cell_type": "code",
   "execution_count": 38,
   "metadata": {
    "editable": true,
    "execution": {
     "iopub.execute_input": "2024-07-24T13:42:00.172560Z",
     "iopub.status.busy": "2024-07-24T13:42:00.172409Z",
     "iopub.status.idle": "2024-07-24T13:42:00.179013Z",
     "shell.execute_reply": "2024-07-24T13:42:00.178518Z"
    },
    "slideshow": {
     "slide_type": ""
    },
    "tags": [
     "pybryt"
    ]
   },
   "outputs": [
    {
     "name": "stdout",
     "output_type": "stream",
     "text": [
      "REFERENCE: exercise-4_3\n",
      "SATISFIED: True\n",
      "MESSAGES:\n",
      "  - SUCCESS: Wow! Your function computes the triangle area correctly.\n"
     ]
    }
   ],
   "source": [
    "with pybryt.check(pybryt_reference(4, 3)):\n",
    "    triangle_area({1: (100, 20), 2: (101, 130), 3: (-50, 22)})"
   ]
  },
  {
   "cell_type": "code",
   "execution_count": 39,
   "metadata": {
    "editable": true,
    "execution": {
     "iopub.execute_input": "2024-07-24T13:42:00.180887Z",
     "iopub.status.busy": "2024-07-24T13:42:00.180629Z",
     "iopub.status.idle": "2024-07-24T13:42:00.183901Z",
     "shell.execute_reply": "2024-07-24T13:42:00.183399Z"
    },
    "slideshow": {
     "slide_type": ""
    },
    "tags": [
     "nbgrader"
    ]
   },
   "outputs": [],
   "source": [
    "import numbers\n",
    "import numpy as np\n",
    "\n",
    "res = triangle_area({1: (0, 0), 2: (3, 0), 3: (0, 7)})\n",
    "\n",
    "assert isinstance(res, numbers.Real)\n",
    "assert np.isclose(res, 10.5)\n",
    "\n",
    "### BEGIN HIDDEN TESTS\n",
    "assert triangle_area({1: (0, 0), 2: (0, 0), 3: (0, 0)}) == 0\n",
    "### END HIDDEN TESTS"
   ]
  },
  {
   "cell_type": "markdown",
   "metadata": {
    "editable": true,
    "slideshow": {
     "slide_type": ""
    },
    "tags": []
   },
   "source": [
    "## String manipulation\n",
    "\n",
    "Text in Python is represented as **strings**. Programming with strings is therefore the key to interpret text in files and construct new text (i.e. **parsing**). First we show some common string operations and then we apply them to real examples. Our sample string used for illustration is:"
   ]
  },
  {
   "cell_type": "code",
   "execution_count": null,
   "metadata": {
    "editable": true,
    "execution": {
     "iopub.execute_input": "2024-07-24T13:42:00.185757Z",
     "iopub.status.busy": "2024-07-24T13:42:00.185604Z",
     "iopub.status.idle": "2024-07-24T13:42:00.187960Z",
     "shell.execute_reply": "2024-07-24T13:42:00.187464Z"
    },
    "slideshow": {
     "slide_type": ""
    },
    "tags": []
   },
   "outputs": [],
   "source": [
    "s = \"Berlin: 18.4 C at 4 pm\""
   ]
  },
  {
   "cell_type": "markdown",
   "metadata": {
    "editable": true,
    "slideshow": {
     "slide_type": ""
    },
    "tags": []
   },
   "source": [
    "Strings behave much like tuples (or lists) - they are simply a sequence of characters:"
   ]
  },
  {
   "cell_type": "code",
   "execution_count": null,
   "metadata": {
    "editable": true,
    "execution": {
     "iopub.execute_input": "2024-07-24T13:42:00.189899Z",
     "iopub.status.busy": "2024-07-24T13:42:00.189596Z",
     "iopub.status.idle": "2024-07-24T13:42:00.193060Z",
     "shell.execute_reply": "2024-07-24T13:42:00.192575Z"
    },
    "slideshow": {
     "slide_type": ""
    },
    "tags": []
   },
   "outputs": [],
   "source": [
    "print(f\"{s[0] = }\")\n",
    "print(f\"{s[1] = }\")"
   ]
  },
  {
   "cell_type": "markdown",
   "metadata": {
    "editable": true,
    "slideshow": {
     "slide_type": ""
    },
    "tags": []
   },
   "source": [
    "Substrings are just slices of lists and arrays:"
   ]
  },
  {
   "cell_type": "code",
   "execution_count": null,
   "metadata": {
    "editable": true,
    "execution": {
     "iopub.execute_input": "2024-07-24T13:42:00.195094Z",
     "iopub.status.busy": "2024-07-24T13:42:00.194741Z",
     "iopub.status.idle": "2024-07-24T13:42:00.198223Z",
     "shell.execute_reply": "2024-07-24T13:42:00.197717Z"
    },
    "slideshow": {
     "slide_type": ""
    },
    "tags": []
   },
   "outputs": [],
   "source": [
    "# from index 8 to the end of the string\n",
    "print(s[8:])"
   ]
  },
  {
   "cell_type": "code",
   "execution_count": null,
   "metadata": {
    "editable": true,
    "execution": {
     "iopub.execute_input": "2024-07-24T13:42:00.200010Z",
     "iopub.status.busy": "2024-07-24T13:42:00.199859Z",
     "iopub.status.idle": "2024-07-24T13:42:00.202691Z",
     "shell.execute_reply": "2024-07-24T13:42:00.202140Z"
    },
    "slideshow": {
     "slide_type": ""
    },
    "tags": []
   },
   "outputs": [],
   "source": [
    "# indices 8, 9, 10 and 11 (not 12!)\n",
    "# Please remember Python indexing is \"first inclusive, last exclusive\"\n",
    "print(s[8:12])"
   ]
  },
  {
   "cell_type": "code",
   "execution_count": null,
   "metadata": {
    "editable": true,
    "execution": {
     "iopub.execute_input": "2024-07-24T13:42:00.204538Z",
     "iopub.status.busy": "2024-07-24T13:42:00.204389Z",
     "iopub.status.idle": "2024-07-24T13:42:00.207210Z",
     "shell.execute_reply": "2024-07-24T13:42:00.206701Z"
    },
    "slideshow": {
     "slide_type": ""
    },
    "tags": []
   },
   "outputs": [],
   "source": [
    "# from index 8 to 8 from the end of the string\n",
    "print(s[8:-8])"
   ]
  },
  {
   "cell_type": "markdown",
   "metadata": {
    "editable": true,
    "slideshow": {
     "slide_type": ""
    },
    "tags": []
   },
   "source": [
    "You can also find the start index of a substring:"
   ]
  },
  {
   "cell_type": "code",
   "execution_count": null,
   "metadata": {
    "editable": true,
    "execution": {
     "iopub.execute_input": "2024-07-24T13:42:00.209047Z",
     "iopub.status.busy": "2024-07-24T13:42:00.208897Z",
     "iopub.status.idle": "2024-07-24T13:42:00.211742Z",
     "shell.execute_reply": "2024-07-24T13:42:00.211177Z"
    },
    "slideshow": {
     "slide_type": ""
    },
    "tags": []
   },
   "outputs": [],
   "source": [
    "# where does \"Berlin\" start?\n",
    "print(s.find(\"Berlin\"))"
   ]
  },
  {
   "cell_type": "code",
   "execution_count": null,
   "metadata": {
    "editable": true,
    "execution": {
     "iopub.execute_input": "2024-07-24T13:42:00.213452Z",
     "iopub.status.busy": "2024-07-24T13:42:00.213304Z",
     "iopub.status.idle": "2024-07-24T13:42:00.216191Z",
     "shell.execute_reply": "2024-07-24T13:42:00.215623Z"
    },
    "slideshow": {
     "slide_type": ""
    },
    "tags": []
   },
   "outputs": [],
   "source": [
    "print(s.find(\"pm\"))"
   ]
  },
  {
   "cell_type": "code",
   "execution_count": null,
   "metadata": {
    "editable": true,
    "execution": {
     "iopub.execute_input": "2024-07-24T13:42:00.218009Z",
     "iopub.status.busy": "2024-07-24T13:42:00.217858Z",
     "iopub.status.idle": "2024-07-24T13:42:00.220618Z",
     "shell.execute_reply": "2024-07-24T13:42:00.220093Z"
    },
    "slideshow": {
     "slide_type": ""
    },
    "tags": []
   },
   "outputs": [],
   "source": [
    "print(s.find(\"Oslo\"))"
   ]
  },
  {
   "cell_type": "markdown",
   "metadata": {
    "editable": true,
    "slideshow": {
     "slide_type": ""
    },
    "tags": []
   },
   "source": [
    "In this last example, `Oslo` does not exist in the list so the return value is -1."
   ]
  },
  {
   "cell_type": "markdown",
   "metadata": {
    "editable": true,
    "slideshow": {
     "slide_type": ""
    },
    "tags": []
   },
   "source": [
    "We can also check if a substring is contained in a string:"
   ]
  },
  {
   "cell_type": "code",
   "execution_count": null,
   "metadata": {
    "editable": true,
    "execution": {
     "iopub.execute_input": "2024-07-24T13:42:00.222532Z",
     "iopub.status.busy": "2024-07-24T13:42:00.222382Z",
     "iopub.status.idle": "2024-07-24T13:42:00.225209Z",
     "shell.execute_reply": "2024-07-24T13:42:00.224649Z"
    },
    "slideshow": {
     "slide_type": ""
    },
    "tags": []
   },
   "outputs": [],
   "source": [
    "print(\"Berlin\" in s)"
   ]
  },
  {
   "cell_type": "code",
   "execution_count": null,
   "metadata": {
    "editable": true,
    "execution": {
     "iopub.execute_input": "2024-07-24T13:42:00.226974Z",
     "iopub.status.busy": "2024-07-24T13:42:00.226825Z",
     "iopub.status.idle": "2024-07-24T13:42:00.230426Z",
     "shell.execute_reply": "2024-07-24T13:42:00.229938Z"
    },
    "slideshow": {
     "slide_type": ""
    },
    "tags": []
   },
   "outputs": [],
   "source": [
    "print(\"Oslo\" in s)"
   ]
  },
  {
   "cell_type": "code",
   "execution_count": null,
   "metadata": {
    "editable": true,
    "execution": {
     "iopub.execute_input": "2024-07-24T13:42:00.232198Z",
     "iopub.status.busy": "2024-07-24T13:42:00.232048Z",
     "iopub.status.idle": "2024-07-24T13:42:00.234903Z",
     "shell.execute_reply": "2024-07-24T13:42:00.234355Z"
    },
    "slideshow": {
     "slide_type": ""
    },
    "tags": []
   },
   "outputs": [],
   "source": [
    "if \"C\" in s:\n",
    "    print(\"C found\")\n",
    "else:\n",
    "    print(\"C not found\")"
   ]
  },
  {
   "cell_type": "markdown",
   "metadata": {
    "editable": true,
    "slideshow": {
     "slide_type": ""
    },
    "tags": []
   },
   "source": [
    "### Search and replace\n",
    "Strings also support substituting a substring by another string. In general this looks like `s.replace(s1, s2)`, which gives back a new string replacing occurences of  `s1` in `s` by `s2`, e.g.:"
   ]
  },
  {
   "cell_type": "code",
   "execution_count": null,
   "metadata": {
    "editable": true,
    "execution": {
     "iopub.execute_input": "2024-07-24T13:42:00.236774Z",
     "iopub.status.busy": "2024-07-24T13:42:00.236624Z",
     "iopub.status.idle": "2024-07-24T13:42:00.239391Z",
     "shell.execute_reply": "2024-07-24T13:42:00.238863Z"
    },
    "slideshow": {
     "slide_type": ""
    },
    "tags": []
   },
   "outputs": [],
   "source": [
    "s = s.replace(\" \", \"_\")\n",
    "print(s)"
   ]
  },
  {
   "cell_type": "code",
   "execution_count": null,
   "metadata": {
    "editable": true,
    "execution": {
     "iopub.execute_input": "2024-07-24T13:42:00.241171Z",
     "iopub.status.busy": "2024-07-24T13:42:00.241023Z",
     "iopub.status.idle": "2024-07-24T13:42:00.243873Z",
     "shell.execute_reply": "2024-07-24T13:42:00.243315Z"
    },
    "slideshow": {
     "slide_type": ""
    },
    "tags": []
   },
   "outputs": [],
   "source": [
    "s = s.replace(\"Berlin\", \"Bonn\")\n",
    "print(s)"
   ]
  },
  {
   "cell_type": "code",
   "execution_count": null,
   "metadata": {
    "editable": true,
    "execution": {
     "iopub.execute_input": "2024-07-24T13:42:00.245654Z",
     "iopub.status.busy": "2024-07-24T13:42:00.245500Z",
     "iopub.status.idle": "2024-07-24T13:42:00.248354Z",
     "shell.execute_reply": "2024-07-24T13:42:00.247815Z"
    },
    "slideshow": {
     "slide_type": ""
    },
    "tags": []
   },
   "outputs": [],
   "source": [
    "# Replace the text before the first colon by \"London\"\n",
    "s = s.replace(s[:s.find(\":\")], \"London\")\n",
    "print(s)"
   ]
  },
  {
   "cell_type": "markdown",
   "metadata": {
    "editable": true,
    "slideshow": {
     "slide_type": ""
    },
    "tags": []
   },
   "source": [
    "Notice that in all these examples, we assign the new result back to `s`. One of the reasons we are doing this is that strings are constant (i.e immutable) and therefore cannot be modified *inplace*. We **cannot** write for example:\n",
    "\n",
    "```python\n",
    "s[18] = \"5\"\n",
    "TypeError: \"str\" object does not support item assignment\n",
    "```"
   ]
  },
  {
   "cell_type": "markdown",
   "metadata": {
    "editable": true,
    "slideshow": {
     "slide_type": ""
    },
    "tags": []
   },
   "source": [
    "We also encountered examples above where we used the `split()` function to break up a line into separate substrings for a given separator (where a space is the default delimiter). Sometimes we want to split a string into lines - i.e. the delimiter is the [carriage return](http://en.wikipedia.org/wiki/Carriage_return). This can be surprisingly tricky because different computing platforms (e.g. Windows, Linux, MacOS) use different characters to represent a carriage return. For example, Unix uses `\\n`. Luckly Python provides a *cross platform* way of doing this so regardless of what platform created the data file, or what platform you are running Python on, it will do the *right thing*: "
   ]
  },
  {
   "cell_type": "code",
   "execution_count": null,
   "metadata": {
    "editable": true,
    "execution": {
     "iopub.execute_input": "2024-07-24T13:42:00.250195Z",
     "iopub.status.busy": "2024-07-24T13:42:00.250046Z",
     "iopub.status.idle": "2024-07-24T13:42:00.252866Z",
     "shell.execute_reply": "2024-07-24T13:42:00.252323Z"
    },
    "slideshow": {
     "slide_type": ""
    },
    "tags": []
   },
   "outputs": [],
   "source": [
    "t = \"1st line\\n2nd line\\n3rd line\"\n",
    "\n",
    "print(f\"original t =\\n{t}\")"
   ]
  },
  {
   "cell_type": "code",
   "execution_count": null,
   "metadata": {
    "editable": true,
    "execution": {
     "iopub.execute_input": "2024-07-24T13:42:00.254714Z",
     "iopub.status.busy": "2024-07-24T13:42:00.254562Z",
     "iopub.status.idle": "2024-07-24T13:42:00.257437Z",
     "shell.execute_reply": "2024-07-24T13:42:00.256893Z"
    },
    "slideshow": {
     "slide_type": ""
    },
    "tags": []
   },
   "outputs": [],
   "source": [
    "# This works here but will give you problems if you are switching\n",
    "# files between Windows and either Mac or Linux.\n",
    "print(t.split(\"\\n\"))"
   ]
  },
  {
   "cell_type": "code",
   "execution_count": null,
   "metadata": {
    "editable": true,
    "execution": {
     "iopub.execute_input": "2024-07-24T13:42:00.259232Z",
     "iopub.status.busy": "2024-07-24T13:42:00.259089Z",
     "iopub.status.idle": "2024-07-24T13:42:00.261840Z",
     "shell.execute_reply": "2024-07-24T13:42:00.261301Z"
    },
    "slideshow": {
     "slide_type": ""
    },
    "tags": []
   },
   "outputs": [],
   "source": [
    "# Cross platform (i.e. better) solution\n",
    "print(t.splitlines())"
   ]
  },
  {
   "cell_type": "markdown",
   "metadata": {
    "editable": true,
    "slideshow": {
     "slide_type": ""
    },
    "tags": []
   },
   "source": [
    "### Stripping off leading/trailing whitespace\n",
    "When processing text from a file and composing new strings, we frequently need to trim leading and trailing whitespaces:"
   ]
  },
  {
   "cell_type": "code",
   "execution_count": null,
   "metadata": {
    "editable": true,
    "execution": {
     "iopub.execute_input": "2024-07-24T13:42:00.263745Z",
     "iopub.status.busy": "2024-07-24T13:42:00.263556Z",
     "iopub.status.idle": "2024-07-24T13:42:00.266444Z",
     "shell.execute_reply": "2024-07-24T13:42:00.265944Z"
    },
    "slideshow": {
     "slide_type": ""
    },
    "tags": []
   },
   "outputs": [],
   "source": [
    "s = \"        text with leading and trailing spaces          \\n\"\n",
    "print(f\"-->{s.strip()}<--\")"
   ]
  },
  {
   "cell_type": "code",
   "execution_count": null,
   "metadata": {
    "editable": true,
    "execution": {
     "iopub.execute_input": "2024-07-24T13:42:00.268421Z",
     "iopub.status.busy": "2024-07-24T13:42:00.268049Z",
     "iopub.status.idle": "2024-07-24T13:42:00.271730Z",
     "shell.execute_reply": "2024-07-24T13:42:00.271243Z"
    },
    "slideshow": {
     "slide_type": ""
    },
    "tags": []
   },
   "outputs": [],
   "source": [
    "# left strip\n",
    "print(f\"-->{s.lstrip()}<--\")"
   ]
  },
  {
   "cell_type": "code",
   "execution_count": null,
   "metadata": {
    "editable": true,
    "execution": {
     "iopub.execute_input": "2024-07-24T13:42:00.273447Z",
     "iopub.status.busy": "2024-07-24T13:42:00.273305Z",
     "iopub.status.idle": "2024-07-24T13:42:00.276032Z",
     "shell.execute_reply": "2024-07-24T13:42:00.275484Z"
    },
    "slideshow": {
     "slide_type": ""
    },
    "tags": []
   },
   "outputs": [],
   "source": [
    "# right strip\n",
    "print(f\"-->{s.rstrip()}<--\")"
   ]
  },
  {
   "cell_type": "markdown",
   "metadata": {
    "editable": true,
    "slideshow": {
     "slide_type": ""
    },
    "tags": []
   },
   "source": [
    "Please note that carriage return is considered as a whitespace character as well."
   ]
  },
  {
   "cell_type": "markdown",
   "metadata": {
    "editable": true,
    "slideshow": {
     "slide_type": ""
    },
    "tags": []
   },
   "source": [
    "### `join()` - the opposite of `split()`\n",
    "We can join a list of substrings to form a new string. Similar to `split()`, we put strings together with a delimiter inbetween:"
   ]
  },
  {
   "cell_type": "code",
   "execution_count": null,
   "metadata": {
    "editable": true,
    "execution": {
     "iopub.execute_input": "2024-07-24T13:42:00.277888Z",
     "iopub.status.busy": "2024-07-24T13:42:00.277735Z",
     "iopub.status.idle": "2024-07-24T13:42:00.280590Z",
     "shell.execute_reply": "2024-07-24T13:42:00.280051Z"
    },
    "slideshow": {
     "slide_type": ""
    },
    "tags": []
   },
   "outputs": [],
   "source": [
    "strings = [\"Newton\", \"Secant\", \"Bisection\"]\n",
    "print(\", \".join(strings))"
   ]
  },
  {
   "cell_type": "markdown",
   "metadata": {
    "editable": true,
    "slideshow": {
     "slide_type": ""
    },
    "tags": []
   },
   "source": [
    "You can prove to yourself that these are inverse operations:\n",
    "```python\n",
    "t = delimiter.join(stringlist)\n",
    "stringlist = t.split(delimiter)\n",
    "```"
   ]
  },
  {
   "cell_type": "markdown",
   "metadata": {
    "editable": true,
    "slideshow": {
     "slide_type": ""
    },
    "tags": []
   },
   "source": [
    "As an example, let's split off the first two words on a line:"
   ]
  },
  {
   "cell_type": "code",
   "execution_count": null,
   "metadata": {
    "editable": true,
    "execution": {
     "iopub.execute_input": "2024-07-24T13:42:00.282373Z",
     "iopub.status.busy": "2024-07-24T13:42:00.282214Z",
     "iopub.status.idle": "2024-07-24T13:42:00.286308Z",
     "shell.execute_reply": "2024-07-24T13:42:00.285774Z"
    },
    "slideshow": {
     "slide_type": ""
    },
    "tags": []
   },
   "outputs": [],
   "source": [
    "line = \"This is a line of words separated by space\"\n",
    "words = line.split()\n",
    "print(\"words = \", words)\n",
    "line2 = \" \".join(words[2:])\n",
    "print(\"line2 = \", line2)"
   ]
  },
  {
   "cell_type": "markdown",
   "metadata": {
    "editable": true,
    "slideshow": {
     "slide_type": ""
    },
    "tags": []
   },
   "source": [
    "## Exercise 4.4: Improve a program\n",
    "\n",
    "The file [data/densities.dat](./data/densities.dat) contains a table of densities of various substances measured in $\\text{gcm}^{-3}$. The following program reads the data in this file and produces a dictionary whose keys are the names of substances, and the values are the corresponding densities."
   ]
  },
  {
   "cell_type": "code",
   "execution_count": 40,
   "metadata": {
    "editable": true,
    "execution": {
     "iopub.execute_input": "2024-07-24T13:42:00.288128Z",
     "iopub.status.busy": "2024-07-24T13:42:00.287983Z",
     "iopub.status.idle": "2024-07-24T13:42:00.291427Z",
     "shell.execute_reply": "2024-07-24T13:42:00.291001Z"
    },
    "slideshow": {
     "slide_type": ""
    },
    "tags": []
   },
   "outputs": [],
   "source": [
    "def read_densities(filename):\n",
    "    with open(filename, \"r\") as infile:\n",
    "        densities = {}\n",
    "        for line in infile:\n",
    "            words = line.split()\n",
    "            density = float(words[-1])\n",
    "\n",
    "            if len(words[:-1]) == 2:\n",
    "                substance = words[0] + \" \" + words[1]\n",
    "            else:\n",
    "                substance = words[0]\n",
    "\n",
    "            densities[substance] = density\n",
    "\n",
    "    return densities\n",
    "\n",
    "densities = read_densities(\"data/densities.dat\")"
   ]
  },
  {
   "cell_type": "markdown",
   "metadata": {
    "editable": true,
    "slideshow": {
     "slide_type": ""
    },
    "tags": []
   },
   "source": [
    "One problem we face when implementing the program above is that the name of the substance can contain one or two words, and maybe more words in a more comprehensive table. The purpose of this exercise is to use string operations to shorten the code and make it more general. Implement the following two methods in separate functions `read_densities_join` and `read_densities_substrings`, and control that they give the same result.\n",
    "\n",
    "1. In `read_densities_join`, let *substance* consist of all the words but the last and use the `join()` method to combine the words. Replace any spaces between words in substances with underscore.\n",
    "2. In `read_densities_substrings`, observe that all the densities (numerical values) start in the same column, and use substrings to divide line into two parts. Replace any spaces between words in substances with underscore. (**Hint**: Remember to strip the first part such that, e.g. the density of ice is obtained as `densities[\"ice\"]` and not `densities[\"ice     \"]`.)"
   ]
  },
  {
   "cell_type": "code",
   "execution_count": 46,
   "metadata": {
    "editable": true,
    "execution": {
     "iopub.execute_input": "2024-07-24T13:42:00.293370Z",
     "iopub.status.busy": "2024-07-24T13:42:00.293236Z",
     "iopub.status.idle": "2024-07-24T13:42:00.295728Z",
     "shell.execute_reply": "2024-07-24T13:42:00.295352Z"
    },
    "slideshow": {
     "slide_type": ""
    },
    "tags": []
   },
   "outputs": [],
   "source": [
    "# Uncomment and modify the following code. Do not change variable names for testing purposes.\n",
    "\n",
    "def read_densities_join(filename):\n",
    "    with open(filename, \"r\") as infile:\n",
    "        densities = {}\n",
    "        for line in infile:\n",
    "            words = line.split()\n",
    "            density = float(words[-1])\n",
    "\n",
    "            substance = '_'.join(words[:-1])\n",
    "\n",
    "            densities[substance] = density\n",
    "\n",
    "    return densities\n",
    "\n",
    "def read_densities_substrings(filename):\n",
    "    with open(filename, \"r\") as infile:\n",
    "        densities = {}\n",
    "        for line in infile:\n",
    "            substance_split, density_split = line[:10], line[10:]\n",
    "            substance = substance_split.strip()\n",
    "            substance = substance.replace(' ', '_')\n",
    "\n",
    "            density = float(density_split)\n",
    "\n",
    "            densities[substance] = density\n",
    "\n",
    "    return densities"
   ]
  },
  {
   "cell_type": "code",
   "execution_count": 48,
   "metadata": {
    "editable": true,
    "execution": {
     "iopub.execute_input": "2024-07-24T13:42:00.303008Z",
     "iopub.status.busy": "2024-07-24T13:42:00.302860Z",
     "iopub.status.idle": "2024-07-24T13:42:00.343848Z",
     "shell.execute_reply": "2024-07-24T13:42:00.343314Z"
    },
    "slideshow": {
     "slide_type": ""
    },
    "tags": [
     "pybryt"
    ]
   },
   "outputs": [
    {
     "name": "stdout",
     "output_type": "stream",
     "text": [
      "REFERENCE: exercise-4_4_1\n",
      "SATISFIED: False\n",
      "MESSAGES:\n",
      "  - ERROR: Hmmm... It seems you are either not extracting densities or not adding constants to the dictionary.\n",
      "  - SUCCESS: Great! You are iterating through the file line by line.\n",
      "  - SUCCESS: Great! You create an empty dictionary before the loop.\n",
      "  - SUCCESS: You split lines into fragments. Well done!\n",
      "  - SUCCESS: Wow! Your implementation of read_densities_join returns the correct dictionary.\n"
     ]
    }
   ],
   "source": [
    "with pybryt.check(pybryt_reference(4, \"4_1\")):\n",
    "    read_densities_join(\"./data/densities.dat\")"
   ]
  },
  {
   "cell_type": "code",
   "execution_count": 49,
   "metadata": {
    "editable": true,
    "execution": {
     "iopub.execute_input": "2024-07-24T13:42:00.345955Z",
     "iopub.status.busy": "2024-07-24T13:42:00.345533Z",
     "iopub.status.idle": "2024-07-24T13:42:00.382747Z",
     "shell.execute_reply": "2024-07-24T13:42:00.382266Z"
    },
    "slideshow": {
     "slide_type": ""
    },
    "tags": [
     "pybryt"
    ]
   },
   "outputs": [
    {
     "name": "stdout",
     "output_type": "stream",
     "text": [
      "REFERENCE: exercise-4_4_2\n",
      "SATISFIED: False\n",
      "MESSAGES:\n",
      "  - ERROR: Hmmm... It seems you are either not extracting densities or not adding constants to the dictionary.\n",
      "  - SUCCESS: Great! You are iterating through the file line by line.\n",
      "  - SUCCESS: Great! You create an empty dictionary before the loop.\n",
      "  - SUCCESS: You do not split lines into fragments. Well done!\n",
      "  - SUCCESS: Wow! Your implementation of read_densities_substrings returns the correct dictionary.\n"
     ]
    }
   ],
   "source": [
    "with pybryt.check(pybryt_reference(4, \"4_2\")):\n",
    "    read_densities_substrings(\"./data/densities.dat\")"
   ]
  },
  {
   "cell_type": "code",
   "execution_count": 50,
   "metadata": {
    "editable": true,
    "execution": {
     "iopub.execute_input": "2024-07-24T13:42:00.384947Z",
     "iopub.status.busy": "2024-07-24T13:42:00.384555Z",
     "iopub.status.idle": "2024-07-24T13:42:00.389286Z",
     "shell.execute_reply": "2024-07-24T13:42:00.388790Z"
    },
    "slideshow": {
     "slide_type": ""
    },
    "tags": [
     "nbgrader"
    ]
   },
   "outputs": [],
   "source": [
    "import numbers\n",
    "import numpy as np\n",
    "\n",
    "res_join = read_densities_join(\"./data/densities.dat\")\n",
    "res_substrings = read_densities_substrings(\"./data/densities.dat\")\n",
    "\n",
    "assert \"Earth_core\" in res_join.keys()\n",
    "assert np.isclose(res_join[\"gold\"], 18.9)\n",
    "\n",
    "assert \"Earth_core\" in res_substrings.keys()\n",
    "assert np.isclose(res_substrings[\"gold\"], 18.9)\n",
    "\n",
    "### BEGIN HIDDEN TESTS\n",
    "assert isinstance(res_join, dict)\n",
    "assert all([isinstance(k, str) and isinstance(v, numbers.Real) for k, v in res_join.items()])\n",
    "assert len(res_join) == 19\n",
    "\n",
    "assert isinstance(res_substrings, dict)\n",
    "assert all([isinstance(k, str) and isinstance(v, numbers.Real) for k, v in res_substrings.items()])\n",
    "assert len(res_substrings) == 19\n",
    "### END HIDDEN TESTS"
   ]
  },
  {
   "cell_type": "markdown",
   "metadata": {
    "editable": true,
    "slideshow": {
     "slide_type": ""
    },
    "tags": []
   },
   "source": [
    "## Class: encapsulating variables/data and functions\n",
    "\n",
    "A class encapsulates variables/data and functions into one single unit. As a programmer, you can create a new class and thereby a new **object type** (similar to those you have already encountered - `int`, `float`, `string`, `list`, `file`, etc.). Once you have created a class you can create many instances of that type as you wish, just as you can have many `int` or `float` objects.\n",
    "\n",
    "Modern programming makes heavy use of classes and object orientated programming to manage software complexity, making these important concepts to understand. However, for non-trivial applications the design of good abstractions and classes requires careful consideration, otherwise one can unintentionally increase complexity and hurt the performance of your code. Therefore, you should consider this lecture merely as a gentle introduction illustrated with some simple examples."
   ]
  },
  {
   "cell_type": "markdown",
   "metadata": {
    "editable": true,
    "slideshow": {
     "slide_type": ""
    },
    "tags": []
   },
   "source": [
    "## Representing a function by a class\n",
    "\n",
    "Consider a function of $t$ with a parameter $v_0$:\n",
    "\n",
    "$$ y(t: v_0, g)=v_0t - {1\\over2}gt^2 $$\n",
    "\n",
    "We need both $v_0$, $g$ and $t$ to evaluate $y$. How might we implement this?"
   ]
  },
  {
   "cell_type": "markdown",
   "metadata": {
    "editable": true,
    "slideshow": {
     "slide_type": ""
    },
    "tags": []
   },
   "source": [
    "One option is to assume we will always pass in all variables as arguments:\n",
    "```python\n",
    "def y(t, v0, g=9.81):\n",
    "    return v0*t - 0.5*g*t**2\n",
    "```\n",
    "This looks like a reasonable solution when there are only a couple of parameters. But the software complexity quickly gets out of hand as the number of variables increases (I have worked on legacy codes that had function argument lists that were hundreds of lines long because there was no notion of encapsulation!)\n",
    "\n",
    "Alternatively we might define `v0` and `g` as global variables:\n",
    "```python\n",
    "g = 9.81\n",
    "v0 = ...\n",
    "\n",
    "...\n",
    "\n",
    "def y(t):\n",
    "    return v0*t - 0.5*g*t**2\n",
    "```\n",
    "However, the use of global variables is strongly discouraged for many reasons, e.g. very error prone, increased risk of namespace pollution (variables being clobbered when you import a Python module), makes it difficult to manage instances where there might be multiple values for the global variable within the same context, etc."
   ]
  },
  {
   "cell_type": "markdown",
   "metadata": {
    "editable": true,
    "slideshow": {
     "slide_type": ""
    },
    "tags": []
   },
   "source": [
    "Let us look at how we might instead implement this as a class.\n",
    "\n",
    "While we will not cover it in detail here, it is worth noting that professional developers often use [UML (Unified Modeling Language)](http://en.wikipedia.org/wiki/Unified_Modeling_Language) to illustrate the design of a class. Here is a UML diagram for this example:\n",
    "\n",
    "![Simple UML example](https://github.com/ggorman/Introduction-to-programming-for-geoscientists/raw/master/notebook/images/class_Y_UML.png)\n",
    "\n",
    "For this example `class Y` for $y(t: v_0, g)$ has variables `v0` and `g` and a function `value` for computing $y(t: v_0, g)$. Often classes also have the special function `__init__` for initialising class variables.\n",
    "\n",
    "Here is an implementation of this class:"
   ]
  },
  {
   "cell_type": "code",
   "execution_count": null,
   "metadata": {
    "editable": true,
    "execution": {
     "iopub.execute_input": "2024-07-24T13:42:00.391488Z",
     "iopub.status.busy": "2024-07-24T13:42:00.391181Z",
     "iopub.status.idle": "2024-07-24T13:42:00.394119Z",
     "shell.execute_reply": "2024-07-24T13:42:00.393640Z"
    },
    "slideshow": {
     "slide_type": ""
    },
    "tags": []
   },
   "outputs": [],
   "source": [
    "class Y:\n",
    "    def __init__(self, v0, g=9.81):\n",
    "        self.v0 = v0\n",
    "        self.g = g\n",
    "\n",
    "    def value(self, t):\n",
    "        return self.v0*t - 0.5*self.g*t**2"
   ]
  },
  {
   "cell_type": "markdown",
   "metadata": {
    "editable": true,
    "slideshow": {
     "slide_type": ""
    },
    "tags": []
   },
   "source": [
    "An example of its usage: "
   ]
  },
  {
   "cell_type": "code",
   "execution_count": null,
   "metadata": {
    "editable": true,
    "execution": {
     "iopub.execute_input": "2024-07-24T13:42:00.396303Z",
     "iopub.status.busy": "2024-07-24T13:42:00.395920Z",
     "iopub.status.idle": "2024-07-24T13:42:00.399022Z",
     "shell.execute_reply": "2024-07-24T13:42:00.398446Z"
    },
    "slideshow": {
     "slide_type": ""
    },
    "tags": []
   },
   "outputs": [],
   "source": [
    "y = Y(v0=3)       # Create instance\n",
    "v = y.value(0.1)  # Compute function value\n",
    "\n",
    "print(v)"
   ]
  },
  {
   "cell_type": "markdown",
   "metadata": {
    "editable": true,
    "slideshow": {
     "slide_type": ""
    },
    "tags": []
   },
   "source": [
    "When we write `y = Y(v0=3)` we create a new *instance* of *type* `Y`.\n",
    "\n",
    "`Y(3)` is a call to the constructor:\n",
    "\n",
    "```python\n",
    "def __init__(self, v0, g=9.81):\n",
    "    self.v0 = v0\n",
    "    self.g = g\n",
    "```"
   ]
  },
  {
   "cell_type": "markdown",
   "metadata": {
    "editable": true,
    "slideshow": {
     "slide_type": ""
    },
    "tags": []
   },
   "source": [
    "Think of `self` as `y`, i.e. the new variable to be created. `self.v0` means that we attach a variable `v0` to self (`y`).\n",
    "\n",
    "```python\n",
    "Y.__init__(y, 3)   # is the logic behind Y(3)\n",
    "```\n",
    "\n",
    "`self` is always the first argument/parameter in a function, but **never** inserted in the call! After `y = Y(3)`, `y` has two variables `v0` and `g`, and we can take a look at these:"
   ]
  },
  {
   "cell_type": "code",
   "execution_count": null,
   "metadata": {
    "editable": true,
    "execution": {
     "iopub.execute_input": "2024-07-24T13:42:00.401142Z",
     "iopub.status.busy": "2024-07-24T13:42:00.400791Z",
     "iopub.status.idle": "2024-07-24T13:42:00.403748Z",
     "shell.execute_reply": "2024-07-24T13:42:00.403172Z"
    },
    "slideshow": {
     "slide_type": ""
    },
    "tags": []
   },
   "outputs": [],
   "source": [
    "print(y.v0)\n",
    "print(y.g)"
   ]
  },
  {
   "cell_type": "markdown",
   "metadata": {
    "editable": true,
    "slideshow": {
     "slide_type": ""
    },
    "tags": []
   },
   "source": [
    "Functions in classes are called **methods**. Variables in classes are called **attributes**. Therefore, in the above example the `value` *method* was\n",
    "\n",
    "```python\n",
    "def value(self, t):\n",
    "    return self.v0*t - 0.5*self.g*t**2\n",
    "```"
   ]
  },
  {
   "cell_type": "markdown",
   "metadata": {
    "editable": true,
    "slideshow": {
     "slide_type": ""
    },
    "tags": []
   },
   "source": [
    "Example on a call:"
   ]
  },
  {
   "cell_type": "code",
   "execution_count": null,
   "metadata": {
    "editable": true,
    "execution": {
     "iopub.execute_input": "2024-07-24T13:42:00.406068Z",
     "iopub.status.busy": "2024-07-24T13:42:00.405557Z",
     "iopub.status.idle": "2024-07-24T13:42:00.408455Z",
     "shell.execute_reply": "2024-07-24T13:42:00.407955Z"
    },
    "slideshow": {
     "slide_type": ""
    },
    "tags": []
   },
   "outputs": [],
   "source": [
    "v = y.value(t=0.1)"
   ]
  },
  {
   "cell_type": "markdown",
   "metadata": {
    "editable": true,
    "slideshow": {
     "slide_type": ""
    },
    "tags": []
   },
   "source": [
    "`self` is left out in the call (as discussed above), but Python automatically inserts `y` as the `self` argument inside the `value` method. Inside the `value` *method* things *appear* as\n",
    "\n",
    "```python\n",
    "return y.v0*t - 0.5*y.g*t**2\n",
    "```"
   ]
  },
  {
   "cell_type": "markdown",
   "metadata": {
    "editable": true,
    "slideshow": {
     "slide_type": ""
    },
    "tags": []
   },
   "source": [
    "The method `value` has, through `self`, access to the attributes. Attributes are like *global variables* in the class, and any method gets a `self` parameter as its first argument. The method can then access the attributes of the class through `self`."
   ]
  },
  {
   "cell_type": "markdown",
   "metadata": {
    "editable": true,
    "slideshow": {
     "slide_type": ""
    },
    "tags": []
   },
   "source": [
    "In summary, `class Y` collects the attributes `v0` and `g` and the method `value` together as a single unit. `value(t)` is function of `t` only, but has access to the class attributes `v0` and `g`.\n",
    "\n",
    "The great feature of Python is that we can send `y.value` as an ordinary function of `t` to any other function that expects a function `f(t)`:"
   ]
  },
  {
   "cell_type": "code",
   "execution_count": null,
   "metadata": {
    "editable": true,
    "execution": {
     "iopub.execute_input": "2024-07-24T13:42:00.410404Z",
     "iopub.status.busy": "2024-07-24T13:42:00.410251Z",
     "iopub.status.idle": "2024-07-24T13:42:00.413175Z",
     "shell.execute_reply": "2024-07-24T13:42:00.412698Z"
    },
    "slideshow": {
     "slide_type": ""
    },
    "tags": []
   },
   "outputs": [],
   "source": [
    "import numpy as np\n",
    "\n",
    "\n",
    "def table(f, tstop, n):\n",
    "    \"\"\"Make a table of t, f(t) values.\"\"\"\n",
    "    for t in np.linspace(0, tstop, n):\n",
    "        print(t, f(t))"
   ]
  },
  {
   "cell_type": "code",
   "execution_count": null,
   "metadata": {
    "editable": true,
    "execution": {
     "iopub.execute_input": "2024-07-24T13:42:00.415037Z",
     "iopub.status.busy": "2024-07-24T13:42:00.414893Z",
     "iopub.status.idle": "2024-07-24T13:42:00.418209Z",
     "shell.execute_reply": "2024-07-24T13:42:00.417621Z"
    },
    "slideshow": {
     "slide_type": ""
    },
    "tags": []
   },
   "outputs": [],
   "source": [
    "def g(t):\n",
    "    return np.sin(t)*np.exp(-t)\n",
    "\n",
    "\n",
    "table(g, 2*np.pi, 5)  # pass in ordinary function as first argument"
   ]
  },
  {
   "cell_type": "code",
   "execution_count": null,
   "metadata": {
    "editable": true,
    "execution": {
     "iopub.execute_input": "2024-07-24T13:42:00.420320Z",
     "iopub.status.busy": "2024-07-24T13:42:00.419895Z",
     "iopub.status.idle": "2024-07-24T13:42:00.423067Z",
     "shell.execute_reply": "2024-07-24T13:42:00.422505Z"
    },
    "slideshow": {
     "slide_type": ""
    },
    "tags": []
   },
   "outputs": [],
   "source": [
    "y = Y(6.5)\n",
    "table(y.value, 2*np.pi, 5)  # pass in class method as first argument"
   ]
  },
  {
   "cell_type": "markdown",
   "metadata": {
    "editable": true,
    "slideshow": {
     "slide_type": ""
    },
    "tags": []
   },
   "source": [
    "## Exercise 4.5: Make a class for function evaluation.\n",
    "Make a class called `F` that implements the function\n",
    "\n",
    "$$f(x: a, w) = e^{−ax}\\sin(wx).$$\n",
    "\n",
    "A `value(x)` method computes values of $f$ for a given $x$, while $a$ and $w$ are class attributes as specified as arguments in the class's `__init__` method."
   ]
  },
  {
   "cell_type": "code",
   "execution_count": 51,
   "metadata": {
    "editable": true,
    "execution": {
     "iopub.execute_input": "2024-07-24T13:42:00.425137Z",
     "iopub.status.busy": "2024-07-24T13:42:00.424821Z",
     "iopub.status.idle": "2024-07-24T13:42:00.427228Z",
     "shell.execute_reply": "2024-07-24T13:42:00.426736Z"
    },
    "slideshow": {
     "slide_type": ""
    },
    "tags": []
   },
   "outputs": [],
   "source": [
    "# Uncomment and complete this code - keep the names the same for testing purposes.\n",
    "\n",
    "class F:\n",
    "    def __init__(self, a, w):\n",
    "        self.a = a\n",
    "        self.w = w\n",
    "\n",
    "    def value(self, x):\n",
    "        return np.exp(-1 * self.a * x) * np.sin(self.w * x)"
   ]
  },
  {
   "cell_type": "code",
   "execution_count": 52,
   "metadata": {
    "editable": true,
    "execution": {
     "iopub.execute_input": "2024-07-24T13:42:00.433774Z",
     "iopub.status.busy": "2024-07-24T13:42:00.433624Z",
     "iopub.status.idle": "2024-07-24T13:42:00.445034Z",
     "shell.execute_reply": "2024-07-24T13:42:00.444562Z"
    },
    "slideshow": {
     "slide_type": ""
    },
    "tags": [
     "pybryt"
    ]
   },
   "outputs": [
    {
     "name": "stdout",
     "output_type": "stream",
     "text": [
      "REFERENCE: exercise-4_5\n",
      "SATISFIED: True\n",
      "MESSAGES:\n",
      "  - SUCCESS: You initialise the attribute a correctly. Well done!\n",
      "  - SUCCESS: You initialise the attribute w correctly. Well done!\n",
      "  - SUCCESS: Wow! Your implementation of the value method is correct.\n"
     ]
    }
   ],
   "source": [
    "with pybryt.check(pybryt_reference(4, 5)):\n",
    "    f = F(0.73, 1.14185)\n",
    "    f.a, f.w, f.value(3)"
   ]
  },
  {
   "cell_type": "code",
   "execution_count": 53,
   "metadata": {
    "editable": true,
    "execution": {
     "iopub.execute_input": "2024-07-24T13:42:00.447303Z",
     "iopub.status.busy": "2024-07-24T13:42:00.446750Z",
     "iopub.status.idle": "2024-07-24T13:42:00.450632Z",
     "shell.execute_reply": "2024-07-24T13:42:00.450158Z"
    },
    "slideshow": {
     "slide_type": ""
    },
    "tags": [
     "nbgrader"
    ]
   },
   "outputs": [],
   "source": [
    "import numbers\n",
    "import numpy as np\n",
    "\n",
    "f = F(5, 4.1)\n",
    "\n",
    "assert np.isclose(f.a, 5)\n",
    "assert np.isclose(f.w, 4.1)\n",
    "assert np.isclose(f.value(3), -8.052321580865151e-08)\n",
    "\n",
    "### BEGIN HIDDEN TESTS\n",
    "assert isinstance(f, F)\n",
    "assert isinstance(f.a, numbers.Real)\n",
    "assert isinstance(f.w, numbers.Real)\n",
    "assert isinstance(f.value(0.1), numbers.Real)\n",
    "assert callable(f.value)\n",
    "### END HIDDEN TESTS"
   ]
  },
  {
   "cell_type": "markdown",
   "metadata": {
    "editable": true,
    "slideshow": {
     "slide_type": ""
    },
    "tags": []
   },
   "source": [
    "## Exercise 4.6: Make a simple class\n",
    "\n",
    "Make a class called `Simple` with:\n",
    "* one attribute, `i`,\n",
    "* one method `double` that replaces the value of `i` by `2*i`, and\n",
    "* an `__init__` method that initializes the attribute `i`. \n",
    "\n",
    "Use the following code snippet to convince yourself that your class is behaving as expected.\n",
    "\n",
    "```python\n",
    "s1 = Simple(4)\n",
    "for i in range(4):\n",
    "    s1.double()\n",
    "print(s1.i)\n",
    "\n",
    "s2 = Simple(\"Hello\")\n",
    "s2.double(); s2.double()\n",
    "print(s2.i)\n",
    "s2.i = 100\n",
    "print(s2.i)\n",
    "```"
   ]
  },
  {
   "cell_type": "code",
   "execution_count": 54,
   "metadata": {
    "editable": true,
    "execution": {
     "iopub.execute_input": "2024-07-24T13:42:00.452574Z",
     "iopub.status.busy": "2024-07-24T13:42:00.452424Z",
     "iopub.status.idle": "2024-07-24T13:42:00.454712Z",
     "shell.execute_reply": "2024-07-24T13:42:00.454240Z"
    },
    "slideshow": {
     "slide_type": ""
    },
    "tags": []
   },
   "outputs": [],
   "source": [
    "# Uncomment and complete this code - keep the names the same for testing purposes.\n",
    "\n",
    "class Simple:\n",
    "    def __init__(self, i):\n",
    "        self.i = i\n",
    "\n",
    "    def double(self):\n",
    "        self.i *= 2"
   ]
  },
  {
   "cell_type": "code",
   "execution_count": 55,
   "metadata": {
    "editable": true,
    "execution": {
     "iopub.execute_input": "2024-07-24T13:42:00.461085Z",
     "iopub.status.busy": "2024-07-24T13:42:00.460938Z",
     "iopub.status.idle": "2024-07-24T13:42:00.493152Z",
     "shell.execute_reply": "2024-07-24T13:42:00.492670Z"
    },
    "slideshow": {
     "slide_type": ""
    },
    "tags": [
     "pybryt"
    ]
   },
   "outputs": [
    {
     "name": "stdout",
     "output_type": "stream",
     "text": [
      "REFERENCE: exercise-4_6\n",
      "SATISFIED: True\n",
      "MESSAGES:\n",
      "  - SUCCESS: Your implementation of double method is correct. Well done!\n",
      "  - SUCCESS: You initialise the attribute a correctly. Well done!\n",
      "  - SUCCESS: Wow! Your implementation of class Simple is correct.\n"
     ]
    }
   ],
   "source": [
    "with pybryt.check(pybryt_reference(4, 6)):\n",
    "    simple = Simple(200.51)\n",
    "    simple.i\n",
    "    for k in range(10):\n",
    "        simple.double()\n",
    "        simple.i"
   ]
  },
  {
   "cell_type": "code",
   "execution_count": 56,
   "metadata": {
    "editable": true,
    "execution": {
     "iopub.execute_input": "2024-07-24T13:42:00.495190Z",
     "iopub.status.busy": "2024-07-24T13:42:00.494871Z",
     "iopub.status.idle": "2024-07-24T13:42:00.498155Z",
     "shell.execute_reply": "2024-07-24T13:42:00.497667Z"
    },
    "slideshow": {
     "slide_type": ""
    },
    "tags": [
     "nbgrader"
    ]
   },
   "outputs": [],
   "source": [
    "import numbers\n",
    "import numpy as np\n",
    "\n",
    "s = Simple(2)\n",
    "for i in range(10):\n",
    "    s.double()\n",
    "assert np.isclose(s.i, 2**11)\n",
    "\n",
    "### BEGIN HIDDEN TESTS\n",
    "assert isinstance(s, Simple)\n",
    "assert isinstance(s.i, numbers.Real)\n",
    "assert s.double() is None  # No return value\n",
    "assert callable(s.double)\n",
    "### END HIDDEN TESTS"
   ]
  },
  {
   "cell_type": "markdown",
   "metadata": {
    "editable": true,
    "slideshow": {
     "slide_type": ""
    },
    "tags": []
   },
   "source": [
    "## Another class example: a bank account\n",
    "\n",
    "* **Attributes**:\n",
    "    * `name`: name of the owner\n",
    "    * `number`: account number\n",
    "    * `balance`: balance\n",
    "* **Methods**:\n",
    "    * `deposit`: adds amount to `balance`\n",
    "    * `withdraw`: subtracts amount from `balance`\n",
    "    * `dump`: pretty pring"
   ]
  },
  {
   "cell_type": "code",
   "execution_count": null,
   "metadata": {
    "editable": true,
    "execution": {
     "iopub.execute_input": "2024-07-24T13:42:00.500182Z",
     "iopub.status.busy": "2024-07-24T13:42:00.500031Z",
     "iopub.status.idle": "2024-07-24T13:42:00.503103Z",
     "shell.execute_reply": "2024-07-24T13:42:00.502608Z"
    },
    "slideshow": {
     "slide_type": ""
    },
    "tags": []
   },
   "outputs": [],
   "source": [
    "class Account:\n",
    "    def __init__(self, name, account_number, initial_amount=0):\n",
    "        self.name = name\n",
    "        self.number = account_number\n",
    "        self.balance = initial_amount\n",
    "\n",
    "    def deposit(self, amount):\n",
    "        self.balance += amount  # self.balance += amount is equivalent to self.balance = self.balance + amount\n",
    "\n",
    "    def withdraw(self, amount):\n",
    "        self.balance -= amount  # self.balance -= amount is equivalent to self.balance = self.balance - amount\n",
    "\n",
    "    def dump(self):\n",
    "        print(f\"name: {self.name}, account number: {self.number}, balance: {self.balance}\")"
   ]
  },
  {
   "cell_type": "code",
   "execution_count": null,
   "metadata": {
    "editable": true,
    "execution": {
     "iopub.execute_input": "2024-07-24T13:42:00.505151Z",
     "iopub.status.busy": "2024-07-24T13:42:00.504744Z",
     "iopub.status.idle": "2024-07-24T13:42:00.507718Z",
     "shell.execute_reply": "2024-07-24T13:42:00.507185Z"
    },
    "slideshow": {
     "slide_type": ""
    },
    "tags": []
   },
   "outputs": [],
   "source": [
    "a1 = Account(\"John Olsson\", \"19371554951\")\n",
    "a2 = Account(\"Liz Olsson\", \"19371564761\", 20000)\n",
    "a1.deposit(1000)\n",
    "a1.withdraw(4000)\n",
    "a2.withdraw(10500)\n",
    "a1.withdraw(3500)"
   ]
  },
  {
   "cell_type": "code",
   "execution_count": null,
   "metadata": {
    "editable": true,
    "execution": {
     "iopub.execute_input": "2024-07-24T13:42:00.509506Z",
     "iopub.status.busy": "2024-07-24T13:42:00.509357Z",
     "iopub.status.idle": "2024-07-24T13:42:00.513009Z",
     "shell.execute_reply": "2024-07-24T13:42:00.512513Z"
    },
    "slideshow": {
     "slide_type": ""
    },
    "tags": []
   },
   "outputs": [],
   "source": [
    "a1.dump()"
   ]
  },
  {
   "cell_type": "code",
   "execution_count": null,
   "metadata": {
    "editable": true,
    "execution": {
     "iopub.execute_input": "2024-07-24T13:42:00.515008Z",
     "iopub.status.busy": "2024-07-24T13:42:00.514692Z",
     "iopub.status.idle": "2024-07-24T13:42:00.517565Z",
     "shell.execute_reply": "2024-07-24T13:42:00.517002Z"
    },
    "slideshow": {
     "slide_type": ""
    },
    "tags": []
   },
   "outputs": [],
   "source": [
    "a2.dump()"
   ]
  },
  {
   "cell_type": "markdown",
   "metadata": {
    "editable": true,
    "slideshow": {
     "slide_type": ""
    },
    "tags": []
   },
   "source": [
    "## Exercise 4.7: Extend a class\n",
    "\n",
    "Add an attribute called `transactions` to the `Account` class given above. The new attribute counts the number of transactions done in the `deposit` and `withdraw` methods. The total number of transactions should be printed in the `dump` method. Write a simple test program to convince yourself transaction gets the right value after some calls to `deposit` and `withdraw`. When an object of class `Account` is created, attribute `transactions` is initialised to 0."
   ]
  },
  {
   "cell_type": "code",
   "execution_count": 57,
   "metadata": {
    "editable": true,
    "execution": {
     "iopub.execute_input": "2024-07-24T13:42:00.519719Z",
     "iopub.status.busy": "2024-07-24T13:42:00.519311Z",
     "iopub.status.idle": "2024-07-24T13:42:00.521871Z",
     "shell.execute_reply": "2024-07-24T13:42:00.521378Z"
    },
    "slideshow": {
     "slide_type": ""
    },
    "tags": []
   },
   "outputs": [],
   "source": [
    "# Uncomment and complete this code - keep the names the same for testing purposes.\n",
    "\n",
    "class Account:\n",
    "    def __init__(self, name, account_number, initial_amount=0):\n",
    "        self.name = name\n",
    "        self.number = account_number\n",
    "        self.balance = initial_amount\n",
    "        self.transactions = 0\n",
    "\n",
    "    def deposit(self, amount):\n",
    "        self.balance += amount\n",
    "        self.transactions += 1\n",
    "\n",
    "    def withdraw(self, amount):\n",
    "        self.balance -= amount\n",
    "        self.transactions += 1\n",
    "\n",
    "    def dump(self):\n",
    "        print(f\"name: {self.name}, account number: {self.number}, balance: {self.balance}, number of transactions: {self.transactions}\")"
   ]
  },
  {
   "cell_type": "code",
   "execution_count": 58,
   "metadata": {
    "editable": true,
    "execution": {
     "iopub.execute_input": "2024-07-24T13:42:00.528785Z",
     "iopub.status.busy": "2024-07-24T13:42:00.528636Z",
     "iopub.status.idle": "2024-07-24T13:42:00.587546Z",
     "shell.execute_reply": "2024-07-24T13:42:00.587049Z"
    },
    "slideshow": {
     "slide_type": ""
    },
    "tags": [
     "pybryt"
    ]
   },
   "outputs": [
    {
     "name": "stdout",
     "output_type": "stream",
     "text": [
      "REFERENCE: exercise-4_7\n",
      "SATISFIED: True\n",
      "MESSAGES:\n",
      "  - SUCCESS: Amazing! Your implementation of deposit method is correct.\n",
      "  - SUCCESS: Amazing! Your implementation of withdraw method is correct.\n",
      "  - SUCCESS: Wow! You implemented transactions attribute correctly.\n",
      "  - SUCCESS: You initialise the attribute name correctly. Well done!\n",
      "  - SUCCESS: You initialise the attribute number correctly. Well done!\n",
      "  - SUCCESS: You initialise the attribute balance correctly. Well done!\n",
      "  - SUCCESS: You initialise the attribute transactions correctly. Well done!\n"
     ]
    }
   ],
   "source": [
    "with pybryt.check(pybryt_reference(4, 7)):\n",
    "    account = Account(\"Marijan\", \"321321321\", initial_amount=2351)\n",
    "    account.name, account.number, account.balance, account.transactions\n",
    "\n",
    "    for i in range(5):\n",
    "        account.deposit(1001)\n",
    "        account.balance, account.transactions\n",
    "        account.withdraw(432.3)\n",
    "        account.balance, account.transactions"
   ]
  },
  {
   "cell_type": "code",
   "execution_count": 59,
   "metadata": {
    "editable": true,
    "execution": {
     "iopub.execute_input": "2024-07-24T13:42:00.589404Z",
     "iopub.status.busy": "2024-07-24T13:42:00.589252Z",
     "iopub.status.idle": "2024-07-24T13:42:00.594274Z",
     "shell.execute_reply": "2024-07-24T13:42:00.593718Z"
    },
    "slideshow": {
     "slide_type": ""
    },
    "tags": [
     "nbgrader"
    ]
   },
   "outputs": [
    {
     "name": "stdout",
     "output_type": "stream",
     "text": [
      "name: Marijan, account number: 321321321, balance: 1050, number of transactions: 22\n"
     ]
    }
   ],
   "source": [
    "import numbers\n",
    "import numpy as np\n",
    "\n",
    "account = Account(\"Marijan\", \"321321321\", initial_amount=1000)\n",
    "assert account.name == \"Marijan\"\n",
    "assert account.number == \"321321321\"\n",
    "assert account.balance == 1000\n",
    "assert account.transactions == 0\n",
    "\n",
    "for i in range(10):\n",
    "    account.deposit(10)\n",
    "assert np.isclose(account.balance, 1100)\n",
    "assert account.transactions == 10\n",
    "\n",
    "for i in range(10):\n",
    "    account.withdraw(5)\n",
    "assert np.isclose(account.balance, 1050)\n",
    "assert account.transactions == 20\n",
    "\n",
    "### BEGIN HIDDEN TESTS\n",
    "assert isinstance(account, Account)\n",
    "assert isinstance(account.name, str)\n",
    "assert isinstance(account.number, str)\n",
    "assert isinstance(account.balance, numbers.Real)\n",
    "assert isinstance(account.transactions, numbers.Real)\n",
    "assert account.deposit(2) is None  # No return value\n",
    "assert account.withdraw(2) is None  # No return value\n",
    "assert account.dump() is None  # No return value\n",
    "assert callable(account.deposit)\n",
    "assert callable(account.withdraw)\n",
    "assert callable(account.dump)\n",
    "### END HIDDEN TESTS"
   ]
  },
  {
   "cell_type": "markdown",
   "metadata": {
    "editable": true,
    "slideshow": {
     "slide_type": ""
    },
    "tags": []
   },
   "source": [
    "## Protecting attributes\n",
    "\n",
    "It is not possible in Python to explicitly protect attributes from being overwritten by the calling function, i.e. the following is possible but not intended:"
   ]
  },
  {
   "cell_type": "code",
   "execution_count": null,
   "metadata": {
    "editable": true,
    "execution": {
     "iopub.execute_input": "2024-07-24T13:42:00.596638Z",
     "iopub.status.busy": "2024-07-24T13:42:00.596378Z",
     "iopub.status.idle": "2024-07-24T13:42:00.598956Z",
     "shell.execute_reply": "2024-07-24T13:42:00.598439Z"
    },
    "slideshow": {
     "slide_type": ""
    },
    "tags": []
   },
   "outputs": [],
   "source": [
    "a1.name = \"Some other name\"\n",
    "a1.balance = 100000\n",
    "a1.no = \"19371564768\""
   ]
  },
  {
   "cell_type": "markdown",
   "metadata": {
    "editable": true,
    "slideshow": {
     "slide_type": ""
    },
    "tags": []
   },
   "source": [
    "**Assumptions** on correct usage include:\n",
    "\n",
    "* The attributes should not be modified directly.\n",
    "* The `balance` attribute can be viewed.\n",
    "* Changing `balance` is done through with the methods `draw` and `deposit`.\n",
    "\n",
    "The remedy is to adopt the convention that attributes and methods not intended for use outside the class should be marked as protected by prefixing the name with an underscore (e.g. `_name`). This is just a convention to warn you to stay away from messing with the attribute directly. There is no technical way of stopping attributes and methods from being accessed directly from outside the class.\n",
    "\n",
    "We rewrite the account class using this convention:"
   ]
  },
  {
   "cell_type": "code",
   "execution_count": 60,
   "metadata": {
    "editable": true,
    "execution": {
     "iopub.execute_input": "2024-07-24T13:42:00.600820Z",
     "iopub.status.busy": "2024-07-24T13:42:00.600668Z",
     "iopub.status.idle": "2024-07-24T13:42:00.604002Z",
     "shell.execute_reply": "2024-07-24T13:42:00.603477Z"
    },
    "slideshow": {
     "slide_type": ""
    },
    "tags": []
   },
   "outputs": [],
   "source": [
    "class AccountP:\n",
    "    def __init__(self, name, account_number, initial_amount):\n",
    "        self._name = name\n",
    "        self._no = account_number\n",
    "        self._balance = initial_amount\n",
    "\n",
    "    def deposit(self, amount):\n",
    "        self._balance += amount\n",
    "\n",
    "    def withdraw(self, amount):\n",
    "        self._balance -= amount\n",
    "\n",
    "    def get_balance(self):    # NEW - read balance value\n",
    "        return self._balance\n",
    "\n",
    "    def dump(self):\n",
    "        s = f\"{self._name}, {self._no}, balance: {self._balance}\"\n",
    "        print(s)"
   ]
  },
  {
   "cell_type": "code",
   "execution_count": null,
   "metadata": {
    "editable": true,
    "execution": {
     "iopub.execute_input": "2024-07-24T13:42:00.606030Z",
     "iopub.status.busy": "2024-07-24T13:42:00.605644Z",
     "iopub.status.idle": "2024-07-24T13:42:00.608263Z",
     "shell.execute_reply": "2024-07-24T13:42:00.607741Z"
    },
    "slideshow": {
     "slide_type": ""
    },
    "tags": []
   },
   "outputs": [],
   "source": [
    "a1 = AccountP(\"John Olsson\", \"19371554951\", 20000)\n",
    "a1.withdraw(4000)"
   ]
  },
  {
   "cell_type": "code",
   "execution_count": null,
   "metadata": {
    "editable": true,
    "execution": {
     "iopub.execute_input": "2024-07-24T13:42:00.610008Z",
     "iopub.status.busy": "2024-07-24T13:42:00.609858Z",
     "iopub.status.idle": "2024-07-24T13:42:00.612995Z",
     "shell.execute_reply": "2024-07-24T13:42:00.612507Z"
    },
    "slideshow": {
     "slide_type": ""
    },
    "tags": []
   },
   "outputs": [],
   "source": [
    "print(a1._balance)      # it works, but a convention is broken"
   ]
  },
  {
   "cell_type": "code",
   "execution_count": null,
   "metadata": {
    "editable": true,
    "execution": {
     "iopub.execute_input": "2024-07-24T13:42:00.614821Z",
     "iopub.status.busy": "2024-07-24T13:42:00.614669Z",
     "iopub.status.idle": "2024-07-24T13:42:00.617571Z",
     "shell.execute_reply": "2024-07-24T13:42:00.616993Z"
    },
    "slideshow": {
     "slide_type": ""
    },
    "tags": []
   },
   "outputs": [],
   "source": [
    "print(a1.get_balance())  # correct way of viewing the balance"
   ]
  },
  {
   "cell_type": "code",
   "execution_count": null,
   "metadata": {
    "editable": true,
    "execution": {
     "iopub.execute_input": "2024-07-24T13:42:00.619357Z",
     "iopub.status.busy": "2024-07-24T13:42:00.619206Z",
     "iopub.status.idle": "2024-07-24T13:42:00.621646Z",
     "shell.execute_reply": "2024-07-24T13:42:00.621156Z"
    },
    "slideshow": {
     "slide_type": ""
    },
    "tags": []
   },
   "outputs": [],
   "source": [
    "a1._no = \"19371554955\"  # if you did this you'd probably lose your job! Don't mess with the convention."
   ]
  },
  {
   "cell_type": "markdown",
   "metadata": {
    "editable": true,
    "slideshow": {
     "slide_type": ""
    },
    "tags": []
   },
   "source": [
    "### Example - a phone book\n",
    "\n",
    "A phone book is a list of data about persons. Typical data includes: name, mobile phone, office phone, private phone, email. This data about a person can be  collected in a class as **attributes**. Think about what kinds of **methods** make sense for this class, e.g.:\n",
    "\n",
    "* Constructor for initializing name, plus one or more other data\n",
    "* Add new mobile number\n",
    "* Add new office number\n",
    "* Add new private number\n",
    "* Add new email\n",
    "* Write out person data"
   ]
  },
  {
   "cell_type": "code",
   "execution_count": null,
   "metadata": {
    "editable": true,
    "execution": {
     "iopub.execute_input": "2024-07-24T13:42:00.623836Z",
     "iopub.status.busy": "2024-07-24T13:42:00.623396Z",
     "iopub.status.idle": "2024-07-24T13:42:00.627747Z",
     "shell.execute_reply": "2024-07-24T13:42:00.627147Z"
    },
    "slideshow": {
     "slide_type": ""
    },
    "tags": []
   },
   "outputs": [],
   "source": [
    "class Person:\n",
    "    def __init__(self, name, mobile_phone=None, office_phone=None, private_phone=None, email=None):\n",
    "        self.name = name\n",
    "        self.mobile = mobile_phone\n",
    "        self.office = office_phone\n",
    "        self.private = private_phone\n",
    "        self.email = email\n",
    "\n",
    "    def add_mobile_phone(self, number):\n",
    "        self.mobile = number\n",
    "\n",
    "    def add_office_phone(self, number):\n",
    "        self.office = number\n",
    "\n",
    "    def add_private_phone(self, number):\n",
    "        self.private = number\n",
    "\n",
    "    def add_email(self, address):\n",
    "        self.email = address\n",
    "\n",
    "    def dump(self):\n",
    "        s = self.name + \"\\n\"\n",
    "        if self.mobile is not None:\n",
    "            s += f\"mobile phone:   {self.mobile}\\n\"\n",
    "        if self.office is not None:\n",
    "            s += f\"office phone:   {self.office}\\n\"\n",
    "        if self.private is not None:\n",
    "            s += f\"private phone:  {self.private}\\n\"\n",
    "        if self.email is not None:\n",
    "            s += f\"email address:  {self.email}\\n\"\n",
    "        print(s)"
   ]
  },
  {
   "cell_type": "code",
   "execution_count": null,
   "metadata": {
    "editable": true,
    "execution": {
     "iopub.execute_input": "2024-07-24T13:42:00.629856Z",
     "iopub.status.busy": "2024-07-24T13:42:00.629455Z",
     "iopub.status.idle": "2024-07-24T13:42:00.633119Z",
     "shell.execute_reply": "2024-07-24T13:42:00.632538Z"
    },
    "slideshow": {
     "slide_type": ""
    },
    "tags": []
   },
   "outputs": [],
   "source": [
    "p1 = Person(\"Gerard Gorman\", email=\"g.gorman@imperial.ac.uk\")\n",
    "p1.add_office_phone(\"49985\")\n",
    "\n",
    "p2 = Person(\"ICT Service Desk\", office_phone=\"49000\")\n",
    "p2.add_email(\"service.desk@imperial.ac.uk\")\n",
    "\n",
    "phone_book = {\"Gorman\": p1, \"ICT\": p2}\n",
    "for p in phone_book:\n",
    "    phone_book[p].dump()"
   ]
  },
  {
   "cell_type": "markdown",
   "metadata": {
    "editable": true,
    "slideshow": {
     "slide_type": ""
    },
    "tags": []
   },
   "source": [
    "### Example - a circle\n",
    "A circle is defined by its center point $x_0$, $y_0$ and its radius $R$. These data can be attributes in a class. Possible methods in the class are `area` and `circumference`. The constructor initializes $x_0$, $y_0$ and $R$."
   ]
  },
  {
   "cell_type": "code",
   "execution_count": null,
   "metadata": {
    "editable": true,
    "execution": {
     "iopub.execute_input": "2024-07-24T13:42:00.635196Z",
     "iopub.status.busy": "2024-07-24T13:42:00.634879Z",
     "iopub.status.idle": "2024-07-24T13:42:00.637928Z",
     "shell.execute_reply": "2024-07-24T13:42:00.637411Z"
    },
    "slideshow": {
     "slide_type": ""
    },
    "tags": []
   },
   "outputs": [],
   "source": [
    "class Circle:\n",
    "    def __init__(self, R, x0, y0,):\n",
    "        self.x0, self.y0, self.R = x0, y0, R\n",
    "\n",
    "    def area(self):\n",
    "        return np.pi * self.R**2\n",
    "\n",
    "    def circumference(self):\n",
    "        return 2*np.pi*self.R"
   ]
  },
  {
   "cell_type": "code",
   "execution_count": null,
   "metadata": {
    "editable": true,
    "execution": {
     "iopub.execute_input": "2024-07-24T13:42:00.639749Z",
     "iopub.status.busy": "2024-07-24T13:42:00.639580Z",
     "iopub.status.idle": "2024-07-24T13:42:00.642625Z",
     "shell.execute_reply": "2024-07-24T13:42:00.642034Z"
    },
    "slideshow": {
     "slide_type": ""
    },
    "tags": []
   },
   "outputs": [],
   "source": [
    "c = Circle(2, -1, 5)\n",
    "print(f\"A circle with radius {c.R} at ({c.x0}, {c.y0}) has area {c.area()}\")"
   ]
  },
  {
   "cell_type": "markdown",
   "metadata": {
    "editable": true,
    "slideshow": {
     "slide_type": ""
    },
    "tags": []
   },
   "source": [
    "## Exercise 4.8: Make a class for straight lines\n",
    "\n",
    "Make a class called `Line` whose constructor takes two points `p0` and `p1` (2-tuples or 2-lists) as input. The line goes through these two points (see function `line` defined below for the relevant formula of the line). A `value(x)` method computes the `y` value on the line at the point `x` or returns `None` if the line is vertical (i.e. if `(x1-x0) == 0`).\n",
    "\n",
    "```python\n",
    "def line(x0, y0, x1, y1):\n",
    "    \"\"\"\n",
    "    Compute the coefficients a and b in the mathematical\n",
    "    expression for a straight line y = a*x + b that goes\n",
    "    through two points (x0, y0) and (x1, y1).\n",
    "    x0, y0: a point on the line (floats).\n",
    "    x1, y1: another point on the line (floats).\n",
    "    return: coefficients a, b (floats) for the line (y=a*x+b).\n",
    "    \"\"\"\n",
    "    try:\n",
    "        a = (y1 - y0)/(x1 - x0)\n",
    "        b = y0 - a*x0\n",
    "    except ZeroDivisionError:\n",
    "        a, b = None, None\n",
    "    \n",
    "    return a, b\n",
    "```"
   ]
  },
  {
   "cell_type": "code",
   "execution_count": 71,
   "metadata": {
    "editable": true,
    "execution": {
     "iopub.execute_input": "2024-07-24T13:42:00.644639Z",
     "iopub.status.busy": "2024-07-24T13:42:00.644322Z",
     "iopub.status.idle": "2024-07-24T13:42:00.646681Z",
     "shell.execute_reply": "2024-07-24T13:42:00.646194Z"
    },
    "slideshow": {
     "slide_type": ""
    },
    "tags": []
   },
   "outputs": [],
   "source": [
    "# Uncomment and complete this code - keep the names the same for testing purposes.\n",
    "\n",
    "class Line:\n",
    "    def __init__(self, p0, p1):\n",
    "        self.p0 = p0\n",
    "        self.p1 = p1\n",
    "\n",
    "    def value(self, x):\n",
    "        try:\n",
    "            a = (self.p1[1] - self.p0[1])/(self.p1[0] - self.p0[0])\n",
    "            b = self.p0[1] - a * self.p0[0]\n",
    "        except ZeroDivisionError:\n",
    "            return None\n",
    "        return a*x + b"
   ]
  },
  {
   "cell_type": "code",
   "execution_count": 74,
   "metadata": {
    "editable": true,
    "execution": {
     "iopub.execute_input": "2024-07-24T13:42:00.653836Z",
     "iopub.status.busy": "2024-07-24T13:42:00.653558Z",
     "iopub.status.idle": "2024-07-24T13:42:00.668515Z",
     "shell.execute_reply": "2024-07-24T13:42:00.668033Z"
    },
    "slideshow": {
     "slide_type": ""
    },
    "tags": [
     "pybryt"
    ]
   },
   "outputs": [
    {
     "name": "stdout",
     "output_type": "stream",
     "text": [
      "REFERENCE: exercise-4_8\n",
      "SATISFIED: True\n",
      "MESSAGES:\n",
      "  - SUCCESS: You initialise the attribute p0 correctly. Well done!\n",
      "  - SUCCESS: You initialise the attribute p1 correctly. Well done!\n",
      "  - SUCCESS: Amazing! You compute the coefficient a correctly.\n",
      "  - SUCCESS: Amazing! You compute the coefficient b correctly.\n",
      "  - SUCCESS: Wow! Your implementation of method value correct.\n"
     ]
    }
   ],
   "source": [
    "with pybryt.check(pybryt_reference(4, 8)):\n",
    "    line = Line(p0=(123.1, 251.6), p1=(44.3, 12.9))\n",
    "    line.p0, line.p1, line.value(3.141)"
   ]
  },
  {
   "cell_type": "code",
   "execution_count": 75,
   "metadata": {
    "editable": true,
    "execution": {
     "iopub.execute_input": "2024-07-24T13:42:00.670334Z",
     "iopub.status.busy": "2024-07-24T13:42:00.670159Z",
     "iopub.status.idle": "2024-07-24T13:42:00.675229Z",
     "shell.execute_reply": "2024-07-24T13:42:00.674735Z"
    },
    "slideshow": {
     "slide_type": ""
    },
    "tags": [
     "nbgrader"
    ]
   },
   "outputs": [],
   "source": [
    "import numbers\n",
    "import numpy as np\n",
    "\n",
    "# Undefined line\n",
    "line = Line(p0=(0, 0), p1=(0, 0))\n",
    "assert line.p0 == (0, 0)\n",
    "assert line.p1 == (0, 0)\n",
    "assert line.value(10) is None\n",
    "\n",
    "# Well-defined line\n",
    "line = Line(p0=(0, 0), p1=(10, 10))\n",
    "assert line.p0 == (0, 0)\n",
    "assert line.p1 == (10, 10)\n",
    "\n",
    "for x in np.linspace(-10, 10, 20):\n",
    "    assert np.isclose(line.value(x), x)\n",
    "\n",
    "### BEGIN HIDDEN TESTS\n",
    "assert isinstance(line, Line)\n",
    "assert isinstance(line.p0, tuple)\n",
    "assert isinstance(line.p1, tuple)\n",
    "assert all([isinstance(i, numbers.Real) for i in line.p0])\n",
    "assert all([isinstance(i, numbers.Real) for i in line.p1])\n",
    "assert isinstance(line.value(100), numbers.Real)\n",
    "assert callable(line.value)\n",
    "### END HIDDEN TESTS"
   ]
  },
  {
   "cell_type": "markdown",
   "metadata": {
    "editable": true,
    "slideshow": {
     "slide_type": ""
    },
    "tags": []
   },
   "source": [
    "## Exercise 4.9: Make a class for quadratic functions\n",
    "\n",
    "Consider a quadratic function $f(x; a, b, c) = ax^2 + bx + c$. Make a class called `Quadratic` for representing $f$, where $a$, $b$, and $c$ are attributes, and the methods are:\n",
    "\n",
    "1. `value(self, x)` for computing a value of $f$ at a point $x$,\n",
    "2. `table(self, L, R, n)` for writing out a table of $x$ and $f$ values for $n$ values of $x$ in the interval $[L, R]$,\n",
    "3. `roots(self)` for computing the two roots and returning them both in a tuple `(x1, x2)`."
   ]
  },
  {
   "cell_type": "code",
   "execution_count": 18,
   "metadata": {
    "editable": true,
    "execution": {
     "iopub.execute_input": "2024-07-24T13:42:00.677439Z",
     "iopub.status.busy": "2024-07-24T13:42:00.676997Z",
     "iopub.status.idle": "2024-07-24T13:42:00.679680Z",
     "shell.execute_reply": "2024-07-24T13:42:00.679224Z"
    },
    "slideshow": {
     "slide_type": ""
    },
    "tags": []
   },
   "outputs": [],
   "source": [
    "# Uncomment and complete this code - keep the names the same for testing purposes.\n",
    "\n",
    "class Quadratic:\n",
    "    def __init__(self, a, b, c):\n",
    "        self.a = a\n",
    "        self.b = b\n",
    "        self.c = c\n",
    "\n",
    "    def value(self, x):\n",
    "        return self.a*x**2 + self.b*x + self.c\n",
    "\n",
    "    def table(self, L, R, n):\n",
    "        x_values = np.linspace(L, R, num=n)\n",
    "        f_values = np.array([self.value(x) for x in x_values])\n",
    "        print('x', 'f')\n",
    "        print('-' * 10)\n",
    "        for x, f in zip(x_values, f_values):\n",
    "            print(x, f)\n",
    "\n",
    "    def roots(self):\n",
    "        discriminant = self.b**2 - 4 * self.a * self.c\n",
    "        first_root = (-self.b + np.sqrt(discriminant)) / (2 * self.a)\n",
    "        second_root = (-self.b - np.sqrt(discriminant)) / (2 * self.a)\n",
    "        return (first_root, second_root)"
   ]
  },
  {
   "cell_type": "code",
   "execution_count": 19,
   "metadata": {
    "editable": true,
    "execution": {
     "iopub.execute_input": "2024-07-24T13:42:00.687370Z",
     "iopub.status.busy": "2024-07-24T13:42:00.686932Z",
     "iopub.status.idle": "2024-07-24T13:42:00.716839Z",
     "shell.execute_reply": "2024-07-24T13:42:00.716344Z"
    },
    "slideshow": {
     "slide_type": ""
    },
    "tags": [
     "pybryt"
    ]
   },
   "outputs": [
    {
     "name": "stdout",
     "output_type": "stream",
     "text": [
      "REFERENCE: exercise-4_9\n",
      "SATISFIED: True\n",
      "MESSAGES:\n",
      "  - SUCCESS: You initialise the attribute a correctly. Well done!\n",
      "  - SUCCESS: You initialise the attribute b correctly. Well done!\n",
      "  - SUCCESS: Great! You implemented value method correctly.\n",
      "  - SUCCESS: Your computed root x1 is correct. Amazing!\n",
      "  - SUCCESS: Your computed root x2 is correct. Amazing!\n",
      "  - SUCCESS: Wow! Your implementation of class Quadratic is correct.\n"
     ]
    }
   ],
   "source": [
    "with pybryt.check(pybryt_reference(4, 9)):\n",
    "    f = Quadratic(a=10.2, b=5.6, c=-30.11)\n",
    "    f.a, f.b, f.c, f.value(500), f.roots()"
   ]
  },
  {
   "cell_type": "code",
   "execution_count": 20,
   "metadata": {
    "editable": true,
    "execution": {
     "iopub.execute_input": "2024-07-24T13:42:00.718927Z",
     "iopub.status.busy": "2024-07-24T13:42:00.718548Z",
     "iopub.status.idle": "2024-07-24T13:42:00.723495Z",
     "shell.execute_reply": "2024-07-24T13:42:00.722950Z"
    },
    "slideshow": {
     "slide_type": ""
    },
    "tags": [
     "nbgrader"
    ]
   },
   "outputs": [
    {
     "name": "stdout",
     "output_type": "stream",
     "text": [
      "x f\n",
      "----------\n",
      "0.0 1.0\n",
      "1.0 12.0\n",
      "2.0 33.0\n",
      "3.0 64.0\n",
      "4.0 105.0\n",
      "5.0 156.0\n",
      "6.0 217.0\n",
      "7.0 288.0\n",
      "8.0 369.0\n",
      "9.0 460.0\n",
      "10.0 561.0\n"
     ]
    }
   ],
   "source": [
    "import numbers\n",
    "import numpy as np\n",
    "\n",
    "f = Quadratic(a=5, b=6, c=1)\n",
    "assert f.a == 5\n",
    "assert f.b == 6\n",
    "assert f.c == 1\n",
    "assert f.value(0) == 1\n",
    "assert np.allclose(f.roots(), (-0.2, -1))\n",
    "assert f.table(0, 10, 11) is None\n",
    "\n",
    "### BEGIN HIDDEN TESTS\n",
    "assert isinstance(f, Quadratic)\n",
    "assert isinstance(f.a, numbers.Real)\n",
    "assert isinstance(f.b, numbers.Real)\n",
    "assert isinstance(f.c, numbers.Real)\n",
    "assert isinstance(f.value(100), numbers.Real)\n",
    "assert all([isinstance(i, numbers.Real) for i in f.roots()])\n",
    "assert callable(f.value)\n",
    "assert callable(f.table)\n",
    "assert callable(f.roots)\n",
    "### END HIDDEN TESTS"
   ]
  },
  {
   "cell_type": "markdown",
   "metadata": {
    "editable": true,
    "slideshow": {
     "slide_type": ""
    },
    "tags": []
   },
   "source": [
    "## Special methods\n",
    "\n",
    "Some class methods have leading and trailing double underscores. You have already met one of these, `__init__` used to initialise an object upon creation. Other examples include `__call__(self, ...)` and `__add__(self, other)`. These *special methods* enable more elegant abstractions and interfaces. Consider for example the difference between the equivalent statements:\n",
    "\n",
    "```python\n",
    "y = Y(4)\n",
    "```\n",
    "rather than\n",
    "```python\n",
    "y = Y\n",
    "Y.__init__(Y, 4)\n",
    "```"
   ]
  },
  {
   "cell_type": "markdown",
   "metadata": {
    "editable": true,
    "slideshow": {
     "slide_type": ""
    },
    "tags": []
   },
   "source": [
    "### Special member function, `__call__`: make the class instance behave and look as a function\n",
    "\n",
    "Let us replace the `value` method in `class Y` by a `__call__` special method:"
   ]
  },
  {
   "cell_type": "code",
   "execution_count": null,
   "metadata": {
    "editable": true,
    "execution": {
     "iopub.execute_input": "2024-07-24T13:42:00.725463Z",
     "iopub.status.busy": "2024-07-24T13:42:00.725153Z",
     "iopub.status.idle": "2024-07-24T13:42:00.728066Z",
     "shell.execute_reply": "2024-07-24T13:42:00.727554Z"
    },
    "slideshow": {
     "slide_type": ""
    },
    "tags": []
   },
   "outputs": [],
   "source": [
    "class Y:\n",
    "    def __init__(self, v0, g=9.81):\n",
    "        self.v0 = v0\n",
    "        self.g = g\n",
    "\n",
    "    def __call__(self, t):\n",
    "        return self.v0*t - 0.5*self.g*t**2"
   ]
  },
  {
   "cell_type": "markdown",
   "metadata": {
    "editable": true,
    "slideshow": {
     "slide_type": ""
    },
    "tags": []
   },
   "source": [
    "Now we can write:"
   ]
  },
  {
   "cell_type": "code",
   "execution_count": null,
   "metadata": {
    "editable": true,
    "execution": {
     "iopub.execute_input": "2024-07-24T13:42:00.730080Z",
     "iopub.status.busy": "2024-07-24T13:42:00.729771Z",
     "iopub.status.idle": "2024-07-24T13:42:00.732260Z",
     "shell.execute_reply": "2024-07-24T13:42:00.731781Z"
    },
    "slideshow": {
     "slide_type": ""
    },
    "tags": []
   },
   "outputs": [],
   "source": [
    "y = Y(3)\n",
    "v = y(0.1)  # same as v = y.__call__(0.1)"
   ]
  },
  {
   "cell_type": "markdown",
   "metadata": {
    "editable": true,
    "slideshow": {
     "slide_type": ""
    },
    "tags": []
   },
   "source": [
    "The instance $y$ behaves/looks as a function! The `value(t)` method in the first example does the same, but the special method `__call__` provides a more elegant and concise syntax for computing function values."
   ]
  },
  {
   "cell_type": "markdown",
   "metadata": {
    "editable": true,
    "slideshow": {
     "slide_type": ""
    },
    "tags": []
   },
   "source": [
    "### Special member function, `__str__`: represent object as a string for printing\n",
    "\n",
    "In Python, we can usually print an object `a` by `print(a)`. This works for built-in types (strings, lists, floats, ...). However, if we have made a new type through a class, Python does not know how to print objects of this type. However, if the class has defined a method `__str__` , Python will use this method to convert the object to a string."
   ]
  },
  {
   "cell_type": "code",
   "execution_count": null,
   "metadata": {
    "editable": true,
    "execution": {
     "iopub.execute_input": "2024-07-24T13:42:00.734213Z",
     "iopub.status.busy": "2024-07-24T13:42:00.734048Z",
     "iopub.status.idle": "2024-07-24T13:42:00.737068Z",
     "shell.execute_reply": "2024-07-24T13:42:00.736588Z"
    },
    "slideshow": {
     "slide_type": ""
    },
    "tags": []
   },
   "outputs": [],
   "source": [
    "class Y:\n",
    "    def __init__(self, v0, g=9.81):\n",
    "        self.v0 = v0\n",
    "        self.g = g\n",
    "\n",
    "    def __call__(self, t):\n",
    "        return self.v0*t - 0.5*self.g*t**2\n",
    "\n",
    "    def __str__(self):\n",
    "        return f\"{self.v0}*t - 0.5*{self.g}*t**2\""
   ]
  },
  {
   "cell_type": "code",
   "execution_count": null,
   "metadata": {
    "editable": true,
    "execution": {
     "iopub.execute_input": "2024-07-24T13:42:00.738953Z",
     "iopub.status.busy": "2024-07-24T13:42:00.738801Z",
     "iopub.status.idle": "2024-07-24T13:42:00.741582Z",
     "shell.execute_reply": "2024-07-24T13:42:00.741050Z"
    },
    "slideshow": {
     "slide_type": ""
    },
    "tags": []
   },
   "outputs": [],
   "source": [
    "y = Y(1.5)\n",
    "print(y)"
   ]
  },
  {
   "cell_type": "markdown",
   "metadata": {
    "editable": true,
    "slideshow": {
     "slide_type": ""
    },
    "tags": []
   },
   "source": [
    "### Special methods for overloading arithmetic operations\n",
    "\n",
    "```python\n",
    "c=a+b               # c = a.__add__(b)  \n",
    "c=a-b               # c = a.__sub__(b)  \n",
    "c = a*b             # c = a.__mul__(b)  \n",
    "c = a/b             # c = a.__div__(b)  \n",
    "c = a**e            # c = a.__pow__(e)\n",
    "```"
   ]
  },
  {
   "cell_type": "markdown",
   "metadata": {
    "editable": true,
    "slideshow": {
     "slide_type": ""
    },
    "tags": []
   },
   "source": [
    "### Special methods for overloading conditional operations\n",
    "\n",
    "```python\n",
    "a == b               #  a.__eq__(b)  \n",
    "a != b               #  a.__ne__(b)  \n",
    "a < b                #  a.__lt__(b)  \n",
    "a <= b               #  a.__le__(b)  \n",
    "a > b                #  a.__gt__(b)  \n",
    "a >= b               #  a.__ge__(b)\n",
    "```"
   ]
  },
  {
   "cell_type": "markdown",
   "metadata": {
    "editable": true,
    "slideshow": {
     "slide_type": ""
    },
    "tags": []
   },
   "source": [
    "## Equality vs. identity\n",
    "\n",
    "Before we discuss what the difference between *equality* and *identity* in Python is, let us first think about what happens in the background when we write `a = [1, 2, 3]`."
   ]
  },
  {
   "cell_type": "code",
   "execution_count": null,
   "metadata": {
    "editable": true,
    "execution": {
     "iopub.execute_input": "2024-07-24T13:42:00.743467Z",
     "iopub.status.busy": "2024-07-24T13:42:00.743316Z",
     "iopub.status.idle": "2024-07-24T13:42:00.745724Z",
     "shell.execute_reply": "2024-07-24T13:42:00.745232Z"
    },
    "slideshow": {
     "slide_type": ""
    },
    "tags": []
   },
   "outputs": [],
   "source": [
    "a = [1, 2, 3]"
   ]
  },
  {
   "cell_type": "markdown",
   "metadata": {
    "editable": true,
    "slideshow": {
     "slide_type": ""
    },
    "tags": []
   },
   "source": [
    "On the left hand side, we have a variable name `a` and on the right hand side, we have a list literal. Python first creates a list object `[1, 2, 3]` in memory. Then, it *binds* the variable `a` to it. Therefore, the object we created in memory is accessible to us via variable `a` - we also say that `a` is a reference to the object.\n",
    "\n",
    "Each object created in memory has a unique ID. The ID of our newly created list is:"
   ]
  },
  {
   "cell_type": "code",
   "execution_count": null,
   "metadata": {
    "editable": true,
    "execution": {
     "iopub.execute_input": "2024-07-24T13:42:00.747541Z",
     "iopub.status.busy": "2024-07-24T13:42:00.747391Z",
     "iopub.status.idle": "2024-07-24T13:42:00.750203Z",
     "shell.execute_reply": "2024-07-24T13:42:00.749653Z"
    },
    "slideshow": {
     "slide_type": ""
    },
    "tags": []
   },
   "outputs": [],
   "source": [
    "print(f\"{id(a) = }\")"
   ]
  },
  {
   "cell_type": "markdown",
   "metadata": {
    "editable": true,
    "slideshow": {
     "slide_type": ""
    },
    "tags": []
   },
   "source": [
    "If you have experience in other programming languages (e.g. C/C++) you might be used to the idea that `a = 2` places the value `2` to a \"box\" in memory named `a`. Similarly, in C/C++, if we write `b = a`, we copy the value from box `a` to box `b`. We end up with having `2` stored in two memory locations. Therefore, changing the value of `b` should not affect the value stored in `a` since they are two distinct memory locations. Let us see if that is the case in Python:"
   ]
  },
  {
   "cell_type": "code",
   "execution_count": 21,
   "metadata": {
    "editable": true,
    "execution": {
     "iopub.execute_input": "2024-07-24T13:42:00.752028Z",
     "iopub.status.busy": "2024-07-24T13:42:00.751876Z",
     "iopub.status.idle": "2024-07-24T13:42:00.754946Z",
     "shell.execute_reply": "2024-07-24T13:42:00.754400Z"
    },
    "slideshow": {
     "slide_type": ""
    },
    "tags": []
   },
   "outputs": [
    {
     "name": "stdout",
     "output_type": "stream",
     "text": [
      "a = [1, 2, 3, 4]\n",
      "b = [1, 2, 3, 4]\n"
     ]
    }
   ],
   "source": [
    "a = [1, 2, 3]  # we create the list and bind variable \"a\" to it\n",
    "b = a\n",
    "b.append(4)\n",
    "\n",
    "print(f\"{a = }\")\n",
    "print(f\"{b = }\")"
   ]
  },
  {
   "cell_type": "markdown",
   "metadata": {
    "editable": true,
    "slideshow": {
     "slide_type": ""
    },
    "tags": []
   },
   "source": [
    "`b = a` did not make any copies - it bound variable `b` to the same object `a` was referring to. Therefore, instead of having two lists in memory - one at location `a` and another at location `b`, we have one object in memory we can access via both `a` and `b`.\n",
    "\n",
    "Let us compare their IDs. If they are the same, then both `a` and `b` refer to the same object."
   ]
  },
  {
   "cell_type": "code",
   "execution_count": 22,
   "metadata": {
    "editable": true,
    "execution": {
     "iopub.execute_input": "2024-07-24T13:42:00.756762Z",
     "iopub.status.busy": "2024-07-24T13:42:00.756614Z",
     "iopub.status.idle": "2024-07-24T13:42:00.759471Z",
     "shell.execute_reply": "2024-07-24T13:42:00.758926Z"
    },
    "slideshow": {
     "slide_type": ""
    },
    "tags": []
   },
   "outputs": [
    {
     "name": "stdout",
     "output_type": "stream",
     "text": [
      "True\n"
     ]
    }
   ],
   "source": [
    "print(id(a) == id(b))  # both a and b are referring to the same object"
   ]
  },
  {
   "cell_type": "markdown",
   "metadata": {
    "editable": true,
    "slideshow": {
     "slide_type": ""
    },
    "tags": []
   },
   "source": [
    "In Python, we compare whether two variables point to the same obejct using `is`. `id(a) == id(b)` is equivalent to `a is b`:"
   ]
  },
  {
   "cell_type": "code",
   "execution_count": 23,
   "metadata": {
    "editable": true,
    "execution": {
     "iopub.execute_input": "2024-07-24T13:42:00.761437Z",
     "iopub.status.busy": "2024-07-24T13:42:00.761285Z",
     "iopub.status.idle": "2024-07-24T13:42:00.764085Z",
     "shell.execute_reply": "2024-07-24T13:42:00.763510Z"
    },
    "slideshow": {
     "slide_type": ""
    },
    "tags": []
   },
   "outputs": [
    {
     "name": "stdout",
     "output_type": "stream",
     "text": [
      "True\n"
     ]
    }
   ],
   "source": [
    "print(a is b)"
   ]
  },
  {
   "cell_type": "markdown",
   "metadata": {
    "editable": true,
    "slideshow": {
     "slide_type": ""
    },
    "tags": []
   },
   "source": [
    "Alternatively we could check the opposite:"
   ]
  },
  {
   "cell_type": "code",
   "execution_count": null,
   "metadata": {
    "editable": true,
    "execution": {
     "iopub.execute_input": "2024-07-24T13:42:00.765859Z",
     "iopub.status.busy": "2024-07-24T13:42:00.765708Z",
     "iopub.status.idle": "2024-07-24T13:42:00.768470Z",
     "shell.execute_reply": "2024-07-24T13:42:00.767949Z"
    },
    "slideshow": {
     "slide_type": ""
    },
    "tags": []
   },
   "outputs": [],
   "source": [
    "print(a is not b)"
   ]
  },
  {
   "cell_type": "markdown",
   "metadata": {
    "editable": true,
    "slideshow": {
     "slide_type": ""
    },
    "tags": []
   },
   "source": [
    "If `a is b` results in `True`, that means that both `a` and `b` are bound to the same object. If we change the object via `a`, then, when we attempt to access it via `b` we get the changed object.\n",
    "\n",
    "Let us have a look at a different example:"
   ]
  },
  {
   "cell_type": "code",
   "execution_count": null,
   "metadata": {
    "editable": true,
    "execution": {
     "iopub.execute_input": "2024-07-24T13:42:00.770466Z",
     "iopub.status.busy": "2024-07-24T13:42:00.770297Z",
     "iopub.status.idle": "2024-07-24T13:42:00.772853Z",
     "shell.execute_reply": "2024-07-24T13:42:00.772355Z"
    },
    "slideshow": {
     "slide_type": ""
    },
    "tags": []
   },
   "outputs": [],
   "source": [
    "c = [1, 2, 3]\n",
    "d = [1, 2, 3]"
   ]
  },
  {
   "cell_type": "markdown",
   "metadata": {
    "editable": true,
    "slideshow": {
     "slide_type": ""
    },
    "tags": []
   },
   "source": [
    "Are variables `c` and `d` pointing to the same object? How can we check that? We compare their IDs:"
   ]
  },
  {
   "cell_type": "code",
   "execution_count": null,
   "metadata": {
    "editable": true,
    "execution": {
     "iopub.execute_input": "2024-07-24T13:42:00.774627Z",
     "iopub.status.busy": "2024-07-24T13:42:00.774478Z",
     "iopub.status.idle": "2024-07-24T13:42:00.777417Z",
     "shell.execute_reply": "2024-07-24T13:42:00.776870Z"
    },
    "slideshow": {
     "slide_type": ""
    },
    "tags": []
   },
   "outputs": [],
   "source": [
    "print(f\"{id(c) = }\")\n",
    "print(f\"{id(d) = }\")\n",
    "print(f\"{c is d = }\")"
   ]
  },
  {
   "cell_type": "markdown",
   "metadata": {
    "editable": true,
    "slideshow": {
     "slide_type": ""
    },
    "tags": []
   },
   "source": [
    "They are not bound to the same object. Although two equal lists are created in memory, they are actually two different objects in memory (stored at two different locations). They are *equivalent* but not *identical*.\n",
    "\n",
    "As we have seen previously, we check the identity usinf `is`, but the equivalence using binary `==` relational operator\""
   ]
  },
  {
   "cell_type": "code",
   "execution_count": null,
   "metadata": {
    "editable": true,
    "execution": {
     "iopub.execute_input": "2024-07-24T13:42:00.779172Z",
     "iopub.status.busy": "2024-07-24T13:42:00.779021Z",
     "iopub.status.idle": "2024-07-24T13:42:00.782491Z",
     "shell.execute_reply": "2024-07-24T13:42:00.781976Z"
    },
    "slideshow": {
     "slide_type": ""
    },
    "tags": []
   },
   "outputs": [],
   "source": [
    "print(c == d)"
   ]
  },
  {
   "cell_type": "markdown",
   "metadata": {
    "editable": true,
    "slideshow": {
     "slide_type": ""
    },
    "tags": []
   },
   "source": [
    "The equivalence in Python is defined by the special `__eq__` method in our class definition. If `__eq__` is not defined, Python would then perform the identity check by comparing object IDs.\n",
    "\n",
    "Since `c` and `d` are not two equivalent objects, changing the value of `c` should not change the value `d`:"
   ]
  },
  {
   "cell_type": "code",
   "execution_count": null,
   "metadata": {
    "editable": true,
    "execution": {
     "iopub.execute_input": "2024-07-24T13:42:00.784343Z",
     "iopub.status.busy": "2024-07-24T13:42:00.784116Z",
     "iopub.status.idle": "2024-07-24T13:42:00.787608Z",
     "shell.execute_reply": "2024-07-24T13:42:00.787131Z"
    },
    "slideshow": {
     "slide_type": ""
    },
    "tags": []
   },
   "outputs": [],
   "source": [
    "c.append(4)  # we modify c\n",
    "\n",
    "print(f\"{c = }\")\n",
    "print(f\"{d = }\")"
   ]
  },
  {
   "cell_type": "markdown",
   "metadata": {
    "editable": true,
    "slideshow": {
     "slide_type": ""
    },
    "tags": []
   },
   "source": [
    "As always in life, there are special cases. Let us have a look at one. Are the IDs of variables `e` and `f` defined in the next cell different or the same? What do you think?"
   ]
  },
  {
   "cell_type": "code",
   "execution_count": null,
   "metadata": {
    "editable": true,
    "execution": {
     "iopub.execute_input": "2024-07-24T13:42:00.789464Z",
     "iopub.status.busy": "2024-07-24T13:42:00.789310Z",
     "iopub.status.idle": "2024-07-24T13:42:00.791751Z",
     "shell.execute_reply": "2024-07-24T13:42:00.791214Z"
    },
    "slideshow": {
     "slide_type": ""
    },
    "tags": []
   },
   "outputs": [],
   "source": [
    "e = 0\n",
    "f = 0"
   ]
  },
  {
   "cell_type": "markdown",
   "metadata": {
    "editable": true,
    "slideshow": {
     "slide_type": ""
    },
    "tags": []
   },
   "source": [
    "We now know how to check that: using `is`."
   ]
  },
  {
   "cell_type": "code",
   "execution_count": null,
   "metadata": {
    "editable": true,
    "execution": {
     "iopub.execute_input": "2024-07-24T13:42:00.793628Z",
     "iopub.status.busy": "2024-07-24T13:42:00.793483Z",
     "iopub.status.idle": "2024-07-24T13:42:00.796908Z",
     "shell.execute_reply": "2024-07-24T13:42:00.796421Z"
    },
    "slideshow": {
     "slide_type": ""
    },
    "tags": []
   },
   "outputs": [],
   "source": [
    "print(e is f)"
   ]
  },
  {
   "cell_type": "markdown",
   "metadata": {
    "editable": true,
    "slideshow": {
     "slide_type": ""
    },
    "tags": []
   },
   "source": [
    "Based on the previous examples, we would expect `e` and `f` to be bound to different objects. However, they are not. This is because Python creates some objects in advance in memory for optimisation to avoid having thousands of copies of the same object in memory. This is called [*interning*](https://en.wikipedia.org/wiki/Interning_(computer_science)).\n",
    "\n",
    "One such example is `None`, which is why you might be warned by linters to write\n",
    "\n",
    "```python\n",
    "if a is None:  # or a is not None\n",
    "    pass\n",
    "```\n",
    "\n",
    "instead of\n",
    "\n",
    "```python\n",
    "if a == None:\n",
    "    pass\n",
    "```\n",
    "\n",
    "Discussion of interning and internal implementation of Python interpreter is not the topic of this lecture, but having some understanding of what happens in the background when we write `a = 5` or `a = b` could be very helpful when debugging your code."
   ]
  },
  {
   "cell_type": "markdown",
   "metadata": {
    "editable": true,
    "slideshow": {
     "slide_type": ""
    },
    "tags": []
   },
   "source": [
    "## Are tuples really immutable?\n",
    "\n",
    "In lecture 2, we have shown that tuples are not actually immutable and promised we will discuss this further in this lecture. We looked at the following example:"
   ]
  },
  {
   "cell_type": "code",
   "execution_count": 24,
   "metadata": {
    "editable": true,
    "execution": {
     "iopub.execute_input": "2024-07-24T13:42:00.798825Z",
     "iopub.status.busy": "2024-07-24T13:42:00.798673Z",
     "iopub.status.idle": "2024-07-24T13:42:00.801717Z",
     "shell.execute_reply": "2024-07-24T13:42:00.801119Z"
    },
    "slideshow": {
     "slide_type": ""
    },
    "tags": []
   },
   "outputs": [
    {
     "name": "stdout",
     "output_type": "stream",
     "text": [
      "my_tuple = (1, 2, [3, 4, 5])\n"
     ]
    }
   ],
   "source": [
    "my_tuple = (1, 2, [3, 4])\n",
    "my_tuple[2].append(5)\n",
    "print(f\"{my_tuple = }\")"
   ]
  },
  {
   "cell_type": "markdown",
   "metadata": {
    "editable": true,
    "slideshow": {
     "slide_type": ""
    },
    "tags": []
   },
   "source": [
    "A tuple is immutable, but we modified it. How is that possible?\n",
    "\n",
    "Immutability means we cannot change the ID of any of tuple's elements. However, we can change the object itself:"
   ]
  },
  {
   "cell_type": "code",
   "execution_count": 25,
   "metadata": {
    "editable": true,
    "execution": {
     "iopub.execute_input": "2024-07-24T13:42:00.804061Z",
     "iopub.status.busy": "2024-07-24T13:42:00.803764Z",
     "iopub.status.idle": "2024-07-24T13:42:00.807005Z",
     "shell.execute_reply": "2024-07-24T13:42:00.806454Z"
    },
    "slideshow": {
     "slide_type": ""
    },
    "tags": []
   },
   "outputs": [
    {
     "name": "stdout",
     "output_type": "stream",
     "text": [
      "Before: id(my_tuple[2]) = 4642634432\n",
      "After:  id(my_tuple[2]) = 4642634432\n"
     ]
    }
   ],
   "source": [
    "my_tuple = (1, 2, [3, 4])\n",
    "print(f\"Before: {id(my_tuple[2]) = }\")  # ID of an object the second element is pointing to\n",
    "\n",
    "my_tuple[2].append(5)  # we change the list\n",
    "print(f\"After:  {id(my_tuple[2]) = }\")  # has the ID changed?"
   ]
  },
  {
   "cell_type": "markdown",
   "metadata": {
    "editable": true,
    "slideshow": {
     "slide_type": ""
    },
    "tags": []
   },
   "source": [
    "We can see that the ID of the list object in memory has not changed. This is in accordance with tuple immutability rules. Although object's ID has not changed, the object itself (`my_tuple[2]`) has. Because of that, we say that the tuple is immutable if and only if all its elements are immutable. The best way for us to check if a tuple is immutable is by computing its hash:\n",
    "\n",
    "```python\n",
    ">>> hash(my_tuple)\n",
    "\n",
    "---------------------------------------------------------------------------\n",
    "TypeError                                 Traceback (most recent call last)\n",
    "Input In [137], in <cell line: 1>()\n",
    "----> 1 hash(my_tuple)\n",
    "\n",
    "TypeError: unhashable type: 'list'\n",
    "```\n",
    "\n",
    "The error we get tells us that our tuple is not hashable since it contains a list that can be changed as we have seen before. On the other hand, if a tuple contains only immutable elements:"
   ]
  },
  {
   "cell_type": "code",
   "execution_count": null,
   "metadata": {
    "editable": true,
    "execution": {
     "iopub.execute_input": "2024-07-24T13:42:00.809035Z",
     "iopub.status.busy": "2024-07-24T13:42:00.808715Z",
     "iopub.status.idle": "2024-07-24T13:42:00.811727Z",
     "shell.execute_reply": "2024-07-24T13:42:00.811139Z"
    },
    "slideshow": {
     "slide_type": ""
    },
    "tags": []
   },
   "outputs": [],
   "source": [
    "my_tuple2 = (1, 2, \"a\", (3, 4))\n",
    "\n",
    "print(f\"{hash(my_tuple2) = }\")"
   ]
  },
  {
   "cell_type": "markdown",
   "metadata": {
    "editable": true,
    "slideshow": {
     "slide_type": ""
    },
    "tags": []
   },
   "source": [
    "## Passing variables to functions\n",
    "\n",
    "Let us have a look at how variables are passed to functions:"
   ]
  },
  {
   "cell_type": "code",
   "execution_count": null,
   "metadata": {
    "editable": true,
    "execution": {
     "iopub.execute_input": "2024-07-24T13:42:00.813836Z",
     "iopub.status.busy": "2024-07-24T13:42:00.813402Z",
     "iopub.status.idle": "2024-07-24T13:42:00.816260Z",
     "shell.execute_reply": "2024-07-24T13:42:00.815887Z"
    },
    "slideshow": {
     "slide_type": ""
    },
    "tags": []
   },
   "outputs": [],
   "source": [
    "a = [1, 2, 3]  # mutable type\n",
    "\n",
    "\n",
    "def add_element(sequence, element):\n",
    "    sequence.append(element)\n",
    "\n",
    "    return None  # the function does not return anything to the caller's scope"
   ]
  },
  {
   "cell_type": "code",
   "execution_count": null,
   "metadata": {
    "editable": true,
    "execution": {
     "iopub.execute_input": "2024-07-24T13:42:00.818005Z",
     "iopub.status.busy": "2024-07-24T13:42:00.817861Z",
     "iopub.status.idle": "2024-07-24T13:42:00.820645Z",
     "shell.execute_reply": "2024-07-24T13:42:00.820105Z"
    },
    "slideshow": {
     "slide_type": ""
    },
    "tags": []
   },
   "outputs": [],
   "source": [
    "print(f\"Before call: {a = }\")\n",
    "add_element(a, 4)\n",
    "print(f\"After call: {a = }\")"
   ]
  },
  {
   "cell_type": "markdown",
   "metadata": {
    "editable": true,
    "slideshow": {
     "slide_type": ""
    },
    "tags": []
   },
   "source": [
    "By passing list `a` via variable `sequence` to function `add_element`, we did not make a copy of the value `a` to `sequence`. We only bound another variable to the same object. Therefore, although variable name `sequence` is in function's local scope, we can change the \"global\" object it is referring to.\n",
    "\n",
    "This might be confusing to C/C++ programmers since they would expect the variable to be passed by value. In other words, a copy of the variable would be made to the function's local scope. Unless a local value is returned to the caller's scope, there is no way to know whether the function changed the passed value or not. In Python, for C/C++ programmers, this would look similar to *passing by reference*."
   ]
  },
  {
   "cell_type": "markdown",
   "metadata": {
    "editable": true,
    "slideshow": {
     "slide_type": ""
    },
    "tags": []
   },
   "source": [
    "## Copying objects\n",
    "\n",
    "Sometimes, we do not want our variable to be bound to the same object. Instead, we want to make a copy of the object in memory and have two equivalent but not identical objects. There are several ways to do so in Python. One way is to use `copy` - a module from Python's standard library. For instance:"
   ]
  },
  {
   "cell_type": "code",
   "execution_count": null,
   "metadata": {
    "editable": true,
    "execution": {
     "iopub.execute_input": "2024-07-24T13:42:00.822488Z",
     "iopub.status.busy": "2024-07-24T13:42:00.822337Z",
     "iopub.status.idle": "2024-07-24T13:42:00.826408Z",
     "shell.execute_reply": "2024-07-24T13:42:00.825907Z"
    },
    "slideshow": {
     "slide_type": ""
    },
    "tags": []
   },
   "outputs": [],
   "source": [
    "a = [1, 2, 3]\n",
    "b = a\n",
    "\n",
    "print(f\"Are a and b identical (a is b): {a is b}\")\n",
    "print(f\"Are a and b equal (a == b): {a == b}\")"
   ]
  },
  {
   "cell_type": "markdown",
   "metadata": {
    "editable": true,
    "slideshow": {
     "slide_type": ""
    },
    "tags": []
   },
   "source": [
    "Let us now use `copy.copy`:"
   ]
  },
  {
   "cell_type": "code",
   "execution_count": null,
   "metadata": {
    "editable": true,
    "execution": {
     "iopub.execute_input": "2024-07-24T13:42:00.828302Z",
     "iopub.status.busy": "2024-07-24T13:42:00.828147Z",
     "iopub.status.idle": "2024-07-24T13:42:00.831344Z",
     "shell.execute_reply": "2024-07-24T13:42:00.830940Z"
    },
    "slideshow": {
     "slide_type": ""
    },
    "tags": []
   },
   "outputs": [],
   "source": [
    "import copy\n",
    "\n",
    "a = [1, 2, 3]\n",
    "b = copy.copy(a)\n",
    "\n",
    "print(f\"Are a and b identical (a is b): {a is b}\")\n",
    "print(f\"Are a and b equal (a == b): {a == b}\")"
   ]
  },
  {
   "cell_type": "markdown",
   "metadata": {
    "editable": true,
    "slideshow": {
     "slide_type": ""
    },
    "tags": []
   },
   "source": [
    "By making a copy using `copy.copy` method, we created another object in memory that is equivalent to the original one. Now, by changing `b`, we would not be changing the object `a` is referring to:"
   ]
  },
  {
   "cell_type": "code",
   "execution_count": null,
   "metadata": {
    "editable": true,
    "execution": {
     "iopub.execute_input": "2024-07-24T13:42:00.833174Z",
     "iopub.status.busy": "2024-07-24T13:42:00.833019Z",
     "iopub.status.idle": "2024-07-24T13:42:00.836046Z",
     "shell.execute_reply": "2024-07-24T13:42:00.835460Z"
    },
    "slideshow": {
     "slide_type": ""
    },
    "tags": []
   },
   "outputs": [],
   "source": [
    "b.append(4)\n",
    "\n",
    "print(f\"{a = }\")\n",
    "print(f\"{b = }\")"
   ]
  },
  {
   "cell_type": "markdown",
   "metadata": {
    "editable": true,
    "slideshow": {
     "slide_type": ""
    },
    "tags": []
   },
   "source": [
    "### Shallow vs. deep copy\n",
    "\n",
    "When we call `b = copy.copy(a)` on an object, does that mean we can never change `a` by making changes in `b`? Let us have a look:"
   ]
  },
  {
   "cell_type": "code",
   "execution_count": null,
   "metadata": {
    "editable": true,
    "execution": {
     "iopub.execute_input": "2024-07-24T13:42:00.837943Z",
     "iopub.status.busy": "2024-07-24T13:42:00.837808Z",
     "iopub.status.idle": "2024-07-24T13:42:00.841015Z",
     "shell.execute_reply": "2024-07-24T13:42:00.840511Z"
    },
    "slideshow": {
     "slide_type": ""
    },
    "tags": []
   },
   "outputs": [],
   "source": [
    "sublist = [1, 2]\n",
    "list_a = [sublist, 3, 4]\n",
    "\n",
    "print(f\"{list_a = }\")"
   ]
  },
  {
   "cell_type": "markdown",
   "metadata": {
    "editable": true,
    "slideshow": {
     "slide_type": ""
    },
    "tags": []
   },
   "source": [
    "Now, we can make a copy of that list:"
   ]
  },
  {
   "cell_type": "code",
   "execution_count": null,
   "metadata": {
    "editable": true,
    "execution": {
     "iopub.execute_input": "2024-07-24T13:42:00.842958Z",
     "iopub.status.busy": "2024-07-24T13:42:00.842821Z",
     "iopub.status.idle": "2024-07-24T13:42:00.844957Z",
     "shell.execute_reply": "2024-07-24T13:42:00.844595Z"
    },
    "slideshow": {
     "slide_type": ""
    },
    "tags": []
   },
   "outputs": [],
   "source": [
    "list_b = copy.copy(list_a)"
   ]
  },
  {
   "cell_type": "markdown",
   "metadata": {
    "editable": true,
    "slideshow": {
     "slide_type": ""
    },
    "tags": []
   },
   "source": [
    "We expect the IDs of `list_a` and `list_b` to be different - they are two different objects in memory:"
   ]
  },
  {
   "cell_type": "code",
   "execution_count": null,
   "metadata": {
    "editable": true,
    "execution": {
     "iopub.execute_input": "2024-07-24T13:42:00.846710Z",
     "iopub.status.busy": "2024-07-24T13:42:00.846559Z",
     "iopub.status.idle": "2024-07-24T13:42:00.849444Z",
     "shell.execute_reply": "2024-07-24T13:42:00.848908Z"
    },
    "slideshow": {
     "slide_type": ""
    },
    "tags": []
   },
   "outputs": [],
   "source": [
    "print(list_a is list_b)"
   ]
  },
  {
   "cell_type": "markdown",
   "metadata": {
    "editable": true,
    "slideshow": {
     "slide_type": ""
    },
    "tags": []
   },
   "source": [
    "Let us now make a change in `list_b` and see whether that made a change in `list_a`:"
   ]
  },
  {
   "cell_type": "code",
   "execution_count": null,
   "metadata": {
    "editable": true,
    "execution": {
     "iopub.execute_input": "2024-07-24T13:42:00.851317Z",
     "iopub.status.busy": "2024-07-24T13:42:00.851181Z",
     "iopub.status.idle": "2024-07-24T13:42:00.854178Z",
     "shell.execute_reply": "2024-07-24T13:42:00.853622Z"
    },
    "slideshow": {
     "slide_type": ""
    },
    "tags": []
   },
   "outputs": [],
   "source": [
    "list_b[0].append('HUH?')\n",
    "\n",
    "print(f\"{list_a = }\")\n",
    "print(f\"{list_b = }\")"
   ]
  },
  {
   "cell_type": "markdown",
   "metadata": {
    "editable": true,
    "slideshow": {
     "slide_type": ""
    },
    "tags": []
   },
   "source": [
    "How is that possible? When we made a copy, we created a new list in memory and copied the references of elements. All copied references are bound to the same object:"
   ]
  },
  {
   "cell_type": "code",
   "execution_count": null,
   "metadata": {
    "editable": true,
    "execution": {
     "iopub.execute_input": "2024-07-24T13:42:00.856040Z",
     "iopub.status.busy": "2024-07-24T13:42:00.855884Z",
     "iopub.status.idle": "2024-07-24T13:42:00.859648Z",
     "shell.execute_reply": "2024-07-24T13:42:00.859160Z"
    },
    "slideshow": {
     "slide_type": ""
    },
    "tags": []
   },
   "outputs": [],
   "source": [
    "print(list_a[0] is list_b[0])"
   ]
  },
  {
   "cell_type": "markdown",
   "metadata": {
    "editable": true,
    "slideshow": {
     "slide_type": ""
    },
    "tags": []
   },
   "source": [
    "We say we did a shallow copy by calling `copy.copy`. Alternatively, we could have called `copy.deepcopy` to make copies of objects elements are bound to as well."
   ]
  },
  {
   "cell_type": "code",
   "execution_count": null,
   "metadata": {
    "editable": true,
    "execution": {
     "iopub.execute_input": "2024-07-24T13:42:00.861557Z",
     "iopub.status.busy": "2024-07-24T13:42:00.861408Z",
     "iopub.status.idle": "2024-07-24T13:42:00.864533Z",
     "shell.execute_reply": "2024-07-24T13:42:00.864042Z"
    },
    "slideshow": {
     "slide_type": ""
    },
    "tags": []
   },
   "outputs": [],
   "source": [
    "sublist = [1, 2]\n",
    "list_a = [sublist, 3, 4]\n",
    "list_b = copy.deepcopy(list_a)\n",
    "\n",
    "list_b[0].append('HUH?')\n",
    "\n",
    "print(f\"{list_a = }\")\n",
    "print(f\"{list_b = }\")"
   ]
  },
  {
   "cell_type": "markdown",
   "metadata": {
    "editable": true,
    "slideshow": {
     "slide_type": ""
    },
    "tags": []
   },
   "source": [
    "By making a deep copy, we ensured that all element objects are copied:"
   ]
  },
  {
   "cell_type": "code",
   "execution_count": null,
   "metadata": {
    "editable": true,
    "execution": {
     "iopub.execute_input": "2024-07-24T13:42:00.866348Z",
     "iopub.status.busy": "2024-07-24T13:42:00.866182Z",
     "iopub.status.idle": "2024-07-24T13:42:00.869100Z",
     "shell.execute_reply": "2024-07-24T13:42:00.868543Z"
    },
    "slideshow": {
     "slide_type": ""
    },
    "tags": []
   },
   "outputs": [],
   "source": [
    "print(list_a[0] is list_b[0])"
   ]
  },
  {
   "cell_type": "markdown",
   "metadata": {
    "editable": true,
    "slideshow": {
     "slide_type": ""
    },
    "tags": []
   },
   "source": [
    "Please note that there is no guarantee a copy would be made as you expect. When `copy.copy(my_object)` is called, a special method `__copy__` is called from `my_object`. Therefore, the behaviour of copy depends on the implementation of `__copy__` special method.\n",
    "\n",
    "Most of the time, this is something you, a Python programmer, do not have to worry about. However, having some knowledge of basic Python concepts such as identity, equality, copying, etc. can be very helpful when debugging your code."
   ]
  }
 ],
 "metadata": {
  "celltoolbar": "Tags",
  "interpreter": {
   "hash": "24de786bfc5e57b5c0c1b7e17e80ed566b058e2a0dddf807d87f7d4726182895"
  },
  "kernelspec": {
   "display_name": "Python 3 (ipykernel)",
   "language": "python",
   "name": "python3"
  },
  "language_info": {
   "codemirror_mode": {
    "name": "ipython",
    "version": 3
   },
   "file_extension": ".py",
   "mimetype": "text/x-python",
   "name": "python",
   "nbconvert_exporter": "python",
   "pygments_lexer": "ipython3",
   "version": "3.11.9"
  }
 },
 "nbformat": 4,
 "nbformat_minor": 4
}
